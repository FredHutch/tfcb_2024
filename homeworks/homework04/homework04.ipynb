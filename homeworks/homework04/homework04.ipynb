{
 "cells": [
  {
   "attachments": {},
   "cell_type": "markdown",
   "metadata": {},
   "source": [
    "# __Homework 4:__ Practical analysis with BioPython"
   ]
  },
  {
   "attachments": {},
   "cell_type": "markdown",
   "metadata": {},
   "source": [
    "For the homework, you are going to extend the code from the analysis of our FASTQ file in lectures 8 and 9.\n",
    "Recall that the FASTQ file contains reads from a real sequencing run of influenza virus HA and NA genes.\n",
    "\n",
    "---\n",
    "The __actual sequences__ are as follows:\n",
    "\n",
    "    5'-[end of HA]-AGGCGGCCGC-[16 X N barcode]-3'\n",
    "or \n",
    "\n",
    "    5'-[end of NA]-AGGCGGCCGC-[16 X N barcode]-3'\n",
    "---\n",
    "\n",
    "\n",
    "__The end of NA is__ `...CACGATAGATAAATAATAGTGCACCAT`\n",
    "    \n",
    "__The end of HA is__ `...CCGGATTTGCATATAATGATGCACCAT`\n",
    "\n",
    "---    \n",
    "\n",
    "    \n",
    "The __sequencing reads__ from the reverse end of the molecules (in 5'>3' orientation), so the sequencing reads are as follows:\n",
    "\n",
    "    5'-[reverse complement of 16 X N barcode]-GCGGCCGCCT-[reverse complement of the end of HA]-3'\n",
    "or\n",
    "\n",
    "    5'-[reverse complement of 16 X N barcode]-GCGGCCGCCT-[reverse complement of the end of NA]-3'\n",
    "\n",
    "---   \n",
    "    \n",
    "The reads can originate from **either** HA or NA, and that will be distinguished by the most 3' end of the read.\n",
    "But in our example exercise in class, we did not distinguish among reads matching to HA and NA, as we didn't even look far enough into the read to tell the identity.\n",
    "\n",
    "For the homework, your goal is to write code that extends the material from lectures 8 and 9 to also distinguish between HA and NA.\n",
    "This homework can be completed almost entirely by re-using code from lecture 9. You will need to set up your analysis to do the following:\n",
    " 1. Get the reverse complement of each read.\n",
    " 2. Determine if it matches the expected pattern for HA and NA, and if so which one.\n",
    " 3. If it matches, extract the barcode and add it to a dictionary to keep track of counts.\n",
    " 4. Determine the number and distribution of barcodes for HA and NA separately.\n",
    "\n",
    "Please include code to address each of the following questions. Please include code comments to explain what your code is attempting to accomplish. Don't forget to include references to the sources you used to obtain your answer, including your classmates (if you are working in groups).  "
   ]
  },
  {
   "cell_type": "markdown",
   "metadata": {},
   "source": [
    "1. How many reads map to HA, and how many reads map to NA?"
   ]
  },
  {
   "cell_type": "code",
   "execution_count": 1,
   "metadata": {},
   "outputs": [],
   "source": [
    "# load necessary packages\n",
    "import re\n",
    "import Bio.SeqIO\n",
    "import Bio.Seq\n",
    "import pandas as pd"
   ]
  },
  {
   "cell_type": "code",
   "execution_count": 2,
   "metadata": {},
   "outputs": [],
   "source": [
    "#Read in sequencing file\n",
    "reads = Bio.SeqIO.parse('barcodes_R1.fastq', format='fastq')\n",
    "seqreads = list(reads)"
   ]
  },
  {
   "cell_type": "code",
   "execution_count": 3,
   "metadata": {},
   "outputs": [],
   "source": [
    "#make an empty list to put our lists in\n",
    "seqreads_Seq = []\n",
    "for seqrecord in seqreads:\n",
    "    sequence = seqrecord.seq # isolate the sequence from the seqrecord\n",
    "    seqreads_Seq.append(sequence) # append sequence to our empty list"
   ]
  },
  {
   "cell_type": "code",
   "execution_count": 4,
   "metadata": {},
   "outputs": [
    {
     "data": {
      "text/plain": [
       "[Seq('TCTGCTATTCCGTGTCAATAAACATCGTCGTTGCATGCCTTCATTTTAGTGCTG...AGC'),\n",
       " Seq('TCGTACACTCTGTCATTAGGGATGTATTTGTTTAATGCATGGGGTTGTATACTA...AAG'),\n",
       " Seq('TCGTAGTGTATAGTAGAAGGGACGTCTACGTTAATCAGTGTCATAAGTTCGATC...GTG'),\n",
       " Seq('TCAGATGAATGGTAGTTGGTGATAGCATGAGGTTGGGTCGGATGGTTAGTGTCT...TGA'),\n",
       " Seq('GAGTAAAGACTGTGTTCTGGGACGCGATCGAGTCTGCGAATGTGTGTAGCGCTA...TAT')]"
      ]
     },
     "execution_count": 4,
     "metadata": {},
     "output_type": "execute_result"
    }
   ],
   "source": [
    "#Make an empty list of the reverse complements of the sequences in seqread_Seq \n",
    "seqreads_Seq_fw = []\n",
    "for seqrecord in seqreads_Seq: \n",
    "    sequence_rev = seqrecord.reverse_complement()\n",
    "    seqreads_Seq_fw.append(sequence_rev)\n",
    "\n",
    "seqreads_Seq_fw[:5]"
   ]
  },
  {
   "cell_type": "code",
   "execution_count": 5,
   "metadata": {},
   "outputs": [
    {
     "name": "stdout",
     "output_type": "stream",
     "text": [
      "The number of HA reads is: 5493\n",
      "The number of NA reads is: 4156\n"
     ]
    }
   ],
   "source": [
    "#Count reads to HA or NA\n",
    "#Make a function which counts the barcodes, and empty lists with HA read counts and NA read counts\n",
    "def count_barcodes(seqreads_Seq_fw, adaptor ='AGGCGGCCGC', HA = 'CCGGATTTGCAT', NA = 'CACGATAGATAA'):\n",
    "    HA_sequence_count = 0\n",
    "    NA_sequence_count = 0\n",
    "    HA_sequences_list = []\n",
    "    NA_sequences_list = []\n",
    "    \n",
    "    for s in seqreads_Seq_fw:\n",
    "        upper_seqs = str(s).upper()  # Convert s to a string\n",
    "        #search for pattern of HA unique sequences\n",
    "        HA_pattern = re.compile(r'(?P<HA>CCGGATTTGCAT)')\n",
    "        #search for NA unique sequences\n",
    "        NA_pattern = re.compile(r'(?P<NA>CACGATAGATAA)')\n",
    "\n",
    "        #search for the HA pattern in the strings(upper_seqs)\n",
    "        HA_match = HA_pattern.search(upper_seqs)\n",
    "        # isolate named pattern for HA and NA\n",
    "        if HA_match:  # Only proceed if there is a match\n",
    "            #HA_sequence = HA_match.group(\"HA\") \n",
    "            HA_sequence_count +=1\n",
    "            HA_sequences_list.append(upper_seqs)\n",
    "           \n",
    "        #search for the NA pattern in the strings(upper_seqs)\n",
    "        NA_match = NA_pattern.search(upper_seqs)\n",
    "        if NA_match: #proceed only if there's a match\n",
    "            #NA_sequence = NA_match.group(\"NA\")\n",
    "            NA_sequence_count +=1\n",
    "            NA_sequences_list.append(upper_seqs)\n",
    "\n",
    "    return HA_sequences_list, NA_sequences_list \n",
    "\n",
    "ha_reads, na_reads = count_barcodes(seqreads_Seq_fw)\n",
    "print(\"The number of HA reads is:\", len(ha_reads))\n",
    "print(\"The number of NA reads is:\", len(na_reads))\n",
    "\n"
   ]
  },
  {
   "attachments": {},
   "cell_type": "markdown",
   "metadata": {},
   "source": [
    "2. How many HA sequences did not have a valid barcode? Also anwer the same question for NA."
   ]
  },
  {
   "cell_type": "code",
   "execution_count": 9,
   "metadata": {},
   "outputs": [
    {
     "name": "stdout",
     "output_type": "stream",
     "text": [
      "169 222\n",
      "The number of HA sequences without a valid barcode is 169\n",
      "The number of NA sequenes without a valid barcode is 222\n"
     ]
    }
   ],
   "source": [
    "#create a function which counts valid barcodes given matching string\n",
    "barcode_pattern = re.compile(r\"AGGCGGCCGC([ATCG]{16})\")\n",
    "                                \n",
    "#making empty function structure here\n",
    "def count_valid_barcodes(reads, pattern):\n",
    "    Barcodes = []\n",
    "    BC_count = 0\n",
    "    len_reads = len(reads)\n",
    "    for r in reads:\n",
    "        BC = pattern.search(r)\n",
    "        if BC: \n",
    "            Barcodes.append(BC)\n",
    "            BC_count += 1\n",
    "        else:\n",
    "            continue\n",
    "    counts_series = pd.Series(Barcodes).value_counts()  #my labmate Jenny Nathans helped me with this as well as Lucas during OH\n",
    "    no_BC = len_reads - BC_count\n",
    "    return counts_series, no_BC   \n",
    "\n",
    "\n",
    "#here I'm telling it what goes into that function, both input and output\n",
    "HA_count_valid_barcodes, HA_no_BC = count_valid_barcodes(ha_reads,barcode_pattern)\n",
    "NA_count_valid_barcodes, NA_no_BC = count_valid_barcodes(na_reads,barcode_pattern)\n",
    "\n",
    "print(HA_no_BC, NA_no_BC)\n",
    "print('The number of HA sequences without a valid barcode is', HA_no_BC)\n",
    "print('The number of NA sequenes without a valid barcode is',  NA_no_BC)"
   ]
  },
  {
   "cell_type": "markdown",
   "metadata": {},
   "source": []
  },
  {
   "attachments": {},
   "cell_type": "markdown",
   "metadata": {},
   "source": [
    "3. What is the HA barcode with the most counts (and how many counts)? Also answer the same question for NA.\n",
    "\n",
    "    _Hint: you will need to find the key associated with the maximum value in your dictionary. There are many ways to do this._"
   ]
  },
  {
   "cell_type": "code",
   "execution_count": 42,
   "metadata": {},
   "outputs": [
    {
     "name": "stdout",
     "output_type": "stream",
     "text": [
      "The most common HA barcode is CCCGACCCGACATTAA\n",
      "The most common HA barcode is 155\n",
      "The most common NA barcode is ACCAGTTCTCCCCGGG\n",
      "The most common NA barcode is 152\n"
     ]
    }
   ],
   "source": [
    "from collections import Counter\n",
    "\n",
    "#create a function which counts valid barcodes given matching string\n",
    "barcode_pattern = re.compile(r\"AGGCGGCCGC(?P<barcode>[ATCG]{16})\")\n",
    "                                \n",
    "#making empty function structure here\n",
    "def count_valid_barcodes(reads, pattern):\n",
    "    barcodes = [] #list to store matched barcodes\n",
    "    \n",
    "    for r in reads:\n",
    "        match = pattern.search(r)\n",
    "        if match: #only proceed if there's a match\n",
    "            barcode_match = match.group('barcode') #get the matched barcode\n",
    "            barcodes.append(barcode_match) #append to the list\n",
    "        else:\n",
    "            continue\n",
    "\n",
    "    return barcodes\n",
    "\n",
    "HA_barcode_list = count_valid_barcodes(ha_reads,barcode_pattern)\n",
    "NA_barcode_list = count_valid_barcodes(na_reads,barcode_pattern)\n",
    "\n",
    "#Count the occurrences of each barcode\n",
    "HA_barcode_counts = Counter(HA_barcode_list)\n",
    "NA_barcode_counts = Counter(NA_barcode_list)\n",
    "\n",
    "#Find max count item in list\n",
    "most_common_HA_barcode, HA_max_count = HA_barcode_counts.most_common(1)[0]\n",
    "most_common_NA_barcode, NA_max_count = NA_barcode_counts.most_common(1)[0]\n",
    "\n",
    "print(\"The most common HA barcode is\", most_common_HA_barcode)\n",
    "print(\"The most common HA barcode is\",HA_max_count)\n",
    "\n",
    "print(\"The most common NA barcode is\", most_common_NA_barcode )\n",
    "print(\"The most common NA barcode is\",NA_max_count)\n",
    "\n",
    "\n",
    "\n",
    "#chatGPT helped me with this one, on how to find max count in a list\n"
   ]
  },
  {
   "cell_type": "markdown",
   "metadata": {},
   "source": []
  }
 ],
 "metadata": {
  "kernelspec": {
   "display_name": "Python 3.9.12 ('base')",
   "language": "python",
   "name": "python3"
  },
  "language_info": {
   "codemirror_mode": {
    "name": "ipython",
    "version": 3
   },
   "file_extension": ".py",
   "mimetype": "text/x-python",
   "name": "python",
   "nbconvert_exporter": "python",
   "pygments_lexer": "ipython3",
   "version": "3.9.12"
  },
  "toc": {
   "nav_menu": {},
   "number_sections": false,
   "sideBar": true,
   "skip_h1_title": false,
   "toc_cell": false,
   "toc_position": {
    "height": "623.8px",
    "left": "0px",
    "right": "829.6px",
    "top": "33.2px",
    "width": "322.4px"
   },
   "toc_section_display": "block",
   "toc_window_display": true
  },
  "vscode": {
   "interpreter": {
    "hash": "d4d1e4263499bec80672ea0156c357c1ee493ec2b1c70f0acce89fc37c4a6abe"
   }
  }
 },
 "nbformat": 4,
 "nbformat_minor": 2
}
