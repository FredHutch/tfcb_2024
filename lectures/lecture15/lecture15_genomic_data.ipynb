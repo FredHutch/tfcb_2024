{
 "cells": [
  {
   "cell_type": "markdown",
   "id": "b5480d1d-59d0-4c46-94de-88da8f93e305",
   "metadata": {
    "tags": []
   },
   "source": [
    "# `GenomicRanges` Object to Store Genomic Data\n",
    "\n",
    "Genomic data is often described using chromosomes and coordinates. A locus can be a single base position or a region that includes a start and end coordinate. In R, there is a Bioconductor package called `GenomicRanges` that stores this in a convenient structure for efficient querying using routine operations. `GRanges` object class is in which genomic data will be stored. We will demonstrate the most common operation, `findOverlaps`, to determine intersecting positions or regions in the genome. See https://bioconductor.org/packages/release/bioc/vignettes/GenomicRanges/inst/doc/GenomicRangesIntroduction.html\n",
    "\n",
    "An additional package called `plyranges` provides convenient syntax similar to that used in `tidyverse` to manipulate and apply operations on `Granges` objects. See https://www.bioconductor.org/packages/devel/bioc/vignettes/plyranges/inst/doc/an-introduction.html\n",
    "\n",
    "In this tutorial, we will work with The Cancer Genome Atlas (TCGA) data for primary breast cancer patient samples. Specifically, these are segmentation data used for copy number alteration analysis. See Lecture 16: Slide 47."
   ]
  },
  {
   "cell_type": "markdown",
   "id": "9a5d67aa-4a23-41da-a1ac-a9425afa9de8",
   "metadata": {},
   "source": [
    "## 0. Load the `GenomicRanges` Bioconductor package"
   ]
  },
  {
   "cell_type": "code",
   "execution_count": 1,
   "id": "6f1c4d84-3e24-48a0-8faa-69ecf66a6cad",
   "metadata": {
    "vscode": {
     "languageId": "r"
    }
   },
   "outputs": [],
   "source": [
    "suppressPackageStartupMessages({\n",
    "    library(GenomicRanges)\n",
    "    library(plyranges)\n",
    "    library(tidyverse)\n",
    "})"
   ]
  },
  {
   "cell_type": "markdown",
   "id": "43262063-f461-4338-a941-2039a9c49daa",
   "metadata": {},
   "source": [
    "## 1. Create a GRanges object.\n",
    "A `GRanges` object must contain an attribute called `seqnames` to represent chromosomes and `ranges` attribute to represent the `start` and `end` coordinates. The range is 1-index-based (as opposed to 0-index), The `start` and `end` can be the same value if it is a single base-pair.  "
   ]
  },
  {
   "cell_type": "code",
   "execution_count": 2,
   "id": "74547f46-b65d-4240-8abb-a9556d8e3aee",
   "metadata": {
    "vscode": {
     "languageId": "r"
    }
   },
   "outputs": [],
   "source": [
    "myGRange <- GRanges(seqnames = \"17\",\n",
    "                    ranges = IRanges(start = 37844393, end = 37844393))"
   ]
  },
  {
   "cell_type": "markdown",
   "id": "fab8315c-f5df-45c7-be32-4e2966e6d900",
   "metadata": {},
   "source": [
    "Alternatively, using `plyranges` we can use familiar syntax to create the same `GRanges` object."
   ]
  },
  {
   "cell_type": "code",
   "execution_count": 3,
   "id": "7ff1c62e-af45-463e-891c-bcbe87163178",
   "metadata": {
    "vscode": {
     "languageId": "r"
    }
   },
   "outputs": [],
   "source": [
    "myGRange <- data.frame(seqnames = \"17\", start = 37844393, end = 37844393) %>% as_granges()"
   ]
  },
  {
   "cell_type": "markdown",
   "id": "23852a67-dd82-4160-8510-c8ed4ecbb6e8",
   "metadata": {
    "tags": []
   },
   "source": [
    "## 2. Load Genomic Data From A File\n",
    "There are numerous text file formats for representing genomic data and some of these were discussed in Lecture 16. Here, we will show you that a `GRanges` can be easily created from any text file that contains delimited columns specifying genomic coorindates.\n",
    "\n",
    "### 2.1 SEG format\n",
    "SEGment Data (http://software.broadinstitute.org/software/igv/SEG) format is tab-delimited and a flexible way to define any genomic data.\n",
    "\n",
    "There are 4 required columns:\n",
    "\n",
    "  1. Name\n",
    "  2. Chromosome\n",
    "  3. Start Coordinate\n",
    "  4. End Coordinate\n",
    "\n",
    "This is similar to the BED file format but with the additional requirement for *Name* as the first column.\n",
    "\n",
    "### a. Load the SEG file containing the segments into a `data.frame` object."
   ]
  },
  {
   "cell_type": "code",
   "execution_count": 4,
   "id": "199d73fb-1c0b-40a1-839d-e9c564241d97",
   "metadata": {
    "vscode": {
     "languageId": "r"
    }
   },
   "outputs": [
    {
     "name": "stderr",
     "output_type": "stream",
     "text": [
      "\u001b[1mRows: \u001b[22m\u001b[34m284458\u001b[39m \u001b[1mColumns: \u001b[22m\u001b[34m6\u001b[39m\n",
      "\u001b[36m──\u001b[39m \u001b[1mColumn specification\u001b[22m \u001b[36m────────────────────────────────────────────────────────\u001b[39m\n",
      "\u001b[1mDelimiter:\u001b[22m \"\\t\"\n",
      "\u001b[31mchr\u001b[39m (1): Sample\n",
      "\u001b[32mdbl\u001b[39m (5): Chromosome, Start, End, Num_Probes, Segment_Mean\n",
      "\n",
      "\u001b[36mℹ\u001b[39m Use `spec()` to retrieve the full column specification for this data.\n",
      "\u001b[36mℹ\u001b[39m Specify the column types or set `show_col_types = FALSE` to quiet this message.\n"
     ]
    },
    {
     "name": "stdout",
     "output_type": "stream",
     "text": [
      "\u001b[90m# A tibble: 284,458 × 6\u001b[39m\n",
      "   sample                       chromosome  start    end num_probes segment_mean\n",
      "   \u001b[3m\u001b[90m<chr>\u001b[39m\u001b[23m                             \u001b[3m\u001b[90m<dbl>\u001b[39m\u001b[23m  \u001b[3m\u001b[90m<dbl>\u001b[39m\u001b[23m  \u001b[3m\u001b[90m<dbl>\u001b[39m\u001b[23m      \u001b[3m\u001b[90m<dbl>\u001b[39m\u001b[23m        \u001b[3m\u001b[90m<dbl>\u001b[39m\u001b[23m\n",
      "\u001b[90m 1\u001b[39m TCGA-3C-AAAU-10A-01D-A41E-01          1 3.22\u001b[90me\u001b[39m6 9.57\u001b[90me\u001b[39m7      \u001b[4m5\u001b[24m\u001b[4m3\u001b[24m225       0.005\u001b[4m5\u001b[24m\n",
      "\u001b[90m 2\u001b[39m TCGA-3C-AAAU-10A-01D-A41E-01          1 9.57\u001b[90me\u001b[39m7 9.57\u001b[90me\u001b[39m7          2      -\u001b[31m1\u001b[39m\u001b[31m.\u001b[39m\u001b[31m66\u001b[39m  \n",
      "\u001b[90m 3\u001b[39m TCGA-3C-AAAU-10A-01D-A41E-01          1 9.57\u001b[90me\u001b[39m7 1.67\u001b[90me\u001b[39m8      \u001b[4m2\u001b[24m\u001b[4m4\u001b[24m886       0.005\u001b[4m3\u001b[24m\n",
      "\u001b[90m 4\u001b[39m TCGA-3C-AAAU-10A-01D-A41E-01          1 1.67\u001b[90me\u001b[39m8 1.67\u001b[90me\u001b[39m8          3      -\u001b[31m1\u001b[39m\u001b[31m.\u001b[39m\u001b[31m10\u001b[39m  \n",
      "\u001b[90m 5\u001b[39m TCGA-3C-AAAU-10A-01D-A41E-01          1 1.67\u001b[90me\u001b[39m8 1.82\u001b[90me\u001b[39m8       \u001b[4m9\u001b[24m213      -\u001b[31m0\u001b[39m\u001b[31m.\u001b[39m\u001b[31m000\u001b[39m\u001b[31m\u001b[4m8\u001b[24m\u001b[39m\n",
      "\u001b[90m 6\u001b[39m TCGA-3C-AAAU-10A-01D-A41E-01          1 1.82\u001b[90me\u001b[39m8 1.82\u001b[90me\u001b[39m8          6      -\u001b[31m1\u001b[39m\u001b[31m.\u001b[39m\u001b[31m20\u001b[39m  \n",
      "\u001b[90m 7\u001b[39m TCGA-3C-AAAU-10A-01D-A41E-01          1 1.82\u001b[90me\u001b[39m8 2.01\u001b[90me\u001b[39m8      \u001b[4m1\u001b[24m\u001b[4m2\u001b[24m002       0.005\u001b[4m5\u001b[24m\n",
      "\u001b[90m 8\u001b[39m TCGA-3C-AAAU-10A-01D-A41E-01          1 2.01\u001b[90me\u001b[39m8 2.01\u001b[90me\u001b[39m8          2      -\u001b[31m1\u001b[39m\u001b[31m.\u001b[39m\u001b[31m42\u001b[39m  \n",
      "\u001b[90m 9\u001b[39m TCGA-3C-AAAU-10A-01D-A41E-01          1 2.01\u001b[90me\u001b[39m8 2.48\u001b[90me\u001b[39m8      \u001b[4m2\u001b[24m\u001b[4m9\u001b[24m781      -\u001b[31m0\u001b[39m\u001b[31m.\u001b[39m\u001b[31m000\u001b[39m\u001b[31m\u001b[4m4\u001b[24m\u001b[39m\n",
      "\u001b[90m10\u001b[39m TCGA-3C-AAAU-10A-01D-A41E-01          2 4.84\u001b[90me\u001b[39m5 5.15\u001b[90me\u001b[39m7      \u001b[4m3\u001b[24m\u001b[4m0\u001b[24m300       0.004\u001b[4m4\u001b[24m\n",
      "\u001b[90m# … with 284,448 more rows\u001b[39m\n"
     ]
    }
   ],
   "source": [
    "segs <- read_tsv(\"BRCA.genome_wide_snp_6_broad_Level_3_scna.seg\") %>%\n",
    "  janitor::clean_names() %>%\n",
    "  print()"
   ]
  },
  {
   "cell_type": "markdown",
   "id": "e1842cab-a987-43bf-bf6c-e5c4798ea978",
   "metadata": {},
   "source": [
    "Small processing of this file to correct a few legacy hacks. We need to change chromosome 23 to chromosome X."
   ]
  },
  {
   "cell_type": "code",
   "execution_count": 5,
   "id": "99bdf8fe-023a-4be3-b9f9-036881b85f2d",
   "metadata": {
    "vscode": {
     "languageId": "r"
    }
   },
   "outputs": [
    {
     "name": "stdout",
     "output_type": "stream",
     "text": [
      "\u001b[90m# A tibble: 284,458 × 6\u001b[39m\n",
      "   sample                       chromosome  start    end num_probes segment_mean\n",
      "   \u001b[3m\u001b[90m<chr>\u001b[39m\u001b[23m                        \u001b[3m\u001b[90m<chr>\u001b[39m\u001b[23m       \u001b[3m\u001b[90m<dbl>\u001b[39m\u001b[23m  \u001b[3m\u001b[90m<dbl>\u001b[39m\u001b[23m      \u001b[3m\u001b[90m<dbl>\u001b[39m\u001b[23m        \u001b[3m\u001b[90m<dbl>\u001b[39m\u001b[23m\n",
      "\u001b[90m 1\u001b[39m TCGA-3C-AAAU-10A-01D-A41E-01 1          3.22\u001b[90me\u001b[39m6 9.57\u001b[90me\u001b[39m7      \u001b[4m5\u001b[24m\u001b[4m3\u001b[24m225       0.005\u001b[4m5\u001b[24m\n",
      "\u001b[90m 2\u001b[39m TCGA-3C-AAAU-10A-01D-A41E-01 1          9.57\u001b[90me\u001b[39m7 9.57\u001b[90me\u001b[39m7          2      -\u001b[31m1\u001b[39m\u001b[31m.\u001b[39m\u001b[31m66\u001b[39m  \n",
      "\u001b[90m 3\u001b[39m TCGA-3C-AAAU-10A-01D-A41E-01 1          9.57\u001b[90me\u001b[39m7 1.67\u001b[90me\u001b[39m8      \u001b[4m2\u001b[24m\u001b[4m4\u001b[24m886       0.005\u001b[4m3\u001b[24m\n",
      "\u001b[90m 4\u001b[39m TCGA-3C-AAAU-10A-01D-A41E-01 1          1.67\u001b[90me\u001b[39m8 1.67\u001b[90me\u001b[39m8          3      -\u001b[31m1\u001b[39m\u001b[31m.\u001b[39m\u001b[31m10\u001b[39m  \n",
      "\u001b[90m 5\u001b[39m TCGA-3C-AAAU-10A-01D-A41E-01 1          1.67\u001b[90me\u001b[39m8 1.82\u001b[90me\u001b[39m8       \u001b[4m9\u001b[24m213      -\u001b[31m0\u001b[39m\u001b[31m.\u001b[39m\u001b[31m000\u001b[39m\u001b[31m\u001b[4m8\u001b[24m\u001b[39m\n",
      "\u001b[90m 6\u001b[39m TCGA-3C-AAAU-10A-01D-A41E-01 1          1.82\u001b[90me\u001b[39m8 1.82\u001b[90me\u001b[39m8          6      -\u001b[31m1\u001b[39m\u001b[31m.\u001b[39m\u001b[31m20\u001b[39m  \n",
      "\u001b[90m 7\u001b[39m TCGA-3C-AAAU-10A-01D-A41E-01 1          1.82\u001b[90me\u001b[39m8 2.01\u001b[90me\u001b[39m8      \u001b[4m1\u001b[24m\u001b[4m2\u001b[24m002       0.005\u001b[4m5\u001b[24m\n",
      "\u001b[90m 8\u001b[39m TCGA-3C-AAAU-10A-01D-A41E-01 1          2.01\u001b[90me\u001b[39m8 2.01\u001b[90me\u001b[39m8          2      -\u001b[31m1\u001b[39m\u001b[31m.\u001b[39m\u001b[31m42\u001b[39m  \n",
      "\u001b[90m 9\u001b[39m TCGA-3C-AAAU-10A-01D-A41E-01 1          2.01\u001b[90me\u001b[39m8 2.48\u001b[90me\u001b[39m8      \u001b[4m2\u001b[24m\u001b[4m9\u001b[24m781      -\u001b[31m0\u001b[39m\u001b[31m.\u001b[39m\u001b[31m000\u001b[39m\u001b[31m\u001b[4m4\u001b[24m\u001b[39m\n",
      "\u001b[90m10\u001b[39m TCGA-3C-AAAU-10A-01D-A41E-01 2          4.84\u001b[90me\u001b[39m5 5.15\u001b[90me\u001b[39m7      \u001b[4m3\u001b[24m\u001b[4m0\u001b[24m300       0.004\u001b[4m4\u001b[24m\n",
      "\u001b[90m# … with 284,448 more rows\u001b[39m\n"
     ]
    }
   ],
   "source": [
    "segs <- segs %>%\n",
    "  mutate(chromosome = as.character(chromosome)) %>%\n",
    "  mutate(chromosome = ifelse(chromosome == 23, \"X\", chromosome)) %>%\n",
    "  print()"
   ]
  },
  {
   "cell_type": "markdown",
   "id": "806965e2-7ee9-4b2d-9c6d-0b9804e4ad9c",
   "metadata": {},
   "source": [
    "### b. Convert `tibble` into a `GRanges`\n",
    "You can convert tibble to GRanges, as long as the 3 required columns are present. It is also flexible how the columns are named. For example, the column can be `Start`, `start`, `Chr`, `chr`, `Chromosome`, `End`, `Stop`, etc."
   ]
  },
  {
   "cell_type": "code",
   "execution_count": 6,
   "id": "80b67f8f-186a-41e5-9f65-86cefae245d3",
   "metadata": {
    "vscode": {
     "languageId": "r"
    }
   },
   "outputs": [
    {
     "name": "stdout",
     "output_type": "stream",
     "text": [
      "GRanges object with 284458 ranges and 3 metadata columns:\n",
      "           seqnames              ranges strand |                 sample\n",
      "              <Rle>           <IRanges>  <Rle> |            <character>\n",
      "       [1]        1    3218610-95674710      * | TCGA-3C-AAAU-10A-01D..\n",
      "       [2]        1   95676511-95676518      * | TCGA-3C-AAAU-10A-01D..\n",
      "       [3]        1  95680124-167057183      * | TCGA-3C-AAAU-10A-01D..\n",
      "       [4]        1 167057495-167059336      * | TCGA-3C-AAAU-10A-01D..\n",
      "       [5]        1 167059760-181602002      * | TCGA-3C-AAAU-10A-01D..\n",
      "       ...      ...                 ...    ... .                    ...\n",
      "  [284454]       19     284018-58878226      * | TCGA-Z7-A8R6-01A-11D..\n",
      "  [284455]       20     455764-62219837      * | TCGA-Z7-A8R6-01A-11D..\n",
      "  [284456]       21   15347621-47678774      * | TCGA-Z7-A8R6-01A-11D..\n",
      "  [284457]       22   17423930-49331012      * | TCGA-Z7-A8R6-01A-11D..\n",
      "  [284458]        X   3157107-154905589      * | TCGA-Z7-A8R6-01A-11D..\n",
      "           num_probes segment_mean\n",
      "            <numeric>    <numeric>\n",
      "       [1]      53225       0.0055\n",
      "       [2]          2      -1.6636\n",
      "       [3]      24886       0.0053\n",
      "       [4]          3      -1.0999\n",
      "       [5]       9213      -0.0008\n",
      "       ...        ...          ...\n",
      "  [284454]      23950      -0.1170\n",
      "  [284455]      37283       0.3435\n",
      "  [284456]      20582      -0.1117\n",
      "  [284457]      16927      -0.1231\n",
      "  [284458]      63797       0.0014\n",
      "  -------\n",
      "  seqinfo: 23 sequences from an unspecified genome; no seqlengths\n"
     ]
    }
   ],
   "source": [
    "segs.gr <- segs %>%\n",
    "  GRanges() %>%\n",
    "  print()"
   ]
  },
  {
   "cell_type": "markdown",
   "id": "3137703e-9d8b-4d4f-9edb-f20aa6690681",
   "metadata": {},
   "source": [
    "## 3. Operations and features of GenomicRanges\n",
    "Some of the most useful features of `GRanges` object is the fast and easy methods for determining overlaps between sets of ranges. Here, we will describe examples using some of the common functions.\n",
    "\n",
    "### 3.1 Tiling the genome\n",
    "Often we would like to *find* or *count* events overlapping regions in the genome. In an unbiased fashion, we could do this genome-wide by dividing the genome into tiles/windows/bins. \n",
    "\n",
    "We will use the `tileGenome()` for this task, which requires three arguments: length of the chromosomes, number of tiles and the size of each tile.\n",
    "\n",
    "### a. We need the lengths of the chromosomes in the human genome.\n",
    "We need to load human genome information for build `hg19`. Since there are non-standard chromosomes, we only want to keep the standard chromosomes using `keepStandardChromosomes`. Then, since our `segs` data uses `NCBI` chromosome naming convention (i.e. `1` instead of `chr1`), we need set the `seqlevelStyle`."
   ]
  },
  {
   "cell_type": "code",
   "execution_count": 7,
   "id": "eeea07c7-5f7f-48a0-9e36-09ae99bfd3f1",
   "metadata": {
    "vscode": {
     "languageId": "r"
    }
   },
   "outputs": [
    {
     "name": "stderr",
     "output_type": "stream",
     "text": [
      "Warning message in (function (seqlevels, genome, new_style) :\n",
      "“cannot switch some of hg19's seqlevels from UCSC to NCBI style”\n"
     ]
    },
    {
     "data": {
      "text/plain": [
       "Seqinfo object with 25 sequences (1 circular) from 2 genomes (GRCh37.p13, hg19):\n",
       "  seqnames seqlengths isCircular     genome\n",
       "  1         249250621      FALSE GRCh37.p13\n",
       "  2         243199373      FALSE GRCh37.p13\n",
       "  3         198022430      FALSE GRCh37.p13\n",
       "  4         191154276      FALSE GRCh37.p13\n",
       "  5         180915260      FALSE GRCh37.p13\n",
       "  ...             ...        ...        ...\n",
       "  21         48129895      FALSE GRCh37.p13\n",
       "  22         51304566      FALSE GRCh37.p13\n",
       "  X         155270560      FALSE GRCh37.p13\n",
       "  Y          59373566      FALSE GRCh37.p13\n",
       "  chrM          16571       TRUE       hg19"
      ]
     },
     "metadata": {},
     "output_type": "display_data"
    }
   ],
   "source": [
    "seqinfo <- Seqinfo(genome = \"hg19\")\n",
    "seqinfo <- keepStandardChromosomes(seqinfo) \n",
    "seqlevelsStyle(seqinfo) <- \"NCBI\"\n",
    "seqinfo"
   ]
  },
  {
   "cell_type": "markdown",
   "id": "30fb6344-ff40-4e84-8be7-5751d3f65dcc",
   "metadata": {},
   "source": [
    "### b. Split the genome into 500kb tiles or windows."
   ]
  },
  {
   "cell_type": "code",
   "execution_count": 8,
   "id": "fbcbd245-3ff9-4159-9e13-43f718b12508",
   "metadata": {
    "vscode": {
     "languageId": "r"
    }
   },
   "outputs": [
    {
     "data": {
      "text/plain": [
       "GRanges object with 6207 ranges and 0 metadata columns:\n",
       "         seqnames            ranges strand\n",
       "            <Rle>         <IRanges>  <Rle>\n",
       "     [1]        1          1-500000      *\n",
       "     [2]        1    500001-1000000      *\n",
       "     [3]        1   1000001-1500000      *\n",
       "     [4]        1   1500001-2000000      *\n",
       "     [5]        1   2000001-2500000      *\n",
       "     ...      ...               ...    ...\n",
       "  [6203]        Y 57500001-58000000      *\n",
       "  [6204]        Y 58000001-58500000      *\n",
       "  [6205]        Y 58500001-59000000      *\n",
       "  [6206]        Y 59000001-59373566      *\n",
       "  [6207]     chrM           1-16571      *\n",
       "  -------\n",
       "  seqinfo: 25 sequences from an unspecified genome"
      ]
     },
     "metadata": {},
     "output_type": "display_data"
    }
   ],
   "source": [
    "slen <- seqlengths(seqinfo) # get the length of the chromosomes\n",
    "tileWidth <- 500000 # tile size of 500kb\n",
    "tiles <- tileGenome(seqlengths = slen, tilewidth = tileWidth,\n",
    "                    cut.last.tile.in.chrom = TRUE)\n",
    "tiles"
   ]
  },
  {
   "cell_type": "markdown",
   "id": "007db130-94ed-4923-b032-ca4039c07465",
   "metadata": {},
   "source": [
    "### 3.2 Finding overlap of ranges\n",
    "One of the most useful features of `GenomicRanges` is to simply identify the ranges that overlap between two `GRanges` objects. The `findOverlaps` function is a basic method in the `GRanges` class for finding the overlaps of the elements that overlap between two `GRanges`. The argmuents `query` for your main `tiles.subset` and `subject` for the `segs.gr`. The `type` argument describes the type of overlap, such as `any`, `within`, `start`, `end`, `equal`, and there are additional arguments for criteria for overlap such as `minoverlap` size.\n",
    "\n",
    "For this example, let's find which copy number alteration segments from `segs.gr` overlap in *any* way with our ranges in `tiles.subset` (`17:35500000-37000000`). \n",
    "\n",
    "### a. Find the tiled ranges for chromosome `17`, starting `35500000` and ending `37000000`."
   ]
  },
  {
   "cell_type": "code",
   "execution_count": 9,
   "id": "c7bfd88b-6686-40e6-93c2-686b97b429e5",
   "metadata": {
    "vscode": {
     "languageId": "r"
    }
   },
   "outputs": [
    {
     "data": {
      "text/plain": [
       "GRanges object with 3 ranges and 0 metadata columns:\n",
       "      seqnames            ranges strand\n",
       "         <Rle>         <IRanges>  <Rle>\n",
       "  [1]       17 35500001-36000000      *\n",
       "  [2]       17 36000001-36500000      *\n",
       "  [3]       17 36500001-37000000      *\n",
       "  -------\n",
       "  seqinfo: 25 sequences from an unspecified genome"
      ]
     },
     "metadata": {},
     "output_type": "display_data"
    }
   ],
   "source": [
    "tiles.subset <- tiles[seqnames(tiles) == \"17\" & start(tiles) >= 35500000 & end(tiles) <= 37000000]\n",
    "tiles.subset"
   ]
  },
  {
   "cell_type": "markdown",
   "id": "98195ecf-c9f2-4cfd-a333-02589399dafd",
   "metadata": {},
   "source": [
    "Alternatively, using `plyranges` and the `filter` verb."
   ]
  },
  {
   "cell_type": "code",
   "execution_count": 10,
   "id": "7059ca7b-70fd-4df9-960b-1081389a159c",
   "metadata": {
    "vscode": {
     "languageId": "r"
    }
   },
   "outputs": [
    {
     "name": "stdout",
     "output_type": "stream",
     "text": [
      "GRanges object with 3 ranges and 0 metadata columns:\n",
      "      seqnames            ranges strand\n",
      "         <Rle>         <IRanges>  <Rle>\n",
      "  [1]       17 35500001-36000000      *\n",
      "  [2]       17 36000001-36500000      *\n",
      "  [3]       17 36500001-37000000      *\n",
      "  -------\n",
      "  seqinfo: 25 sequences from an unspecified genome\n"
     ]
    }
   ],
   "source": [
    "tiles.subset <- tiles %>%\n",
    "  filter(seqnames == \"17\" & start >= 35500000 & end <= 37000000) %>%\n",
    "  print()\n"
   ]
  },
  {
   "cell_type": "markdown",
   "id": "120d0dd4-09d6-43cb-ab60-2f69155c01d3",
   "metadata": {},
   "source": [
    "### b. Find the overlap between `segs.gr` and `tiles.subset`.\n",
    "Let's find the segments in `segs.gr` (`query`) that overlap our `tiles.subset` (`subject`).\n",
    "`plyranges` provides convenient functions that can bypass having to deal with hits/indices and returns the overlapped regions. Here, we use the function `find_overlaps`. This function will return all of the ranges in the `query` that overlap with the `subject`.\n"
   ]
  },
  {
   "cell_type": "code",
   "execution_count": 11,
   "id": "f138cb5e-8ba6-4dbe-83c2-ff86e47cf1cc",
   "metadata": {
    "vscode": {
     "languageId": "r"
    }
   },
   "outputs": [
    {
     "data": {
      "text/plain": [
       "GRanges object with 2 ranges and 3 metadata columns:\n",
       "      seqnames          ranges strand |                 sample num_probes\n",
       "         <Rle>       <IRanges>  <Rle> |            <character>  <numeric>\n",
       "  [1]       17 987221-73296953      * | TCGA-3C-AAAU-10A-01D..      33859\n",
       "  [2]       17 987221-73296953      * | TCGA-3C-AAAU-10A-01D..      33859\n",
       "      segment_mean\n",
       "         <numeric>\n",
       "  [1]       0.0088\n",
       "  [2]       0.0088\n",
       "  -------\n",
       "  seqinfo: 23 sequences from an unspecified genome; no seqlengths"
      ]
     },
     "metadata": {},
     "output_type": "display_data"
    }
   ],
   "source": [
    "segs.overlap <- find_overlaps(segs.gr, tiles.subset)  # arguments: find_overlaps(query, subject)\n",
    "segs.overlap[1:2] # show first 2 segments from segs.gr that overlapped tiles.subset"
   ]
  },
  {
   "cell_type": "markdown",
   "id": "a6564984-bbf4-4cc7-a69e-f8708efb7f93",
   "metadata": {},
   "source": [
    "## Exercise 1: \n",
    "\n",
    "### a. Create a range for `11:69400000-69500000`."
   ]
  },
  {
   "cell_type": "code",
   "execution_count": 12,
   "id": "e8dff18b-fab5-4ade-9b2f-e9de1fd45a07",
   "metadata": {
    "vscode": {
     "languageId": "r"
    }
   },
   "outputs": [],
   "source": [
    "# GRanges()"
   ]
  },
  {
   "cell_type": "markdown",
   "id": "6ea3b2fc-276a-4718-bb24-917d20a1ac93",
   "metadata": {},
   "source": [
    "### b. Find overlap between `11:69400000-69500000` and `segs.gr`."
   ]
  },
  {
   "cell_type": "code",
   "execution_count": 13,
   "id": "25beff24-9abc-4e15-a000-5db6f7a32de6",
   "metadata": {
    "vscode": {
     "languageId": "r"
    }
   },
   "outputs": [],
   "source": [
    "# find_overlaps() from plyranges"
   ]
  },
  {
   "cell_type": "markdown",
   "id": "6fde5c7e-c2ae-48ba-b2f9-daf7297ca0c9",
   "metadata": {},
   "source": [
    "### c. What is the `Segment_Mean` for the 2nd segment that overlaps `11:69400000-69500000`?"
   ]
  },
  {
   "cell_type": "code",
   "execution_count": 14,
   "id": "f76a6a13-5142-4500-8fbf-c1a55a1ce335",
   "metadata": {
    "vscode": {
     "languageId": "r"
    }
   },
   "outputs": [],
   "source": [
    "# index the 2nd segment in the result to (b)"
   ]
  }
 ],
 "metadata": {
  "kernelspec": {
   "display_name": "R",
   "language": "R",
   "name": "ir"
  },
  "language_info": {
   "codemirror_mode": "r",
   "file_extension": ".r",
   "mimetype": "text/x-r-source",
   "name": "R",
   "pygments_lexer": "r",
   "version": "4.1.3"
  }
 },
 "nbformat": 4,
 "nbformat_minor": 5
}
