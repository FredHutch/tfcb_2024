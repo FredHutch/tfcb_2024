{
 "cells": [
  {
   "attachments": {},
   "cell_type": "markdown",
   "metadata": {},
   "source": [
    "# __Lecture 08: Practical analyses in Python__\n",
    "\n",
    "----\n",
    "#### __Last week, Phil talked about:__\n",
    "- Python! (e.g. data types, lists, dictionaries, for loops, if statements, etc.)\n",
    "\n",
    "#### __Today we will:__\n",
    "- review for loops and if statements\n",
    "- learn how to define functions in Python\n",
    "- introduce regular expressions and the `re` package\n",
    "\n",
    "###  \n",
    "----"
   ]
  },
  {
   "cell_type": "markdown",
   "metadata": {},
   "source": [
    "# __Review__: Using `for` loops and `if` statements\n",
    "#### Python `for` loops let you repeat a block of code while changing the value of a _looping variable_"
   ]
  },
  {
   "cell_type": "code",
   "execution_count": null,
   "metadata": {},
   "outputs": [],
   "source": [
    "seq = \"ATGCTC\"\n",
    "\n",
    "# base pairing dictionary\n",
    "base_partner = {'A':'T', 'T':'A', 'C':'G', 'G':'C'}\n",
    "\n",
    "# we can iterate through all bases in the sequence\n",
    "for base in seq:\n",
    "    # look up the complementary base in the dictionary\n",
    "    pair = base_partner[base]\n",
    "    print(pair)"
   ]
  },
  {
   "cell_type": "markdown",
   "metadata": {},
   "source": [
    "#### Python `if` statements let you choose between two (or more) outcomes based on a boolean expression "
   ]
  },
  {
   "cell_type": "code",
   "execution_count": null,
   "metadata": {},
   "outputs": [],
   "source": [
    "seq2 = \"ATGNCT\"\n",
    "\n",
    "# base pairing dictionary\n",
    "base_partner = {'A':'T', 'T':'A', 'C':'G', 'G':'C'}\n",
    "\n",
    "for base in seq2:\n",
    "    # check if the base is in the dictionary\n",
    "    if base in base_partner:\n",
    "        # look up the complementary base in the dictionary\n",
    "        pair = base_partner[base]\n",
    "        print(pair)\n",
    "    else:\n",
    "        print(\"Unknown nucleotide\")"
   ]
  },
  {
   "cell_type": "markdown",
   "metadata": {},
   "source": [
    "----\n",
    "# __New:__ Using `break` and `continue` statements\n",
    "#### The `break` statement gets us out of a loop, while `continue` jumps directly to the next cycle through"
   ]
  },
  {
   "cell_type": "code",
   "execution_count": null,
   "metadata": {},
   "outputs": [],
   "source": [
    "seq3 = \"AAGCNT\"\n",
    "\n",
    "# base pairing dictionary\n",
    "base_partner = {'A':'T', 'T':'A', 'C':'G', 'G':'C'}\n",
    "\n",
    "for base in seq3:\n",
    "    if base == \"A\": # A is a bad nucleotide\n",
    "        continue\n",
    "    \n",
    "    if base == \"N\":\n",
    "        break\n",
    "        \n",
    "    # look up the complementary base in the dictionary\n",
    "    pair = base_partner[base]\n",
    "    print(pair)"
   ]
  },
  {
   "attachments": {},
   "cell_type": "markdown",
   "metadata": {},
   "source": [
    "----\n",
    "# __Defining new functions__\n",
    "#### We use the `def` keyword to define a new function. Functions can take inputs called _\"arguments\"_ or _\"parameters.\"_"
   ]
  },
  {
   "cell_type": "code",
   "execution_count": null,
   "metadata": {},
   "outputs": [],
   "source": [
    "def print_sum(a, b):\n",
    "    print(a + b)\n",
    "\n",
    "# This just displays the result, but you can't save it\n",
    "print_sum(3, 5)"
   ]
  },
  {
   "cell_type": "markdown",
   "metadata": {},
   "source": [
    "#### `return` statements\n",
    "In Python, if you want a function to give back a result that can be saved and used later, you need to include a `return` statement. This is different from just using `print()`, which only displays the output but doesn't allow you to save it as an object. __For example:__"
   ]
  },
  {
   "cell_type": "code",
   "execution_count": 33,
   "metadata": {},
   "outputs": [],
   "source": [
    "def add_numbers(a, b):\n",
    "    return(a + b)\n",
    "\n",
    "# This lets you store the result in a variable\n",
    "result = add_numbers(3, 5)"
   ]
  },
  {
   "cell_type": "code",
   "execution_count": null,
   "metadata": {},
   "outputs": [],
   "source": [
    "print(result)"
   ]
  },
  {
   "attachments": {},
   "cell_type": "markdown",
   "metadata": {},
   "source": [
    "#### Using `for` loops and `if` statements within functions\n",
    "\n",
    "We will often use these within our functions to efficiently construct new lists or dictionaries from existing iterables. __For example:__"
   ]
  },
  {
   "cell_type": "code",
   "execution_count": 35,
   "metadata": {},
   "outputs": [],
   "source": [
    "def reverse_complement(seq):\n",
    "    \"\"\"returns the reverse complement of a nucleic acid sequence\"\"\"\n",
    "    base_partner = {'A':'T', 'T':'A', 'C':'G', 'G':'C'}\n",
    "    bwd = ''\n",
    "    # iterate through all bases in the sequence\n",
    "    for base in seq:\n",
    "        # look up the complementary base in the dictionary\n",
    "        pair = base_partner[base]\n",
    "        # add the complentary base to the beginning of the string (reverse comp)\n",
    "        bwd = pair + bwd\n",
    "    return(bwd)"
   ]
  },
  {
   "cell_type": "code",
   "execution_count": null,
   "metadata": {},
   "outputs": [],
   "source": [
    "fwd = 'ACGGTAATGATCCTCAG'\n",
    "rev = reverse_complement(fwd)\n",
    "\n",
    "print(\"forward:\", fwd)\n",
    "print(\"reverse comp:\", rev)"
   ]
  },
  {
   "attachments": {},
   "cell_type": "markdown",
   "metadata": {},
   "source": [
    "#### Optional function arguments\n",
    "\n",
    "Functions can have OPTIONAL ARGUMENTS whose DEFAULT VALUES are pre-specified in the function definition."
   ]
  },
  {
   "cell_type": "code",
   "execution_count": 37,
   "metadata": {},
   "outputs": [],
   "source": [
    "def reverse_complement(seq, unk_partner='N'):\n",
    "    \"\"\"Returns the reverse complement of a nucleic acid sequence\n",
    "    \n",
    "    Uses unk_partner as the partner of unrecognized letters\n",
    "    \"\"\"\n",
    "    base_partner = {'A':'T', 'T':'A', 'C':'G', 'G':'C'}\n",
    "    rseq = ''\n",
    "    # iterate through all bases in the sequence\n",
    "    for a in seq:\n",
    "        # check if the base is in the dictionary\n",
    "        if a in base_partner:\n",
    "            # look up the complementary base in the dictionary\n",
    "            pair = base_partner[a]\n",
    "            # add the complentary base to the beginning of the string (reverse comp)\n",
    "            rseq = pair + rseq\n",
    "        else:\n",
    "            rseq = unk_partner + rseq\n",
    "    return rseq\n"
   ]
  },
  {
   "cell_type": "code",
   "execution_count": null,
   "metadata": {},
   "outputs": [],
   "source": [
    "fwd = 'ACTGTAGCxGAcTNCGAC'\n",
    "\n",
    "reverse_complement(fwd)"
   ]
  },
  {
   "cell_type": "code",
   "execution_count": null,
   "metadata": {},
   "outputs": [],
   "source": [
    "reverse_complement(fwd, unk_partner='-')"
   ]
  },
  {
   "attachments": {},
   "cell_type": "markdown",
   "metadata": {},
   "source": [
    "#### Viewing the function docstring and source code\n",
    "Try using `reverse_complement??` to see the docstring and source code of our new function. "
   ]
  },
  {
   "cell_type": "code",
   "execution_count": null,
   "metadata": {},
   "outputs": [],
   "source": [
    "reverse_complement??"
   ]
  },
  {
   "attachments": {},
   "cell_type": "markdown",
   "metadata": {},
   "source": [
    "-----\n",
    "# __Practice defining functions:__\n",
    "\n",
    "#### Write a function that uses a dictionary to count the number of times each base occurs.\n",
    "Be sure to account for sequences that contain uppercase and lowercase bases. I've provided an empty function here (with some docstrings already written). Use the provided test cases check your work."
   ]
  },
  {
   "cell_type": "code",
   "execution_count": 19,
   "metadata": {},
   "outputs": [],
   "source": [
    "def count_bases(seq, case='upper'):\n",
    "    \"\"\"Count the number of times each base occurs in the sequence.\n",
    "    \n",
    "    Parameters\n",
    "    ----------\n",
    "    seq : string\n",
    "        DNA sequence.\n",
    "    case : string, optional\n",
    "        Specifies the case in which to count the bases. Default is 'upper'.\n",
    "        \n",
    "    Returns\n",
    "    -------\n",
    "    dict\n",
    "        Keyed by each nucleotide, value is number of times the nucleotide\n",
    "        is observed in the sequence.\n",
    "        \n",
    "    HINT: <object>.upper() will convert the <object> string to uppercase\n",
    "    \n",
    "    \"\"\"\n",
    "    \n",
    "    # your code here ...\n",
    "    \n",
    "    return None\n",
    "                "
   ]
  },
  {
   "cell_type": "code",
   "execution_count": 30,
   "metadata": {},
   "outputs": [],
   "source": [
    "count_bases('AATXXGGCT')"
   ]
  },
  {
   "cell_type": "code",
   "execution_count": 31,
   "metadata": {},
   "outputs": [],
   "source": [
    "count_bases('aatTGGcT', case = \"lower\")"
   ]
  },
  {
   "cell_type": "markdown",
   "metadata": {},
   "source": [
    "-----\n",
    "#### Functions can call other functions and modules\n",
    "\n",
    "Python has an extensive collection of built-in **modules** which contain all sorts of useful special purpose functions and objects. A few favorites:\n",
    "\n",
    "* `math`: mathematical functions and constants\n",
    "* `re`: regular expression searches.\n",
    "* `os`: access to operating system routines (e.g., `os.path.exists` function to check if a file exists)\n",
    "* `sys`: special variables used or maintained by the interpreter (`sys.path`, `sys.stdout`, `sys.argv`, ...)\n",
    "* `random`: random number generators\n",
    "\n",
    "[The full list is here](https://docs.python.org/3/library/)"
   ]
  },
  {
   "cell_type": "code",
   "execution_count": 41,
   "metadata": {},
   "outputs": [],
   "source": [
    "# Here we are \"importing\" a module called math which contains some math-y functions like sqrt and log\n",
    "import math\n",
    "\n",
    "def log_sqrt( num ):\n",
    "    \"\"\"Take the log of the sqrt of a number \"\"\"\n",
    "\n",
    "    # get the square root\n",
    "    sqrt_value = math.sqrt(num)\n",
    "    \n",
    "    # take the log\n",
    "    log_value = math.log(sqrt_value)\n",
    "  \n",
    "    return(log_value)"
   ]
  },
  {
   "cell_type": "code",
   "execution_count": null,
   "metadata": {},
   "outputs": [],
   "source": [
    "log_sqrt(124)"
   ]
  },
  {
   "attachments": {},
   "cell_type": "markdown",
   "metadata": {},
   "source": [
    "---\n",
    "# __New module:__  Regular expressions\n",
    "\n",
    "#### A __regular expression__ is a sequence of characters that forms a __search pattern__.\n",
    "They can be used to check if a string contains the specified search pattern.\n",
    "This is particularly useful when parsing strings\n",
    "\n",
    "The `re` package offers a set of functions that allows us to search a string for a match using \"regular expressions\". \n",
    "The main functions we will be using are called `search` which allows us to find string matches at any position in the string.\n",
    "We can search for a pattern in a string like this:\n",
    "\n",
    "```\n",
    "import re\n",
    "string = \"This is an example string\"\n",
    "\n",
    "# compile the search pattern\n",
    "search_pattern = re.compile(\"search pattern here\")\n",
    "\n",
    "# search for the search pattern in the string\n",
    "search_pattern.search(string)\n",
    "```\n",
    "\n",
    "#### Here are some common elements to have in your __search pattern__:\n",
    "\n",
    "* **Specific patterns:**\n",
    "    * **Specific letter characters** (e.g., `A`, `B`, `C`, ...): Matches any occurrence of the specified letter in the string.\n",
    "    * **Specific numerical digits** (e.g., `1`, `2`, `3`, ...): Matches any occurrence of the specified digit.\n",
    "    * **Specific special characters** (e.g., `*`, `$`, ...): Matches any occurrence of the specified special character. Special characters need to be preceded by a `\\` (e.g., `\\.` for a period, `\\$` for a dollar sign).\n",
    "  \n",
    "* **General patterns:**\n",
    "    * **Numerical digits**: `\\d` matches any digit (numbers `0`–`9`).\n",
    "    * **Any single character**: `.` matches _any_ single character.\n",
    "    * **Any letter or character from a set**: `[]` allows you to specify a set of characters to search for (e.g., `[a-n]` matches any lowercase letter from `a` to `n`).\n",
    "    * **One or more occurrences**: `+` specifies one or more occurrences of the preceding pattern (e.g., `a+` matches \"a\", \"aa\", etc.).\n",
    "    * **Exact number of occurrences**: `{}` specifies an exact number of occurrences of the preceding pattern (e.g., `a{6}` matches exactly six \"a\" characters).\n",
    "\n",
    "* **Anchors for start/end of string**:\n",
    "    * **End of string**: `$` matches the end of the string (e.g., `\\d$` matches a string that ends with a digit).\n",
    "    * **Beginning of string**: `^` matches the beginning of the string (e.g., `^A` matches any string that starts with \"A\").\n",
    "\n",
    "\n",
    "There are lots of handy special codes in the Python regular expression module (see [here](https://docs.python.org/3.7/library/re.html)), and you can use them to do almost any type of string matching.\n",
    "\n",
    "You can test your regular expression calls using [this website](https://regex101.com)"
   ]
  },
  {
   "cell_type": "markdown",
   "metadata": {},
   "source": [
    "#### Example:\n",
    "Here is a common example dealing with influenza.\n",
    "You download some strains from the database, and they have names that look like this:"
   ]
  },
  {
   "cell_type": "code",
   "execution_count": 43,
   "metadata": {},
   "outputs": [],
   "source": [
    "strain = 'A/New York/3/1994 (H3N2)'"
   ]
  },
  {
   "attachments": {},
   "cell_type": "markdown",
   "metadata": {},
   "source": [
    "Say you want to get some information out of these, like the year. Let's build a regular expression that gets the year out of `strain`:"
   ]
  },
  {
   "cell_type": "code",
   "execution_count": null,
   "metadata": {},
   "outputs": [],
   "source": [
    "import re\n",
    "\n",
    "# compile a re for the year\n",
    "yearmatch = re.compile('\\d{4}')\n",
    "\n",
    "# search for the search pattern in the string\n",
    "match = yearmatch.search(strain)\n",
    "\n",
    "# return our search pattern match\n",
    "print(match)\n"
   ]
  },
  {
   "attachments": {},
   "cell_type": "markdown",
   "metadata": {},
   "source": [
    "#### Adding __groups__ and __names__ to search patterns\n",
    "\n",
    "Sometimes you may want to group parts of a search pattern or create named groups for easier reference. Here's how:\n",
    "\n",
    "* **Grouping patterns**: `()` is used to group part of your search pattern. Everything inside the parentheses is treated as a single unit, and you can capture and reference this group.\n",
    "* **Named groups**: `(?P<name>...)` defines a named group with the specified name, allowing you to reference this part of the match later (e.g., `(?P<name>\\d{4})` for a four-digit year)."
   ]
  },
  {
   "cell_type": "code",
   "execution_count": null,
   "metadata": {},
   "outputs": [],
   "source": [
    "# compile a named re for the year\n",
    "## here, we are searching for 4 digits that are preceded by the / character\n",
    "named_yearmatch = re.compile('\\/(?P<year>\\d{4})')\n",
    "\n",
    "# search for the search pattern in the string\n",
    "named_search = named_yearmatch.search(strain)\n",
    "\n",
    "# isolate named pattern\n",
    "year = named_search.group('year')\n",
    "\n",
    "print(year)\n"
   ]
  },
  {
   "attachments": {},
   "cell_type": "markdown",
   "metadata": {},
   "source": [
    "----\n",
    "### __Practice:__ \n",
    "\n",
    "#### Let's build a regular expression that gets the subtype (e.g. `H3N2`) out the `strain` object\n",
    "\n",
    "_Hints:_\n",
    "- _Be sure to name the search pattern `subtype`_\n",
    "- _Include the parentheses in your search pattern, but not in the final named search pattern_"
   ]
  },
  {
   "cell_type": "code",
   "execution_count": 38,
   "metadata": {},
   "outputs": [],
   "source": [
    "# your code here"
   ]
  },
  {
   "attachments": {},
   "cell_type": "markdown",
   "metadata": {},
   "source": [
    "----\n",
    "### __Practice:__\n",
    "\n",
    "#### Using regular expressions to parse barcodes\n",
    "\n",
    "Now we will use regular expressions to parse barcodes from nucleotide sequences.\n",
    "For instance, you might have to do this in a single-cell RNA-seq experiment where there is a barcode at the end of each read telling you the cell that the read came from.\n",
    "\n",
    "Imagine that our valid molecules should have sequences like this:\n",
    "\n",
    "`CTAGCNNNNNNGATCA`\n",
    "\n",
    "See how there is a 6-nucleotide barcode in the center of the sequence.\n",
    "We have a list of sequences, and want to parse through them to figure out which ones meet the expected pattern--and get the barcode from those that do:"
   ]
  },
  {
   "cell_type": "code",
   "execution_count": 35,
   "metadata": {},
   "outputs": [],
   "source": [
    "seqs = ['CTAGCatcgatGATCA',  # has barcode ATCGAT\n",
    "        'CCAGCatagcaGATCA',  # does not have expected 5' sequence\n",
    "        'CTAGCtacagGATCA',   # barcode too short\n",
    "        'CTAGCgaccatGATCA',  # has barcode GACCAT\n",
    "        'CTAGCatcgatGATCA',  # has barcode ATCGAT\n",
    "        'CTAGCatcgatGGTCA',  # does not have expected 3' sequence\n",
    "        ]"
   ]
  },
  {
   "attachments": {},
   "cell_type": "markdown",
   "metadata": {},
   "source": [
    "Write a function that parses these barcoded sequences and gets the ones with valid barcodes.\n",
    "In doing this, note that:\n",
    "\n",
    "  1. If you have a string `s`, `s.upper()` makes it all uppercase.\n",
    "  2. You can access elements of a dictionary using a key value like this: `dictionary_name[key_name]`\n",
    "    \n",
    "Below I've written the function documentation, try to implement it.\n",
    "__Take a few minutes in groups to work through this.__"
   ]
  },
  {
   "cell_type": "code",
   "execution_count": 36,
   "metadata": {},
   "outputs": [],
   "source": [
    "def count_barcodes(seqs, bclen=6, upstream='CTAGC', downstream='GATCA'):\n",
    "    \"\"\"Parse and count barcodes.\n",
    "    \n",
    "    Parameters\n",
    "    ----------\n",
    "    seqs : list\n",
    "        DNA sequences.\n",
    "    bclen : int\n",
    "        Length of barcode\n",
    "    upstream : str\n",
    "        Sequence upstream of barcode.\n",
    "    downstream : str\n",
    "        Sequence downstream of barcode.\n",
    "        \n",
    "    Returns\n",
    "    -------\n",
    "    dict\n",
    "        Keyed by each valid barcode, value is number of times the barcode\n",
    "        is observed.\n",
    "        \n",
    "    Note\n",
    "    ----\n",
    "    The function is **not** case-sensitive, and all barcodes are reported\n",
    "    in upper-case.\n",
    "    \n",
    "    \"\"\"\n",
    "    \n",
    "    # your code here ...\n",
    "    \n",
    "    return None\n"
   ]
  },
  {
   "attachments": {},
   "cell_type": "markdown",
   "metadata": {},
   "source": [
    "Run the function once you've implemented it. Does it give the correct result?"
   ]
  },
  {
   "cell_type": "code",
   "execution_count": 37,
   "metadata": {},
   "outputs": [],
   "source": [
    "count_barcodes(seqs)"
   ]
  }
 ],
 "metadata": {
  "kernelspec": {
   "display_name": "base",
   "language": "python",
   "name": "python3"
  },
  "language_info": {
   "codemirror_mode": {
    "name": "ipython",
    "version": 3
   },
   "file_extension": ".py",
   "mimetype": "text/x-python",
   "name": "python",
   "nbconvert_exporter": "python",
   "pygments_lexer": "ipython3",
   "version": "3.9.12"
  },
  "toc": {
   "nav_menu": {},
   "number_sections": false,
   "sideBar": true,
   "skip_h1_title": false,
   "toc_cell": false,
   "toc_position": {
    "height": "623.8px",
    "left": "0px",
    "right": "829.6px",
    "top": "33.2px",
    "width": "322.4px"
   },
   "toc_section_display": "block",
   "toc_window_display": true
  }
 },
 "nbformat": 4,
 "nbformat_minor": 4
}
