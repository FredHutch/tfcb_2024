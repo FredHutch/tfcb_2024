{
 "cells": [
  {
   "cell_type": "markdown",
   "metadata": {},
   "source": [
    "# Working with immune repertoire sequence data using `R`"
   ]
  },
  {
   "cell_type": "markdown",
   "metadata": {},
   "source": [
    "We will be using `tidyverse` and `Bioconductor` to work with pre-processed immune repertoire sequence data in `R`.\n",
    "You have already learned about both of these collections of packages, and today's class will give you the opportunity to practice using them in a new biological context.\n",
    "\n",
    "Goals for today's class:\n",
    "1. Familiarize with the format of immune repertoire sequence data\n",
    "2. Work through an example analysis, and practice on your own"
   ]
  },
  {
   "cell_type": "markdown",
   "metadata": {},
   "source": [
    "## Load packages"
   ]
  },
  {
   "cell_type": "code",
   "execution_count": 1,
   "metadata": {
    "vscode": {
     "languageId": "r"
    }
   },
   "outputs": [
    {
     "name": "stderr",
     "output_type": "stream",
     "text": [
      "Loading required package: BiocGenerics\n",
      "\n",
      "\n",
      "Attaching package: ‘BiocGenerics’\n",
      "\n",
      "\n",
      "The following objects are masked from ‘package:stats’:\n",
      "\n",
      "    IQR, mad, sd, var, xtabs\n",
      "\n",
      "\n",
      "The following objects are masked from ‘package:base’:\n",
      "\n",
      "    anyDuplicated, append, as.data.frame, basename, cbind, colnames,\n",
      "    dirname, do.call, duplicated, eval, evalq, Filter, Find, get, grep,\n",
      "    grepl, intersect, is.unsorted, lapply, Map, mapply, match, mget,\n",
      "    order, paste, pmax, pmax.int, pmin, pmin.int, Position, rank,\n",
      "    rbind, Reduce, rownames, sapply, setdiff, sort, table, tapply,\n",
      "    union, unique, unsplit, which.max, which.min\n",
      "\n",
      "\n",
      "Loading required package: S4Vectors\n",
      "\n",
      "Loading required package: stats4\n",
      "\n",
      "\n",
      "Attaching package: ‘S4Vectors’\n",
      "\n",
      "\n",
      "The following objects are masked from ‘package:base’:\n",
      "\n",
      "    expand.grid, I, unname\n",
      "\n",
      "\n",
      "Loading required package: IRanges\n",
      "\n",
      "Loading required package: XVector\n",
      "\n",
      "Loading required package: GenomeInfoDb\n",
      "\n",
      "\n",
      "Attaching package: ‘Biostrings’\n",
      "\n",
      "\n",
      "The following object is masked from ‘package:base’:\n",
      "\n",
      "    strsplit\n",
      "\n",
      "\n",
      "── \u001b[1mAttaching packages\u001b[22m ─────────────────────────────────────── tidyverse 1.3.1 ──\n",
      "\n",
      "\u001b[32m✔\u001b[39m \u001b[34mggplot2\u001b[39m 3.3.6     \u001b[32m✔\u001b[39m \u001b[34mpurrr  \u001b[39m 0.3.4\n",
      "\u001b[32m✔\u001b[39m \u001b[34mtibble \u001b[39m 3.1.7     \u001b[32m✔\u001b[39m \u001b[34mdplyr  \u001b[39m 1.0.9\n",
      "\u001b[32m✔\u001b[39m \u001b[34mtidyr  \u001b[39m 1.2.0     \u001b[32m✔\u001b[39m \u001b[34mstringr\u001b[39m 1.4.0\n",
      "\u001b[32m✔\u001b[39m \u001b[34mreadr  \u001b[39m 2.1.2     \u001b[32m✔\u001b[39m \u001b[34mforcats\u001b[39m 0.5.1\n",
      "\n",
      "── \u001b[1mConflicts\u001b[22m ────────────────────────────────────────── tidyverse_conflicts() ──\n",
      "\u001b[31m✖\u001b[39m \u001b[34mdplyr\u001b[39m::\u001b[32mcollapse()\u001b[39m   masks \u001b[34mBiostrings\u001b[39m::collapse(), \u001b[34mIRanges\u001b[39m::collapse()\n",
      "\u001b[31m✖\u001b[39m \u001b[34mdplyr\u001b[39m::\u001b[32mcombine()\u001b[39m    masks \u001b[34mBiocGenerics\u001b[39m::combine()\n",
      "\u001b[31m✖\u001b[39m \u001b[34mpurrr\u001b[39m::\u001b[32mcompact()\u001b[39m    masks \u001b[34mXVector\u001b[39m::compact()\n",
      "\u001b[31m✖\u001b[39m \u001b[34mdplyr\u001b[39m::\u001b[32mdesc()\u001b[39m       masks \u001b[34mIRanges\u001b[39m::desc()\n",
      "\u001b[31m✖\u001b[39m \u001b[34mtidyr\u001b[39m::\u001b[32mexpand()\u001b[39m     masks \u001b[34mS4Vectors\u001b[39m::expand()\n",
      "\u001b[31m✖\u001b[39m \u001b[34mdplyr\u001b[39m::\u001b[32mfilter()\u001b[39m     masks \u001b[34mstats\u001b[39m::filter()\n",
      "\u001b[31m✖\u001b[39m \u001b[34mdplyr\u001b[39m::\u001b[32mfirst()\u001b[39m      masks \u001b[34mS4Vectors\u001b[39m::first()\n",
      "\u001b[31m✖\u001b[39m \u001b[34mdplyr\u001b[39m::\u001b[32mlag()\u001b[39m        masks \u001b[34mstats\u001b[39m::lag()\n",
      "\u001b[31m✖\u001b[39m \u001b[34mggplot2\u001b[39m::\u001b[32mPosition()\u001b[39m masks \u001b[34mBiocGenerics\u001b[39m::Position(), \u001b[34mbase\u001b[39m::Position()\n",
      "\u001b[31m✖\u001b[39m \u001b[34mpurrr\u001b[39m::\u001b[32mreduce()\u001b[39m     masks \u001b[34mIRanges\u001b[39m::reduce()\n",
      "\u001b[31m✖\u001b[39m \u001b[34mdplyr\u001b[39m::\u001b[32mrename()\u001b[39m     masks \u001b[34mS4Vectors\u001b[39m::rename()\n",
      "\u001b[31m✖\u001b[39m \u001b[34mdplyr\u001b[39m::\u001b[32mslice()\u001b[39m      masks \u001b[34mXVector\u001b[39m::slice(), \u001b[34mIRanges\u001b[39m::slice()\n",
      "\n"
     ]
    }
   ],
   "source": [
    "library(Biostrings)\n",
    "library(tidyverse)"
   ]
  },
  {
   "cell_type": "markdown",
   "metadata": {},
   "source": [
    "## Loading the data"
   ]
  },
  {
   "cell_type": "code",
   "execution_count": 2,
   "metadata": {
    "vscode": {
     "languageId": "r"
    }
   },
   "outputs": [],
   "source": [
    "indiv1 <- read.csv('https://drive.google.com/uc?id=1b1oXlhg99_YCPK_HzFL2ohYPDxvTbQOo', sep = '\\t', header = TRUE)\n",
    "indiv2 <- read.csv('https://drive.google.com/uc?id=10qMY16H9wD_wuC4ISAJRTRx_bOeclg5D', sep = '\\t', header = TRUE)"
   ]
  },
  {
   "cell_type": "markdown",
   "metadata": {},
   "source": [
    "Let's take a look at the data. \n",
    "Recall that each annotated sequence takes the form:\n",
    "\n",
    "5'-[__Vgene__]-(_possible Vgene deletion_)-[__N1insertion__]-(_possible Dgene deletion_)-[__D gene__]-(_possible Dgene deletion_)-[__N2insertion__]-(_possible Jgene deletion_)-[__J gene with possible deletion__]-3'\n",
    "\n",
    "Using the column names given by the file, we can interpret this as:\n",
    "\n",
    "5'-[__`v_gene`__]-(_`v_trim`_)-[__`vd_insert`__]-(_`d0_trim`_)-[__`d_gene`__]-(_`d1_trim`_)-[__`dj_insert`__]-(_`j_trim`_)-[__`j_gene`__]-3'"
   ]
  },
  {
   "cell_type": "code",
   "execution_count": 3,
   "metadata": {
    "vscode": {
     "languageId": "r"
    }
   },
   "outputs": [
    {
     "data": {
      "text/html": [
       "<table class=\"dataframe\">\n",
       "<caption>A data.frame: 6 × 15</caption>\n",
       "<thead>\n",
       "\t<tr><th></th><th scope=col>seq_index</th><th scope=col>cdr3_nucseq</th><th scope=col>cdr3</th><th scope=col>v_gene</th><th scope=col>d_gene</th><th scope=col>j_gene</th><th scope=col>v_trim</th><th scope=col>d5_trim</th><th scope=col>d3_trim</th><th scope=col>j_trim</th><th scope=col>vd_insert</th><th scope=col>dj_insert</th><th scope=col>vd_insert_nucs</th><th scope=col>dj_insert_nucs</th><th scope=col>productive</th></tr>\n",
       "\t<tr><th></th><th scope=col>&lt;int&gt;</th><th scope=col>&lt;chr&gt;</th><th scope=col>&lt;chr&gt;</th><th scope=col>&lt;chr&gt;</th><th scope=col>&lt;chr&gt;</th><th scope=col>&lt;chr&gt;</th><th scope=col>&lt;int&gt;</th><th scope=col>&lt;int&gt;</th><th scope=col>&lt;int&gt;</th><th scope=col>&lt;int&gt;</th><th scope=col>&lt;int&gt;</th><th scope=col>&lt;int&gt;</th><th scope=col>&lt;chr&gt;</th><th scope=col>&lt;chr&gt;</th><th scope=col>&lt;lgl&gt;</th></tr>\n",
       "</thead>\n",
       "<tbody>\n",
       "\t<tr><th scope=row>1</th><td>0</td><td>TGTGCCAGTAGTATTTTACAATGAGCAGTTCTTC</td><td>           </td><td>TRBV19*01  </td><td>TRBD1*01</td><td>TRBJ2-1*01</td><td>3</td><td> 0</td><td>12</td><td> 4</td><td>0</td><td>2</td><td>    </td><td>TT</td><td>FALSE</td></tr>\n",
       "\t<tr><th scope=row>2</th><td>1</td><td>TGTGCCAGCAGCTTGAATCACGAGCAGTACTTC </td><td>CASSLNHEQYF</td><td>TRBV5-6*01 </td><td>TRBD2*02</td><td>TRBJ2-7*01</td><td>1</td><td> 3</td><td>13</td><td> 5</td><td>4</td><td>0</td><td>AATC</td><td>  </td><td> TRUE</td></tr>\n",
       "\t<tr><th scope=row>3</th><td>2</td><td>TGCGCCAGCAGCTTGGCAGAGACCCAGTACTTC </td><td>CASSLAETQYF</td><td>TRBV5-1*01 </td><td>TRBD1*01</td><td>TRBJ2-5*01</td><td>2</td><td> 9</td><td> 0</td><td> 4</td><td>0</td><td>0</td><td>    </td><td>  </td><td> TRUE</td></tr>\n",
       "\t<tr><th scope=row>4</th><td>3</td><td>TGTGCCAGCAGGTGGCAATCAGCCCCAGCATTTT</td><td>           </td><td>TRBV7-9*01 </td><td>TRBD2*02</td><td>TRBJ1-5*01</td><td>7</td><td>10</td><td> 4</td><td> 2</td><td>0</td><td>2</td><td>    </td><td>GT</td><td>FALSE</td></tr>\n",
       "\t<tr><th scope=row>5</th><td>4</td><td>TGTGCCAGCAGCCTGAGCTTTCTTT         </td><td>           </td><td>TRBV3-2*01 </td><td>TRBD2*02</td><td>TRBJ1-1*01</td><td>4</td><td>14</td><td> 1</td><td>11</td><td>1</td><td>1</td><td>T   </td><td>A </td><td>FALSE</td></tr>\n",
       "\t<tr><th scope=row>6</th><td>5</td><td>TGTGCCAGCAGGTGTATTTT              </td><td>           </td><td>TRBV12-3*01</td><td>TRBD2*02</td><td>TRBJ1-3*01</td><td>6</td><td> 1</td><td>14</td><td>16</td><td>2</td><td>0</td><td>GT  </td><td>  </td><td>FALSE</td></tr>\n",
       "</tbody>\n",
       "</table>\n"
      ],
      "text/latex": [
       "A data.frame: 6 × 15\n",
       "\\begin{tabular}{r|lllllllllllllll}\n",
       "  & seq\\_index & cdr3\\_nucseq & cdr3 & v\\_gene & d\\_gene & j\\_gene & v\\_trim & d5\\_trim & d3\\_trim & j\\_trim & vd\\_insert & dj\\_insert & vd\\_insert\\_nucs & dj\\_insert\\_nucs & productive\\\\\n",
       "  & <int> & <chr> & <chr> & <chr> & <chr> & <chr> & <int> & <int> & <int> & <int> & <int> & <int> & <chr> & <chr> & <lgl>\\\\\n",
       "\\hline\n",
       "\t1 & 0 & TGTGCCAGTAGTATTTTACAATGAGCAGTTCTTC &             & TRBV19*01   & TRBD1*01 & TRBJ2-1*01 & 3 &  0 & 12 &  4 & 0 & 2 &      & TT & FALSE\\\\\n",
       "\t2 & 1 & TGTGCCAGCAGCTTGAATCACGAGCAGTACTTC  & CASSLNHEQYF & TRBV5-6*01  & TRBD2*02 & TRBJ2-7*01 & 1 &  3 & 13 &  5 & 4 & 0 & AATC &    &  TRUE\\\\\n",
       "\t3 & 2 & TGCGCCAGCAGCTTGGCAGAGACCCAGTACTTC  & CASSLAETQYF & TRBV5-1*01  & TRBD1*01 & TRBJ2-5*01 & 2 &  9 &  0 &  4 & 0 & 0 &      &    &  TRUE\\\\\n",
       "\t4 & 3 & TGTGCCAGCAGGTGGCAATCAGCCCCAGCATTTT &             & TRBV7-9*01  & TRBD2*02 & TRBJ1-5*01 & 7 & 10 &  4 &  2 & 0 & 2 &      & GT & FALSE\\\\\n",
       "\t5 & 4 & TGTGCCAGCAGCCTGAGCTTTCTTT          &             & TRBV3-2*01  & TRBD2*02 & TRBJ1-1*01 & 4 & 14 &  1 & 11 & 1 & 1 & T    & A  & FALSE\\\\\n",
       "\t6 & 5 & TGTGCCAGCAGGTGTATTTT               &             & TRBV12-3*01 & TRBD2*02 & TRBJ1-3*01 & 6 &  1 & 14 & 16 & 2 & 0 & GT   &    & FALSE\\\\\n",
       "\\end{tabular}\n"
      ],
      "text/markdown": [
       "\n",
       "A data.frame: 6 × 15\n",
       "\n",
       "| <!--/--> | seq_index &lt;int&gt; | cdr3_nucseq &lt;chr&gt; | cdr3 &lt;chr&gt; | v_gene &lt;chr&gt; | d_gene &lt;chr&gt; | j_gene &lt;chr&gt; | v_trim &lt;int&gt; | d5_trim &lt;int&gt; | d3_trim &lt;int&gt; | j_trim &lt;int&gt; | vd_insert &lt;int&gt; | dj_insert &lt;int&gt; | vd_insert_nucs &lt;chr&gt; | dj_insert_nucs &lt;chr&gt; | productive &lt;lgl&gt; |\n",
       "|---|---|---|---|---|---|---|---|---|---|---|---|---|---|---|---|\n",
       "| 1 | 0 | TGTGCCAGTAGTATTTTACAATGAGCAGTTCTTC | <!----> | TRBV19*01   | TRBD1*01 | TRBJ2-1*01 | 3 |  0 | 12 |  4 | 0 | 2 | <!----> | TT | FALSE |\n",
       "| 2 | 1 | TGTGCCAGCAGCTTGAATCACGAGCAGTACTTC  | CASSLNHEQYF | TRBV5-6*01  | TRBD2*02 | TRBJ2-7*01 | 1 |  3 | 13 |  5 | 4 | 0 | AATC | <!----> |  TRUE |\n",
       "| 3 | 2 | TGCGCCAGCAGCTTGGCAGAGACCCAGTACTTC  | CASSLAETQYF | TRBV5-1*01  | TRBD1*01 | TRBJ2-5*01 | 2 |  9 |  0 |  4 | 0 | 0 | <!----> | <!----> |  TRUE |\n",
       "| 4 | 3 | TGTGCCAGCAGGTGGCAATCAGCCCCAGCATTTT | <!----> | TRBV7-9*01  | TRBD2*02 | TRBJ1-5*01 | 7 | 10 |  4 |  2 | 0 | 2 | <!----> | GT | FALSE |\n",
       "| 5 | 4 | TGTGCCAGCAGCCTGAGCTTTCTTT          | <!----> | TRBV3-2*01  | TRBD2*02 | TRBJ1-1*01 | 4 | 14 |  1 | 11 | 1 | 1 | T    | A  | FALSE |\n",
       "| 6 | 5 | TGTGCCAGCAGGTGTATTTT               | <!----> | TRBV12-3*01 | TRBD2*02 | TRBJ1-3*01 | 6 |  1 | 14 | 16 | 2 | 0 | GT   | <!----> | FALSE |\n",
       "\n"
      ],
      "text/plain": [
       "  seq_index cdr3_nucseq                        cdr3        v_gene      d_gene  \n",
       "1 0         TGTGCCAGTAGTATTTTACAATGAGCAGTTCTTC             TRBV19*01   TRBD1*01\n",
       "2 1         TGTGCCAGCAGCTTGAATCACGAGCAGTACTTC  CASSLNHEQYF TRBV5-6*01  TRBD2*02\n",
       "3 2         TGCGCCAGCAGCTTGGCAGAGACCCAGTACTTC  CASSLAETQYF TRBV5-1*01  TRBD1*01\n",
       "4 3         TGTGCCAGCAGGTGGCAATCAGCCCCAGCATTTT             TRBV7-9*01  TRBD2*02\n",
       "5 4         TGTGCCAGCAGCCTGAGCTTTCTTT                      TRBV3-2*01  TRBD2*02\n",
       "6 5         TGTGCCAGCAGGTGTATTTT                           TRBV12-3*01 TRBD2*02\n",
       "  j_gene     v_trim d5_trim d3_trim j_trim vd_insert dj_insert vd_insert_nucs\n",
       "1 TRBJ2-1*01 3       0      12       4     0         2                       \n",
       "2 TRBJ2-7*01 1       3      13       5     4         0         AATC          \n",
       "3 TRBJ2-5*01 2       9       0       4     0         0                       \n",
       "4 TRBJ1-5*01 7      10       4       2     0         2                       \n",
       "5 TRBJ1-1*01 4      14       1      11     1         1         T             \n",
       "6 TRBJ1-3*01 6       1      14      16     2         0         GT            \n",
       "  dj_insert_nucs productive\n",
       "1 TT             FALSE     \n",
       "2                 TRUE     \n",
       "3                 TRUE     \n",
       "4 GT             FALSE     \n",
       "5 A              FALSE     \n",
       "6                FALSE     "
      ]
     },
     "metadata": {},
     "output_type": "display_data"
    }
   ],
   "source": [
    "head(indiv2)"
   ]
  },
  {
   "cell_type": "markdown",
   "metadata": {},
   "source": [
    "## Some example analyses using `tidyverse` and `Bioconductor`"
   ]
  },
  {
   "cell_type": "markdown",
   "metadata": {},
   "source": [
    "Find which V-gene occurs most frequently for individual 2"
   ]
  },
  {
   "cell_type": "code",
   "execution_count": 4,
   "metadata": {
    "vscode": {
     "languageId": "r"
    }
   },
   "outputs": [
    {
     "data": {
      "text/html": [
       "<table class=\"dataframe\">\n",
       "<caption>A tibble: 6 × 2</caption>\n",
       "<thead>\n",
       "\t<tr><th scope=col>v_gene</th><th scope=col>total_count</th></tr>\n",
       "\t<tr><th scope=col>&lt;chr&gt;</th><th scope=col>&lt;int&gt;</th></tr>\n",
       "</thead>\n",
       "<tbody>\n",
       "\t<tr><td>TRBV20-1*01</td><td>7510</td></tr>\n",
       "\t<tr><td>TRBV30*01  </td><td>3846</td></tr>\n",
       "\t<tr><td>TRBV19*01  </td><td>3358</td></tr>\n",
       "\t<tr><td>TRBV6-5*01 </td><td>3271</td></tr>\n",
       "\t<tr><td>TRBV9*01   </td><td>2999</td></tr>\n",
       "\t<tr><td>TRBV18*01  </td><td>2879</td></tr>\n",
       "</tbody>\n",
       "</table>\n"
      ],
      "text/latex": [
       "A tibble: 6 × 2\n",
       "\\begin{tabular}{ll}\n",
       " v\\_gene & total\\_count\\\\\n",
       " <chr> & <int>\\\\\n",
       "\\hline\n",
       "\t TRBV20-1*01 & 7510\\\\\n",
       "\t TRBV30*01   & 3846\\\\\n",
       "\t TRBV19*01   & 3358\\\\\n",
       "\t TRBV6-5*01  & 3271\\\\\n",
       "\t TRBV9*01    & 2999\\\\\n",
       "\t TRBV18*01   & 2879\\\\\n",
       "\\end{tabular}\n"
      ],
      "text/markdown": [
       "\n",
       "A tibble: 6 × 2\n",
       "\n",
       "| v_gene &lt;chr&gt; | total_count &lt;int&gt; |\n",
       "|---|---|\n",
       "| TRBV20-1*01 | 7510 |\n",
       "| TRBV30*01   | 3846 |\n",
       "| TRBV19*01   | 3358 |\n",
       "| TRBV6-5*01  | 3271 |\n",
       "| TRBV9*01    | 2999 |\n",
       "| TRBV18*01   | 2879 |\n",
       "\n"
      ],
      "text/plain": [
       "  v_gene      total_count\n",
       "1 TRBV20-1*01 7510       \n",
       "2 TRBV30*01   3846       \n",
       "3 TRBV19*01   3358       \n",
       "4 TRBV6-5*01  3271       \n",
       "5 TRBV9*01    2999       \n",
       "6 TRBV18*01   2879       "
      ]
     },
     "metadata": {},
     "output_type": "display_data"
    }
   ],
   "source": [
    "Vcounts2 <- indiv2 %>%\n",
    "                group_by(v_gene) %>%\n",
    "                summarise(total_count = n()) %>%\n",
    "                arrange(desc(total_count))\n",
    "\n",
    "head(Vcounts2)"
   ]
  },
  {
   "cell_type": "markdown",
   "metadata": {},
   "source": [
    "Plot the distribution of trimming lengths for that gene"
   ]
  },
  {
   "cell_type": "code",
   "execution_count": 5,
   "metadata": {
    "vscode": {
     "languageId": "r"
    }
   },
   "outputs": [
    {
     "data": {
      "text/html": [
       "<table class=\"dataframe\">\n",
       "<caption>A tibble: 1 × 2</caption>\n",
       "<thead>\n",
       "\t<tr><th scope=col>v_gene</th><th scope=col>total_count</th></tr>\n",
       "\t<tr><th scope=col>&lt;chr&gt;</th><th scope=col>&lt;int&gt;</th></tr>\n",
       "</thead>\n",
       "<tbody>\n",
       "\t<tr><td>TRBV20-1*01</td><td>7510</td></tr>\n",
       "</tbody>\n",
       "</table>\n"
      ],
      "text/latex": [
       "A tibble: 1 × 2\n",
       "\\begin{tabular}{ll}\n",
       " v\\_gene & total\\_count\\\\\n",
       " <chr> & <int>\\\\\n",
       "\\hline\n",
       "\t TRBV20-1*01 & 7510\\\\\n",
       "\\end{tabular}\n"
      ],
      "text/markdown": [
       "\n",
       "A tibble: 1 × 2\n",
       "\n",
       "| v_gene &lt;chr&gt; | total_count &lt;int&gt; |\n",
       "|---|---|\n",
       "| TRBV20-1*01 | 7510 |\n",
       "\n"
      ],
      "text/plain": [
       "  v_gene      total_count\n",
       "1 TRBV20-1*01 7510       "
      ]
     },
     "metadata": {},
     "output_type": "display_data"
    }
   ],
   "source": [
    "# isolate most frequently used V-gene\n",
    "most_frequent_V <- Vcounts2 %>%\n",
    "                    filter(total_count == max(Vcounts2$total_count))\n",
    "\n",
    "head(most_frequent_V)"
   ]
  },
  {
   "cell_type": "code",
   "execution_count": 6,
   "metadata": {
    "vscode": {
     "languageId": "r"
    }
   },
   "outputs": [
    {
     "data": {
      "text/html": [
       "<table class=\"dataframe\">\n",
       "<caption>A data.frame: 6 × 15</caption>\n",
       "<thead>\n",
       "\t<tr><th></th><th scope=col>seq_index</th><th scope=col>cdr3_nucseq</th><th scope=col>cdr3</th><th scope=col>v_gene</th><th scope=col>d_gene</th><th scope=col>j_gene</th><th scope=col>v_trim</th><th scope=col>d5_trim</th><th scope=col>d3_trim</th><th scope=col>j_trim</th><th scope=col>vd_insert</th><th scope=col>dj_insert</th><th scope=col>vd_insert_nucs</th><th scope=col>dj_insert_nucs</th><th scope=col>productive</th></tr>\n",
       "\t<tr><th></th><th scope=col>&lt;int&gt;</th><th scope=col>&lt;chr&gt;</th><th scope=col>&lt;chr&gt;</th><th scope=col>&lt;chr&gt;</th><th scope=col>&lt;chr&gt;</th><th scope=col>&lt;chr&gt;</th><th scope=col>&lt;int&gt;</th><th scope=col>&lt;int&gt;</th><th scope=col>&lt;int&gt;</th><th scope=col>&lt;int&gt;</th><th scope=col>&lt;int&gt;</th><th scope=col>&lt;int&gt;</th><th scope=col>&lt;chr&gt;</th><th scope=col>&lt;chr&gt;</th><th scope=col>&lt;lgl&gt;</th></tr>\n",
       "</thead>\n",
       "<tbody>\n",
       "\t<tr><th scope=row>1</th><td>  6</td><td>TGCAGTGCTAGAGATATCAGCCCCAGCATTTT                      </td><td>                  </td><td>TRBV20-1*01</td><td>TRBD2*02</td><td>TRBJ1-5*01</td><td>0</td><td>12</td><td> 3</td><td>6</td><td>0</td><td> 0</td><td>        </td><td>          </td><td>FALSE</td></tr>\n",
       "\t<tr><th scope=row>2</th><td> 37</td><td>TGCAGTGCTTTACCGGGACAGTCGCCTACGAGCAGTACTTC             </td><td>                  </td><td>TRBV20-1*01</td><td>TRBD1*01</td><td>TRBJ2-7*01</td><td>6</td><td> 0</td><td> 5</td><td>2</td><td>4</td><td> 3</td><td>TTTA    </td><td>GCT       </td><td>FALSE</td></tr>\n",
       "\t<tr><th scope=row>3</th><td> 62</td><td>TGCAGTGCTATCGGGACTAGCGGGACGAGCAATGAGCAGTTCTTC         </td><td>CSAIGTSGTSNEQFF   </td><td>TRBV20-1*01</td><td>TRBD2*01</td><td>TRBJ2-1*01</td><td>4</td><td> 0</td><td> 4</td><td>6</td><td>2</td><td> 5</td><td>TC      </td><td>GAGCA     </td><td> TRUE</td></tr>\n",
       "\t<tr><th scope=row>4</th><td> 88</td><td>TGCAGTGCTAGCCGGGACTACGGTTGGGACTATGGCTACACCTTC         </td><td>CSASRDYGWDYGYTF   </td><td>TRBV20-1*01</td><td>TRBD2*02</td><td>TRBJ1-2*01</td><td>3</td><td> 0</td><td>11</td><td>3</td><td>0</td><td>10</td><td>        </td><td>GGGTTGGCAT</td><td> TRUE</td></tr>\n",
       "\t<tr><th scope=row>5</th><td>107</td><td>TGCAGTGCTAGAGATGGGCCGGGAGAAAACATTCAGTACTTC            </td><td>CSARDGPGENIQYF    </td><td>TRBV20-1*01</td><td>TRBD2*01</td><td>TRBJ2-4*01</td><td>0</td><td> 8</td><td> 4</td><td>5</td><td>4</td><td> 2</td><td>GGGC    </td><td>GA        </td><td> TRUE</td></tr>\n",
       "\t<tr><th scope=row>6</th><td>184</td><td>TGCAGTGCTAGAGATCTCTGGTTTACTAGCGGGGAGAACAATGAGCAGTTCTTC</td><td>CSARDLWFTSGENNEQFF</td><td>TRBV20-1*01</td><td>TRBD2*01</td><td>TRBJ2-1*01</td><td>0</td><td> 3</td><td> 3</td><td>5</td><td>8</td><td> 3</td><td>TCTGGTTT</td><td>AGA       </td><td> TRUE</td></tr>\n",
       "</tbody>\n",
       "</table>\n"
      ],
      "text/latex": [
       "A data.frame: 6 × 15\n",
       "\\begin{tabular}{r|lllllllllllllll}\n",
       "  & seq\\_index & cdr3\\_nucseq & cdr3 & v\\_gene & d\\_gene & j\\_gene & v\\_trim & d5\\_trim & d3\\_trim & j\\_trim & vd\\_insert & dj\\_insert & vd\\_insert\\_nucs & dj\\_insert\\_nucs & productive\\\\\n",
       "  & <int> & <chr> & <chr> & <chr> & <chr> & <chr> & <int> & <int> & <int> & <int> & <int> & <int> & <chr> & <chr> & <lgl>\\\\\n",
       "\\hline\n",
       "\t1 &   6 & TGCAGTGCTAGAGATATCAGCCCCAGCATTTT                       &                    & TRBV20-1*01 & TRBD2*02 & TRBJ1-5*01 & 0 & 12 &  3 & 6 & 0 &  0 &          &            & FALSE\\\\\n",
       "\t2 &  37 & TGCAGTGCTTTACCGGGACAGTCGCCTACGAGCAGTACTTC              &                    & TRBV20-1*01 & TRBD1*01 & TRBJ2-7*01 & 6 &  0 &  5 & 2 & 4 &  3 & TTTA     & GCT        & FALSE\\\\\n",
       "\t3 &  62 & TGCAGTGCTATCGGGACTAGCGGGACGAGCAATGAGCAGTTCTTC          & CSAIGTSGTSNEQFF    & TRBV20-1*01 & TRBD2*01 & TRBJ2-1*01 & 4 &  0 &  4 & 6 & 2 &  5 & TC       & GAGCA      &  TRUE\\\\\n",
       "\t4 &  88 & TGCAGTGCTAGCCGGGACTACGGTTGGGACTATGGCTACACCTTC          & CSASRDYGWDYGYTF    & TRBV20-1*01 & TRBD2*02 & TRBJ1-2*01 & 3 &  0 & 11 & 3 & 0 & 10 &          & GGGTTGGCAT &  TRUE\\\\\n",
       "\t5 & 107 & TGCAGTGCTAGAGATGGGCCGGGAGAAAACATTCAGTACTTC             & CSARDGPGENIQYF     & TRBV20-1*01 & TRBD2*01 & TRBJ2-4*01 & 0 &  8 &  4 & 5 & 4 &  2 & GGGC     & GA         &  TRUE\\\\\n",
       "\t6 & 184 & TGCAGTGCTAGAGATCTCTGGTTTACTAGCGGGGAGAACAATGAGCAGTTCTTC & CSARDLWFTSGENNEQFF & TRBV20-1*01 & TRBD2*01 & TRBJ2-1*01 & 0 &  3 &  3 & 5 & 8 &  3 & TCTGGTTT & AGA        &  TRUE\\\\\n",
       "\\end{tabular}\n"
      ],
      "text/markdown": [
       "\n",
       "A data.frame: 6 × 15\n",
       "\n",
       "| <!--/--> | seq_index &lt;int&gt; | cdr3_nucseq &lt;chr&gt; | cdr3 &lt;chr&gt; | v_gene &lt;chr&gt; | d_gene &lt;chr&gt; | j_gene &lt;chr&gt; | v_trim &lt;int&gt; | d5_trim &lt;int&gt; | d3_trim &lt;int&gt; | j_trim &lt;int&gt; | vd_insert &lt;int&gt; | dj_insert &lt;int&gt; | vd_insert_nucs &lt;chr&gt; | dj_insert_nucs &lt;chr&gt; | productive &lt;lgl&gt; |\n",
       "|---|---|---|---|---|---|---|---|---|---|---|---|---|---|---|---|\n",
       "| 1 |   6 | TGCAGTGCTAGAGATATCAGCCCCAGCATTTT                       | <!----> | TRBV20-1*01 | TRBD2*02 | TRBJ1-5*01 | 0 | 12 |  3 | 6 | 0 |  0 | <!----> | <!----> | FALSE |\n",
       "| 2 |  37 | TGCAGTGCTTTACCGGGACAGTCGCCTACGAGCAGTACTTC              | <!----> | TRBV20-1*01 | TRBD1*01 | TRBJ2-7*01 | 6 |  0 |  5 | 2 | 4 |  3 | TTTA     | GCT        | FALSE |\n",
       "| 3 |  62 | TGCAGTGCTATCGGGACTAGCGGGACGAGCAATGAGCAGTTCTTC          | CSAIGTSGTSNEQFF    | TRBV20-1*01 | TRBD2*01 | TRBJ2-1*01 | 4 |  0 |  4 | 6 | 2 |  5 | TC       | GAGCA      |  TRUE |\n",
       "| 4 |  88 | TGCAGTGCTAGCCGGGACTACGGTTGGGACTATGGCTACACCTTC          | CSASRDYGWDYGYTF    | TRBV20-1*01 | TRBD2*02 | TRBJ1-2*01 | 3 |  0 | 11 | 3 | 0 | 10 | <!----> | GGGTTGGCAT |  TRUE |\n",
       "| 5 | 107 | TGCAGTGCTAGAGATGGGCCGGGAGAAAACATTCAGTACTTC             | CSARDGPGENIQYF     | TRBV20-1*01 | TRBD2*01 | TRBJ2-4*01 | 0 |  8 |  4 | 5 | 4 |  2 | GGGC     | GA         |  TRUE |\n",
       "| 6 | 184 | TGCAGTGCTAGAGATCTCTGGTTTACTAGCGGGGAGAACAATGAGCAGTTCTTC | CSARDLWFTSGENNEQFF | TRBV20-1*01 | TRBD2*01 | TRBJ2-1*01 | 0 |  3 |  3 | 5 | 8 |  3 | TCTGGTTT | AGA        |  TRUE |\n",
       "\n"
      ],
      "text/plain": [
       "  seq_index cdr3_nucseq                                           \n",
       "1   6       TGCAGTGCTAGAGATATCAGCCCCAGCATTTT                      \n",
       "2  37       TGCAGTGCTTTACCGGGACAGTCGCCTACGAGCAGTACTTC             \n",
       "3  62       TGCAGTGCTATCGGGACTAGCGGGACGAGCAATGAGCAGTTCTTC         \n",
       "4  88       TGCAGTGCTAGCCGGGACTACGGTTGGGACTATGGCTACACCTTC         \n",
       "5 107       TGCAGTGCTAGAGATGGGCCGGGAGAAAACATTCAGTACTTC            \n",
       "6 184       TGCAGTGCTAGAGATCTCTGGTTTACTAGCGGGGAGAACAATGAGCAGTTCTTC\n",
       "  cdr3               v_gene      d_gene   j_gene     v_trim d5_trim d3_trim\n",
       "1                    TRBV20-1*01 TRBD2*02 TRBJ1-5*01 0      12       3     \n",
       "2                    TRBV20-1*01 TRBD1*01 TRBJ2-7*01 6       0       5     \n",
       "3 CSAIGTSGTSNEQFF    TRBV20-1*01 TRBD2*01 TRBJ2-1*01 4       0       4     \n",
       "4 CSASRDYGWDYGYTF    TRBV20-1*01 TRBD2*02 TRBJ1-2*01 3       0      11     \n",
       "5 CSARDGPGENIQYF     TRBV20-1*01 TRBD2*01 TRBJ2-4*01 0       8       4     \n",
       "6 CSARDLWFTSGENNEQFF TRBV20-1*01 TRBD2*01 TRBJ2-1*01 0       3       3     \n",
       "  j_trim vd_insert dj_insert vd_insert_nucs dj_insert_nucs productive\n",
       "1 6      0          0                                      FALSE     \n",
       "2 2      4          3        TTTA           GCT            FALSE     \n",
       "3 6      2          5        TC             GAGCA           TRUE     \n",
       "4 3      0         10                       GGGTTGGCAT      TRUE     \n",
       "5 5      4          2        GGGC           GA              TRUE     \n",
       "6 5      8          3        TCTGGTTT       AGA             TRUE     "
      ]
     },
     "metadata": {},
     "output_type": "display_data"
    }
   ],
   "source": [
    "# filter original data set by most frequently used V-gene\n",
    "most_frequent_V_data <- indiv2 %>%\n",
    "                            filter(v_gene == most_frequent_V$v_gene)\n",
    "head(most_frequent_V_data)"
   ]
  },
  {
   "cell_type": "code",
   "execution_count": 7,
   "metadata": {
    "vscode": {
     "languageId": "r"
    }
   },
   "outputs": [
    {
     "data": {
      "image/png": "[encoded data removed]",
      "text/plain": [
       "plot without title"
      ]
     },
     "metadata": {
      "image/png": {
       "height": 420,
       "width": 420
      }
     },
     "output_type": "display_data"
    }
   ],
   "source": [
    "# plot trimming distribution\n",
    "most_frequent_V_data %>%\n",
    "    ggplot(aes(x = v_trim)) +\n",
    "    geom_density() +\n",
    "    theme_classic()"
   ]
  },
  {
   "cell_type": "markdown",
   "metadata": {},
   "source": [
    "Calculate V-D N-insertion composition frequencies within individual 2"
   ]
  },
  {
   "cell_type": "code",
   "execution_count": 8,
   "metadata": {
    "vscode": {
     "languageId": "r"
    }
   },
   "outputs": [],
   "source": [
    "# filter for sequences that have VD N-inserts\n",
    "n_indiv2 <- indiv2 %>%\n",
    "                filter(vd_insert != 0)"
   ]
  },
  {
   "cell_type": "code",
   "execution_count": 9,
   "metadata": {
    "vscode": {
     "languageId": "r"
    }
   },
   "outputs": [
    {
     "data": {
      "text/plain": [
       "DNAStringSet object of length 63505:\n",
       "        width seq\n",
       "    [1]     4 \u001b[47m\u001b[30mA\u001b[39m\u001b[49m\u001b[47m\u001b[30mA\u001b[39m\u001b[49m\u001b[47m\u001b[30mT\u001b[39m\u001b[49m\u001b[47m\u001b[30mC\u001b[39m\u001b[49m\n",
       "    [2]     1 \u001b[47m\u001b[30mT\u001b[39m\u001b[49m\n",
       "    [3]     2 \u001b[47m\u001b[30mG\u001b[39m\u001b[49m\u001b[47m\u001b[30mT\u001b[39m\u001b[49m\n",
       "    [4]     3 \u001b[47m\u001b[30mC\u001b[39m\u001b[49m\u001b[47m\u001b[30mG\u001b[39m\u001b[49m\u001b[47m\u001b[30mG\u001b[39m\u001b[49m\n",
       "    [5]     2 \u001b[47m\u001b[30mT\u001b[39m\u001b[49m\u001b[47m\u001b[30mA\u001b[39m\u001b[49m\n",
       "    ...   ... ...\n",
       "[63501]    11 \u001b[47m\u001b[30mC\u001b[39m\u001b[49m\u001b[47m\u001b[30mT\u001b[39m\u001b[49m\u001b[47m\u001b[30mA\u001b[39m\u001b[49m\u001b[47m\u001b[30mC\u001b[39m\u001b[49m\u001b[47m\u001b[30mA\u001b[39m\u001b[49m\u001b[47m\u001b[30mA\u001b[39m\u001b[49m\u001b[47m\u001b[30mC\u001b[39m\u001b[49m\u001b[47m\u001b[30mT\u001b[39m\u001b[49m\u001b[47m\u001b[30mT\u001b[39m\u001b[49m\u001b[47m\u001b[30mA\u001b[39m\u001b[49m\u001b[47m\u001b[30mA\u001b[39m\u001b[49m\n",
       "[63502]     5 \u001b[47m\u001b[30mT\u001b[39m\u001b[49m\u001b[47m\u001b[30mC\u001b[39m\u001b[49m\u001b[47m\u001b[30mC\u001b[39m\u001b[49m\u001b[47m\u001b[30mA\u001b[39m\u001b[49m\u001b[47m\u001b[30mA\u001b[39m\u001b[49m\n",
       "[63503]     6 \u001b[47m\u001b[30mG\u001b[39m\u001b[49m\u001b[47m\u001b[30mG\u001b[39m\u001b[49m\u001b[47m\u001b[30mT\u001b[39m\u001b[49m\u001b[47m\u001b[30mG\u001b[39m\u001b[49m\u001b[47m\u001b[30mC\u001b[39m\u001b[49m\u001b[47m\u001b[30mG\u001b[39m\u001b[49m\n",
       "[63504]     7 \u001b[47m\u001b[30mC\u001b[39m\u001b[49m\u001b[47m\u001b[30mC\u001b[39m\u001b[49m\u001b[47m\u001b[30mG\u001b[39m\u001b[49m\u001b[47m\u001b[30mT\u001b[39m\u001b[49m\u001b[47m\u001b[30mC\u001b[39m\u001b[49m\u001b[47m\u001b[30mG\u001b[39m\u001b[49m\u001b[47m\u001b[30mG\u001b[39m\u001b[49m\n",
       "[63505]     5 \u001b[47m\u001b[30mC\u001b[39m\u001b[49m\u001b[47m\u001b[30mC\u001b[39m\u001b[49m\u001b[47m\u001b[30mC\u001b[39m\u001b[49m\u001b[47m\u001b[30mC\u001b[39m\u001b[49m\u001b[47m\u001b[30mC\u001b[39m\u001b[49m"
      ]
     },
     "metadata": {},
     "output_type": "display_data"
    }
   ],
   "source": [
    "# convert VD N-insert column to a BioStrings `DNAStringSet`\n",
    "nucs_indiv2 <- DNAStringSet(n_indiv2$vd_insert_nucs)\n",
    "\n",
    "nucs_indiv2"
   ]
  },
  {
   "cell_type": "code",
   "execution_count": 10,
   "metadata": {
    "vscode": {
     "languageId": "r"
    }
   },
   "outputs": [
    {
     "data": {
      "text/html": [
       "<style>\n",
       ".dl-inline {width: auto; margin:0; padding: 0}\n",
       ".dl-inline>dt, .dl-inline>dd {float: none; width: auto; display: inline-block}\n",
       ".dl-inline>dt::after {content: \":\\0020\"; padding-right: .5ex}\n",
       ".dl-inline>dt:not(:first-of-type) {padding-left: .5ex}\n",
       "</style><dl class=dl-inline><dt>A</dt><dd>0.203657740917866</dd><dt>T</dt><dd>0.210273018947878</dd><dt>C</dt><dd>0.331645041736452</dd><dt>G</dt><dd>0.254424198397805</dd></dl>\n"
      ],
      "text/latex": [
       "\\begin{description*}\n",
       "\\item[A] 0.203657740917866\n",
       "\\item[T] 0.210273018947878\n",
       "\\item[C] 0.331645041736452\n",
       "\\item[G] 0.254424198397805\n",
       "\\end{description*}\n"
      ],
      "text/markdown": [
       "A\n",
       ":   0.203657740917866T\n",
       ":   0.210273018947878C\n",
       ":   0.331645041736452G\n",
       ":   0.254424198397805\n",
       "\n"
      ],
      "text/plain": [
       "        A         T         C         G \n",
       "0.2036577 0.2102730 0.3316450 0.2544242 "
      ]
     },
     "metadata": {},
     "output_type": "display_data"
    }
   ],
   "source": [
    "# get frequencies\n",
    "nucs_indiv2 %>%\n",
    "  letterFrequency(c(\"A\", \"T\", \"C\", \"G\"), collapse = TRUE, as.prob = TRUE)"
   ]
  },
  {
   "cell_type": "markdown",
   "metadata": {},
   "source": [
    "# In-class exercises\n",
    "\n",
    "(20-30 minutes)"
   ]
  },
  {
   "cell_type": "markdown",
   "metadata": {},
   "source": [
    "### 1. Plot the distributions of V-gene trimming for each V-gene (using a single plot). Find the V-gene with the largest average number of nucleotides trimmed."
   ]
  },
  {
   "cell_type": "code",
   "execution_count": 22,
   "metadata": {
    "vscode": {
     "languageId": "r"
    }
   },
   "outputs": [],
   "source": [
    "# plot distributions of trimming for each V-gene in a single plot (one line per gene)\n"
   ]
  },
  {
   "cell_type": "code",
   "execution_count": 23,
   "metadata": {
    "vscode": {
     "languageId": "r"
    }
   },
   "outputs": [],
   "source": [
    "# find the V-gene with the largest average number of trims\n"
   ]
  },
  {
   "cell_type": "markdown",
   "metadata": {},
   "source": [
    "### 2. Find the N-insertion base frequencies for each N-insertion junction (combining data from both individuals). Are they similar?\n",
    "\n",
    "_Hint: you can use the `rbind` function to combine data sets_"
   ]
  },
  {
   "cell_type": "code",
   "execution_count": 24,
   "metadata": {
    "vscode": {
     "languageId": "r"
    }
   },
   "outputs": [],
   "source": [
    "# first find insertion frequencies for VD junction\n"
   ]
  },
  {
   "cell_type": "code",
   "execution_count": 25,
   "metadata": {
    "vscode": {
     "languageId": "r"
    }
   },
   "outputs": [],
   "source": [
    "# then find insertion frequencies for DJ junction\n"
   ]
  },
  {
   "cell_type": "markdown",
   "metadata": {},
   "source": [
    "### 3. Find the rearrangement/s (`cdr3` column) which have the largest overlap between the two individuals. Pick one of the largest overlap rearrangements--which nucleotide rearrangment most commonly leads to that CDR3 amino acid sequence for each individual?\n",
    "\n",
    "_Hint: there are many ways to do this..._"
   ]
  },
  {
   "cell_type": "code",
   "execution_count": 26,
   "metadata": {
    "vscode": {
     "languageId": "r"
    }
   },
   "outputs": [],
   "source": [
    "# find the cdr3 that has the largest overlap between the two individuals (there may be multiple...)"
   ]
  },
  {
   "cell_type": "code",
   "execution_count": 27,
   "metadata": {
    "vscode": {
     "languageId": "r"
    }
   },
   "outputs": [],
   "source": [
    "# choose a single largest overlap cdr3"
   ]
  },
  {
   "cell_type": "code",
   "execution_count": 28,
   "metadata": {
    "vscode": {
     "languageId": "r"
    }
   },
   "outputs": [],
   "source": [
    "# now, for each individual, figure out which nucleotide rearrangement (cdr3_nucseq) most commonly leads to that CDR3 amino acid sequence"
   ]
  }
 ],
 "metadata": {
  "kernelspec": {
   "display_name": "R",
   "language": "R",
   "name": "ir"
  },
  "language_info": {
   "codemirror_mode": "r",
   "file_extension": ".r",
   "mimetype": "text/x-r-source",
   "name": "R",
   "pygments_lexer": "r",
   "version": "4.1.3"
  },
  "orig_nbformat": 4
 },
 "nbformat": 4,
 "nbformat_minor": 2
}
