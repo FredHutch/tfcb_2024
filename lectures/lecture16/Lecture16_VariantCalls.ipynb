{
 "cells": [
  {
   "cell_type": "markdown",
   "id": "31fc1505-6397-40ed-96da-5ab350d3cc78",
   "metadata": {},
   "source": [
    "We will learn to read VCF files within R using a publicly available dataset of genomic variant calls for the infamous individual, NA12878. The Genome-in-a-Bottle Consortium has compiled consensus variant calls on this individual's genome and released this data for researchers to use. One of the main purposes of this data is to provide a benchmark for those to develop computational tools and analysis of human genomes. See https://github.com/genome-in-a-bottle/giab_latest_release\n",
    "\n",
    "Variant Call Format (VCF) is a very common format for representing genomic variation data. See Lecture 16: Slides 19.\n",
    "\n",
    "## 0. Install and load the `VariantAnnotation` Bioconductor package \n",
    "Load the `VariantAnnotation` package"
   ]
  },
  {
   "cell_type": "code",
   "execution_count": 1,
   "id": "54a50e1d-084a-4a43-8650-8fd7899172c1",
   "metadata": {
    "vscode": {
     "languageId": "r"
    }
   },
   "outputs": [],
   "source": [
    "suppressPackageStartupMessages({\n",
    "    library(VariantAnnotation)\n",
    "    library(tidyverse)\n",
    "})"
   ]
  },
  {
   "cell_type": "markdown",
   "id": "8a2b8a0b-63b9-4dc3-88df-229ed2204a9a",
   "metadata": {
    "tags": []
   },
   "source": [
    "## 1. Prepare parameters for reading VCF file.\n",
    "There are a lot of variants in this file `GIAB_highconf_v.3.3.2.vcf.gz`, so we want to restrict to a smaller region for this example. \n",
    "\n",
    "### a. Setup parameters for scanning the VCF file.\n",
    "First, we need to set up a `ScanVcfParam` object to read within `17:35500000-36000000`."
   ]
  },
  {
   "cell_type": "code",
   "execution_count": 2,
   "id": "0e45394d-1199-486c-9e5d-e3796f8cebab",
   "metadata": {
    "vscode": {
     "languageId": "r"
    }
   },
   "outputs": [],
   "source": [
    "vcfFile <- \"../lecture15/GIAB_highconf_v.3.3.2.vcf.gz\"\n",
    "vcfHead <- scanVcfHeader(vcfFile)\n",
    "myGRange4 <- GRanges(seqnames = \"17\", ranges = IRanges(start = 35500000, end = 36000000))\n",
    "vcf.param <- ScanVcfParam(which = myGRange4) "
   ]
  },
  {
   "cell_type": "markdown",
   "id": "8ebe9cb6-35ab-4279-b0bb-2fb256046ec1",
   "metadata": {},
   "source": [
    "## 2. Read the VCF file."
   ]
  },
  {
   "cell_type": "code",
   "execution_count": 3,
   "id": "f2a50dd7-2590-4a7e-a9f3-bd735eaf8735",
   "metadata": {
    "vscode": {
     "languageId": "r"
    }
   },
   "outputs": [],
   "source": [
    "vcf <- readVcf(vcfFile, genome = \"hg19\", param = vcf.param)"
   ]
  },
  {
   "cell_type": "markdown",
   "id": "9d16103d-e53b-44cb-be20-41830ef5a3e8",
   "metadata": {},
   "source": [
    "The `vcf` variable is of class `CollapsedVCF` and will contain header information and data. Let's see what information has been parsed by `readVcf`.\n",
    "\n",
    "## 3. Extract the contents of the VCF entries.\n",
    "\n",
    "### a. Return the variants in this region as a `GRanges` object.\n",
    "The `rowRanges` function will return a `GRanges` object containing the coordinates, REF/ALT bases, quality, and filtering status of the variants."
   ]
  },
  {
   "cell_type": "code",
   "execution_count": 4,
   "id": "125d6ff2-5abf-4fd4-ba0d-487925887a55",
   "metadata": {
    "vscode": {
     "languageId": "r"
    }
   },
   "outputs": [
    {
     "data": {
      "text/plain": [
       "GRanges object with 332 ranges and 5 metadata columns:\n",
       "              seqnames            ranges strand | paramRangeID            REF\n",
       "                 <Rle>         <IRanges>  <Rle> |     <factor> <DNAStringSet>\n",
       "    rs2411161       17          35501799      * |           NA              C\n",
       "    rs8073074       17          35502949      * |           NA              A\n",
       "    rs4523972       17          35507230      * |           NA              C\n",
       "  rs111498996       17 35507465-35507466      * |           NA             CA\n",
       "    rs8077266       17          35509302      * |           NA              A\n",
       "          ...      ...               ...    ... .          ...            ...\n",
       "    rs8080225       17          35996195      * |           NA              T\n",
       "    rs8075378       17          35996582      * |           NA              G\n",
       "    rs6607281       17          35997126      * |           NA              T\n",
       "    rs4332783       17          35997674      * |           NA              A\n",
       "   rs71984199       17          35998800      * |           NA              C\n",
       "                             ALT      QUAL      FILTER\n",
       "              <DNAStringSetList> <numeric> <character>\n",
       "    rs2411161                  T        50        PASS\n",
       "    rs8073074                  G        50        PASS\n",
       "    rs4523972                  T        50        PASS\n",
       "  rs111498996                  C        50        PASS\n",
       "    rs8077266                  G        50        PASS\n",
       "          ...                ...       ...         ...\n",
       "    rs8080225                  C        50        PASS\n",
       "    rs8075378                  A        50        PASS\n",
       "    rs6607281                  C        50        PASS\n",
       "    rs4332783                  G        50        PASS\n",
       "   rs71984199                 CT        50        PASS\n",
       "  -------\n",
       "  seqinfo: 25 sequences from hg19 genome"
      ]
     },
     "metadata": {},
     "output_type": "display_data"
    }
   ],
   "source": [
    "rowRanges(vcf)"
   ]
  },
  {
   "cell_type": "markdown",
   "id": "a6c5a003-3f0e-4744-94c8-0ffa1862c4d4",
   "metadata": {
    "tags": []
   },
   "source": [
    "### b. Inspect the header information\n",
    "The `INFO` column in the original VCF text file contains a semi-colon delimited set of custom fields with flexible format that algorithms will output.  Here, it is parsed into usable format. First, let's look at what fields are available from the header."
   ]
  },
  {
   "cell_type": "code",
   "execution_count": 5,
   "id": "cec273b2-0e1a-4251-ad89-2ca9deeabbf7",
   "metadata": {
    "vscode": {
     "languageId": "r"
    }
   },
   "outputs": [
    {
     "data": {
      "text/html": [
       "<table class=\"dataframe\">\n",
       "<caption>A tibble: 332 × 17</caption>\n",
       "<thead>\n",
       "\t<tr><th scope=col>ID</th><th scope=col>DPSum</th><th scope=col>platforms</th><th scope=col>platformnames</th><th scope=col>platformbias</th><th scope=col>datasets</th><th scope=col>datasetnames</th><th scope=col>datasetsmissingcall</th><th scope=col>callsets</th><th scope=col>callsetnames</th><th scope=col>varType</th><th scope=col>filt</th><th scope=col>callable</th><th scope=col>difficultregion</th><th scope=col>arbitrated</th><th scope=col>callsetwiththisuniqgenopassing</th><th scope=col>callsetwithotheruniqgenopassing</th></tr>\n",
       "\t<tr><th scope=col>&lt;chr&gt;</th><th scope=col>&lt;int&gt;</th><th scope=col>&lt;int&gt;</th><th scope=col>&lt;I&lt;list&gt;&gt;</th><th scope=col>&lt;I&lt;list&gt;&gt;</th><th scope=col>&lt;int&gt;</th><th scope=col>&lt;I&lt;list&gt;&gt;</th><th scope=col>&lt;I&lt;list&gt;&gt;</th><th scope=col>&lt;int&gt;</th><th scope=col>&lt;I&lt;list&gt;&gt;</th><th scope=col>&lt;chr&gt;</th><th scope=col>&lt;I&lt;list&gt;&gt;</th><th scope=col>&lt;I&lt;list&gt;&gt;</th><th scope=col>&lt;I&lt;list&gt;&gt;</th><th scope=col>&lt;chr&gt;</th><th scope=col>&lt;I&lt;list&gt;&gt;</th><th scope=col>&lt;I&lt;list&gt;&gt;</th></tr>\n",
       "</thead>\n",
       "<tbody>\n",
       "\t<tr><td>rs2411161       </td><td>NA</td><td>3</td><td>Illumina....</td><td></td><td>3</td><td>HiSeqPE3....</td><td>10XChrom....</td><td>4</td><td>HiSeqPE3....</td><td>NA</td><td>            </td><td>CS_HiSeq....</td><td>            </td><td>NA</td><td></td><td></td></tr>\n",
       "\t<tr><td>rs8073074       </td><td>NA</td><td>3</td><td>Illumina....</td><td></td><td>4</td><td>HiSeqPE3....</td><td>10XChrom....</td><td>5</td><td>HiSeqPE3....</td><td>NA</td><td>CS_Solid....</td><td>CS_HiSeq....</td><td>            </td><td>NA</td><td></td><td></td></tr>\n",
       "\t<tr><td>rs4523972       </td><td>NA</td><td>3</td><td>Illumina....</td><td></td><td>3</td><td>HiSeqPE3....</td><td>10XChrom....</td><td>4</td><td>HiSeqPE3....</td><td>NA</td><td>CS_Solid....</td><td>CS_HiSeq....</td><td>            </td><td>NA</td><td></td><td></td></tr>\n",
       "\t<tr><td>rs111498996     </td><td>NA</td><td>1</td><td>    Illumina</td><td></td><td>1</td><td> HiSeqPE300x</td><td>CGnormal....</td><td>2</td><td>HiSeqPE3....</td><td>NA</td><td>CS_CGnor....</td><td>CS_HiSeq....</td><td>AllRepea....</td><td>NA</td><td></td><td></td></tr>\n",
       "\t<tr><td>rs8077266       </td><td>NA</td><td>3</td><td>Illumina....</td><td></td><td>4</td><td>HiSeqPE3....</td><td>10XChrom....</td><td>5</td><td>HiSeqPE3....</td><td>NA</td><td>CS_Solid....</td><td>CS_HiSeq....</td><td>            </td><td>NA</td><td></td><td></td></tr>\n",
       "\t<tr><td>rs75773263      </td><td>NA</td><td>2</td><td>CG, Illumina</td><td></td><td>2</td><td>CGnormal....</td><td>10XChrom....</td><td>3</td><td>CGnormal....</td><td>NA</td><td>            </td><td>CS_CGnor....</td><td>            </td><td>NA</td><td></td><td></td></tr>\n",
       "\t<tr><td>rs725038        </td><td>NA</td><td>3</td><td>Illumina....</td><td></td><td>4</td><td>HiSeqPE3....</td><td>10XChrom....</td><td>5</td><td>HiSeqPE3....</td><td>NA</td><td>CS_HiSeq....</td><td>CS_HiSeq....</td><td>            </td><td>NA</td><td></td><td></td></tr>\n",
       "\t<tr><td>rs10664252      </td><td>NA</td><td>3</td><td>CG, Illu....</td><td></td><td>4</td><td>CGnormal....</td><td>10XChrom....</td><td>5</td><td>CGnormal....</td><td>NA</td><td>CS_Solid....</td><td>CS_CGnor....</td><td>            </td><td>NA</td><td></td><td></td></tr>\n",
       "\t<tr><td>rs11655013      </td><td>NA</td><td>3</td><td>Illumina....</td><td></td><td>3</td><td>HiSeqPE3....</td><td>10XChrom....</td><td>4</td><td>HiSeqPE3....</td><td>NA</td><td>            </td><td>CS_HiSeq....</td><td>            </td><td>NA</td><td></td><td></td></tr>\n",
       "\t<tr><td>rs9906543       </td><td>NA</td><td>3</td><td>Illumina....</td><td></td><td>4</td><td>HiSeqPE3....</td><td>10XChrom....</td><td>5</td><td>HiSeqPE3....</td><td>NA</td><td>CS_Solid....</td><td>CS_HiSeq....</td><td>            </td><td>NA</td><td></td><td></td></tr>\n",
       "\t<tr><td>rs72826172      </td><td>NA</td><td>3</td><td>Illumina....</td><td></td><td>3</td><td>HiSeqPE3....</td><td>10XChrom....</td><td>4</td><td>HiSeqPE3....</td><td>NA</td><td>            </td><td>CS_HiSeq....</td><td>            </td><td>NA</td><td></td><td></td></tr>\n",
       "\t<tr><td>rs4299194       </td><td>NA</td><td>3</td><td>Illumina....</td><td></td><td>4</td><td>HiSeqPE3....</td><td>10XChrom....</td><td>5</td><td>HiSeqPE3....</td><td>NA</td><td>CS_Solid....</td><td>CS_HiSeq....</td><td>            </td><td>NA</td><td></td><td></td></tr>\n",
       "\t<tr><td>rs7225778       </td><td>NA</td><td>3</td><td>Illumina....</td><td></td><td>3</td><td>HiSeqPE3....</td><td>IonExome....</td><td>4</td><td>HiSeqPE3....</td><td>NA</td><td>            </td><td>CS_HiSeq....</td><td>            </td><td>NA</td><td></td><td></td></tr>\n",
       "\t<tr><td>rs7215485       </td><td>NA</td><td>4</td><td>Illumina....</td><td></td><td>5</td><td>HiSeqPE3....</td><td>    IonExome</td><td>6</td><td>HiSeqPE3....</td><td>NA</td><td>CS_10XGA....</td><td>CS_HiSeq....</td><td>            </td><td>NA</td><td></td><td></td></tr>\n",
       "\t<tr><td>rs9652902       </td><td>NA</td><td>4</td><td>Illumina....</td><td></td><td>5</td><td>HiSeqPE3....</td><td>    IonExome</td><td>6</td><td>HiSeqPE3....</td><td>NA</td><td>CS_Solid....</td><td>CS_HiSeq....</td><td>            </td><td>NA</td><td></td><td></td></tr>\n",
       "\t<tr><td>rs8071315       </td><td>NA</td><td>4</td><td>Illumina....</td><td></td><td>5</td><td>HiSeqPE3....</td><td>    IonExome</td><td>6</td><td>HiSeqPE3....</td><td>NA</td><td>CS_Solid....</td><td>CS_HiSeq....</td><td>            </td><td>NA</td><td></td><td></td></tr>\n",
       "\t<tr><td>rs4794749       </td><td>NA</td><td>4</td><td>Illumina....</td><td></td><td>5</td><td>HiSeqPE3....</td><td>    IonExome</td><td>6</td><td>HiSeqPE3....</td><td>NA</td><td>            </td><td>CS_HiSeq....</td><td>            </td><td>NA</td><td></td><td></td></tr>\n",
       "\t<tr><td>rs61266482      </td><td>NA</td><td>3</td><td>Illumina....</td><td></td><td>3</td><td>HiSeqPE3....</td><td>10XChrom....</td><td>4</td><td>HiSeqPE3....</td><td>NA</td><td>CS_Solid....</td><td>CS_HiSeq....</td><td>            </td><td>NA</td><td></td><td></td></tr>\n",
       "\t<tr><td>rs4795176       </td><td>NA</td><td>2</td><td>Illumina, CG</td><td></td><td>2</td><td>HiSeqPE3....</td><td>10XChrom....</td><td>3</td><td>HiSeqPE3....</td><td>NA</td><td>CS_Solid....</td><td>CS_HiSeq....</td><td>            </td><td>NA</td><td></td><td></td></tr>\n",
       "\t<tr><td>rs4795177       </td><td>NA</td><td>3</td><td>Illumina....</td><td></td><td>3</td><td>HiSeqPE3....</td><td>10XChrom....</td><td>4</td><td>HiSeqPE3....</td><td>NA</td><td>CS_Solid....</td><td>CS_HiSeq....</td><td>            </td><td>NA</td><td></td><td></td></tr>\n",
       "\t<tr><td>rs2898659       </td><td>NA</td><td>3</td><td>Illumina....</td><td></td><td>4</td><td>HiSeqPE3....</td><td>10XChrom....</td><td>5</td><td>HiSeqPE3....</td><td>NA</td><td>CS_Solid....</td><td>CS_HiSeq....</td><td>            </td><td>NA</td><td></td><td></td></tr>\n",
       "\t<tr><td>rs17138934      </td><td>NA</td><td>4</td><td>Illumina....</td><td></td><td>5</td><td>HiSeqPE3....</td><td>    IonExome</td><td>6</td><td>HiSeqPE3....</td><td>NA</td><td>            </td><td>CS_HiSeq....</td><td>            </td><td>NA</td><td></td><td></td></tr>\n",
       "\t<tr><td>rs112439511     </td><td>NA</td><td>2</td><td>Illumina....</td><td></td><td>2</td><td>HiSeqPE3....</td><td>CGnormal....</td><td>3</td><td>HiSeqPE3....</td><td>NA</td><td>CS_CGnor....</td><td>CS_HiSeq....</td><td>AllRepea....</td><td>NA</td><td></td><td></td></tr>\n",
       "\t<tr><td>rs8076694       </td><td>NA</td><td>4</td><td>Illumina....</td><td></td><td>5</td><td>HiSeqPE3....</td><td>    IonExome</td><td>6</td><td>HiSeqPE3....</td><td>NA</td><td>CS_Solid....</td><td>CS_HiSeq....</td><td>            </td><td>NA</td><td></td><td></td></tr>\n",
       "\t<tr><td>rs7221404       </td><td>NA</td><td>4</td><td>Illumina....</td><td></td><td>5</td><td>HiSeqPE3....</td><td>    IonExome</td><td>6</td><td>HiSeqPE3....</td><td>NA</td><td>CS_Solid....</td><td>CS_HiSeq....</td><td>            </td><td>NA</td><td></td><td></td></tr>\n",
       "\t<tr><td>rs2121017       </td><td>NA</td><td>4</td><td>Illumina....</td><td></td><td>5</td><td>HiSeqPE3....</td><td>    IonExome</td><td>6</td><td>HiSeqPE3....</td><td>NA</td><td>CS_Solid....</td><td>CS_HiSeq....</td><td>            </td><td>NA</td><td></td><td></td></tr>\n",
       "\t<tr><td>rs7207912       </td><td>NA</td><td>3</td><td>Illumina....</td><td></td><td>3</td><td>HiSeqPE3....</td><td>IonExome....</td><td>4</td><td>HiSeqPE3....</td><td>NA</td><td>            </td><td>CS_HiSeq....</td><td>AllRepea....</td><td>NA</td><td></td><td></td></tr>\n",
       "\t<tr><td>rs9905678       </td><td>NA</td><td>3</td><td>Illumina....</td><td></td><td>3</td><td>HiSeqPE3....</td><td>IonExome....</td><td>4</td><td>HiSeqPE3....</td><td>NA</td><td>CS_CGnor....</td><td>CS_HiSeq....</td><td>            </td><td>NA</td><td></td><td></td></tr>\n",
       "\t<tr><td>rs4795178       </td><td>NA</td><td>4</td><td>Illumina....</td><td></td><td>4</td><td>HiSeqPE3....</td><td>IonExome....</td><td>5</td><td>HiSeqPE3....</td><td>NA</td><td>CS_HiSeq....</td><td>CS_HiSeq....</td><td>            </td><td>NA</td><td></td><td></td></tr>\n",
       "\t<tr><td>17:35540739_GA/G</td><td>NA</td><td>1</td><td>    Illumina</td><td></td><td>1</td><td> HiSeqPE300x</td><td>CGnormal....</td><td>2</td><td>HiSeqPE3....</td><td>NA</td><td>CS_HiSeq....</td><td>CS_HiSeq....</td><td>AllRepea....</td><td>NA</td><td></td><td></td></tr>\n",
       "\t<tr><td>⋮</td><td>⋮</td><td>⋮</td><td>⋮</td><td>⋮</td><td>⋮</td><td>⋮</td><td>⋮</td><td>⋮</td><td>⋮</td><td>⋮</td><td>⋮</td><td>⋮</td><td>⋮</td><td>⋮</td><td>⋮</td><td>⋮</td></tr>\n",
       "\t<tr><td>rs17660636               </td><td>NA</td><td>3</td><td>Illumina....</td><td></td><td>4</td><td>HiSeqPE3....</td><td>10XChrom....</td><td>5</td><td>HiSeqPE3....</td><td>NA</td><td>            </td><td>CS_HiSeq....</td><td>            </td><td>NA</td><td></td><td></td></tr>\n",
       "\t<tr><td>rs8079671                </td><td>NA</td><td>4</td><td>Illumina....</td><td></td><td>5</td><td>HiSeqPE3....</td><td>    IonExome</td><td>6</td><td>HiSeqPE3....</td><td>NA</td><td>CS_Solid....</td><td>CS_HiSeq....</td><td>            </td><td>NA</td><td></td><td></td></tr>\n",
       "\t<tr><td>rs9900406                </td><td>NA</td><td>4</td><td>Illumina....</td><td></td><td>5</td><td>HiSeqPE3....</td><td>    IonExome</td><td>6</td><td>HiSeqPE3....</td><td>NA</td><td>CS_Solid....</td><td>CS_HiSeq....</td><td>            </td><td>NA</td><td></td><td></td></tr>\n",
       "\t<tr><td>rs34469094               </td><td>NA</td><td>1</td><td>    Illumina</td><td></td><td>1</td><td> HiSeqPE300x</td><td>CGnormal....</td><td>2</td><td>HiSeqPE3....</td><td>NA</td><td>            </td><td>CS_HiSeq....</td><td>AllRepea....</td><td>NA</td><td></td><td></td></tr>\n",
       "\t<tr><td>rs4795208                </td><td>NA</td><td>4</td><td>Illumina....</td><td></td><td>5</td><td>HiSeqPE3....</td><td>    IonExome</td><td>6</td><td>HiSeqPE3....</td><td>NA</td><td>CS_Solid....</td><td>CS_HiSeq....</td><td>            </td><td>NA</td><td></td><td></td></tr>\n",
       "\t<tr><td>rs12939622               </td><td>NA</td><td>4</td><td>Illumina....</td><td></td><td>4</td><td>HiSeqPE3....</td><td>IonExome....</td><td>5</td><td>HiSeqPE3....</td><td>NA</td><td>            </td><td>CS_HiSeq....</td><td>            </td><td>NA</td><td></td><td></td></tr>\n",
       "\t<tr><td>rs4573978                </td><td>NA</td><td>2</td><td>Illumina, CG</td><td></td><td>2</td><td>HiSeqPE3....</td><td>10XChrom....</td><td>3</td><td>HiSeqPE3....</td><td>NA</td><td>CS_CGnor....</td><td>CS_HiSeq....</td><td>AllRepea....</td><td>NA</td><td></td><td></td></tr>\n",
       "\t<tr><td>rs9892460                </td><td>NA</td><td>4</td><td>Illumina....</td><td></td><td>5</td><td>HiSeqPE3....</td><td>    IonExome</td><td>6</td><td>HiSeqPE3....</td><td>NA</td><td>            </td><td>CS_HiSeq....</td><td>            </td><td>NA</td><td></td><td></td></tr>\n",
       "\t<tr><td>rs8075634                </td><td>NA</td><td>4</td><td>Illumina....</td><td></td><td>5</td><td>HiSeqPE3....</td><td>    IonExome</td><td>6</td><td>HiSeqPE3....</td><td>NA</td><td>CS_Solid....</td><td>CS_HiSeq....</td><td>            </td><td>NA</td><td></td><td></td></tr>\n",
       "\t<tr><td>rs12453685               </td><td>NA</td><td>4</td><td>Illumina....</td><td></td><td>5</td><td>HiSeqPE3....</td><td>    IonExome</td><td>6</td><td>HiSeqPE3....</td><td>NA</td><td>CS_HiSeq....</td><td>CS_HiSeq....</td><td>            </td><td>NA</td><td></td><td></td></tr>\n",
       "\t<tr><td>rs8081104                </td><td>NA</td><td>4</td><td>Illumina....</td><td></td><td>4</td><td>HiSeqPE3....</td><td>IonExome....</td><td>5</td><td>HiSeqPE3....</td><td>NA</td><td>            </td><td>CS_HiSeq....</td><td>            </td><td>NA</td><td></td><td></td></tr>\n",
       "\t<tr><td>rs4795210                </td><td>NA</td><td>4</td><td>Illumina....</td><td></td><td>5</td><td>HiSeqPE3....</td><td>    IonExome</td><td>6</td><td>HiSeqPE3....</td><td>NA</td><td>CS_Solid....</td><td>CS_HiSeq....</td><td>            </td><td>NA</td><td></td><td></td></tr>\n",
       "\t<tr><td>rs11655384               </td><td>NA</td><td>4</td><td>Illumina....</td><td></td><td>5</td><td>HiSeqPE3....</td><td>    IonExome</td><td>6</td><td>HiSeqPE3....</td><td>NA</td><td>            </td><td>CS_HiSeq....</td><td>            </td><td>NA</td><td></td><td></td></tr>\n",
       "\t<tr><td>rs7216445                </td><td>NA</td><td>5</td><td>Illumina....</td><td></td><td>5</td><td>HiSeqPE3....</td><td>SolidPE5....</td><td>6</td><td>HiSeqPE3....</td><td>NA</td><td>            </td><td>CS_HiSeq....</td><td>            </td><td>NA</td><td></td><td></td></tr>\n",
       "\t<tr><td>rs111349348              </td><td>NA</td><td>3</td><td>Illumina....</td><td></td><td>3</td><td>HiSeqPE3....</td><td>IonExome....</td><td>4</td><td>HiSeqPE3....</td><td>NA</td><td>            </td><td>CS_HiSeq....</td><td>            </td><td>NA</td><td></td><td></td></tr>\n",
       "\t<tr><td>rs71135752               </td><td>NA</td><td>2</td><td>Illumina, CG</td><td></td><td>2</td><td>HiSeqPE3....</td><td>10XChrom....</td><td>3</td><td>HiSeqPE3....</td><td>NA</td><td>            </td><td>CS_HiSeq....</td><td>AllRepea....</td><td>NA</td><td></td><td></td></tr>\n",
       "\t<tr><td>rs9903940                </td><td>NA</td><td>3</td><td>Illumina....</td><td></td><td>3</td><td>HiSeqPE3....</td><td>IonExome....</td><td>4</td><td>HiSeqPE3....</td><td>NA</td><td>CS_10XGA....</td><td>CS_HiSeq....</td><td>            </td><td>NA</td><td></td><td></td></tr>\n",
       "\t<tr><td>rs111686721              </td><td>NA</td><td>2</td><td>Illumina....</td><td></td><td>2</td><td>HiSeqPE3....</td><td>CGnormal....</td><td>3</td><td>HiSeqPE3....</td><td>NA</td><td>            </td><td>CS_HiSeq....</td><td>AllRepea....</td><td>NA</td><td></td><td></td></tr>\n",
       "\t<tr><td>rs7224513                </td><td>NA</td><td>5</td><td>Illumina....</td><td></td><td>6</td><td>HiSeqPE3....</td><td>            </td><td>7</td><td>HiSeqPE3....</td><td>NA</td><td>CS_Solid....</td><td>CS_HiSeq....</td><td>            </td><td>NA</td><td></td><td></td></tr>\n",
       "\t<tr><td>17:35989272_T/TACACACACAC</td><td>NA</td><td>1</td><td>    Illumina</td><td></td><td>1</td><td> HiSeqPE300x</td><td>CGnormal....</td><td>2</td><td>HiSeqPE3....</td><td>NA</td><td>            </td><td>CS_HiSeq....</td><td>AllRepea....</td><td>NA</td><td></td><td></td></tr>\n",
       "\t<tr><td>rs11867675               </td><td>NA</td><td>4</td><td>Illumina....</td><td></td><td>4</td><td>HiSeqPE3....</td><td>IonExome....</td><td>5</td><td>HiSeqPE3....</td><td>NA</td><td>            </td><td>CS_HiSeq....</td><td>            </td><td>NA</td><td></td><td></td></tr>\n",
       "\t<tr><td>rs7220609                </td><td>NA</td><td>4</td><td>Illumina....</td><td></td><td>5</td><td>HiSeqPE3....</td><td>    IonExome</td><td>6</td><td>HiSeqPE3....</td><td>NA</td><td>CS_Solid....</td><td>CS_HiSeq....</td><td>            </td><td>NA</td><td></td><td></td></tr>\n",
       "\t<tr><td>rs56085660               </td><td>NA</td><td>3</td><td>Illumina....</td><td></td><td>3</td><td>HiSeqPE3....</td><td>IonExome....</td><td>4</td><td>HiSeqPE3....</td><td>NA</td><td>CS_CGnor....</td><td>CS_HiSeq....</td><td>            </td><td>NA</td><td></td><td></td></tr>\n",
       "\t<tr><td>rs9906814                </td><td>NA</td><td>4</td><td>Illumina....</td><td></td><td>5</td><td>HiSeqPE3....</td><td>    IonExome</td><td>6</td><td>HiSeqPE3....</td><td>NA</td><td>CS_CGnor....</td><td>CS_HiSeq....</td><td>            </td><td>NA</td><td></td><td></td></tr>\n",
       "\t<tr><td>rs4622555                </td><td>NA</td><td>4</td><td>Illumina....</td><td></td><td>4</td><td>HiSeqPE3....</td><td>IonExome....</td><td>5</td><td>HiSeqPE3....</td><td>NA</td><td>CS_Solid....</td><td>CS_HiSeq....</td><td>            </td><td>NA</td><td></td><td></td></tr>\n",
       "\t<tr><td>rs8080225                </td><td>NA</td><td>4</td><td>Illumina....</td><td></td><td>4</td><td>HiSeqPE3....</td><td>IonExome....</td><td>5</td><td>HiSeqPE3....</td><td>NA</td><td>CS_Solid....</td><td>CS_HiSeq....</td><td>            </td><td>NA</td><td></td><td></td></tr>\n",
       "\t<tr><td>rs8075378                </td><td>NA</td><td>4</td><td>Illumina....</td><td></td><td>5</td><td>HiSeqPE3....</td><td>    IonExome</td><td>6</td><td>HiSeqPE3....</td><td>NA</td><td>CS_Solid....</td><td>CS_HiSeq....</td><td>            </td><td>NA</td><td></td><td></td></tr>\n",
       "\t<tr><td>rs6607281                </td><td>NA</td><td>4</td><td>Illumina....</td><td></td><td>4</td><td>HiSeqPE3....</td><td>IonExome....</td><td>5</td><td>HiSeqPE3....</td><td>NA</td><td>CS_Solid....</td><td>CS_HiSeq....</td><td>            </td><td>NA</td><td></td><td></td></tr>\n",
       "\t<tr><td>rs4332783                </td><td>NA</td><td>3</td><td>Illumina....</td><td></td><td>3</td><td>HiSeqPE3....</td><td>IonExome....</td><td>4</td><td>HiSeqPE3....</td><td>NA</td><td>            </td><td>CS_HiSeq....</td><td>            </td><td>NA</td><td></td><td></td></tr>\n",
       "\t<tr><td>rs71984199               </td><td>NA</td><td>2</td><td>Illumina, CG</td><td></td><td>2</td><td>HiSeqPE3....</td><td>10XChrom....</td><td>3</td><td>HiSeqPE3....</td><td>NA</td><td>CS_CGnor....</td><td>CS_HiSeq....</td><td>AllRepea....</td><td>NA</td><td></td><td></td></tr>\n",
       "</tbody>\n",
       "</table>\n"
      ],
      "text/latex": [
       "A tibble: 332 × 17\n",
       "\\begin{tabular}{lllllllllllllllll}\n",
       " ID & DPSum & platforms & platformnames & platformbias & datasets & datasetnames & datasetsmissingcall & callsets & callsetnames & varType & filt & callable & difficultregion & arbitrated & callsetwiththisuniqgenopassing & callsetwithotheruniqgenopassing\\\\\n",
       " <chr> & <int> & <int> & <I<list>> & <I<list>> & <int> & <I<list>> & <I<list>> & <int> & <I<list>> & <chr> & <I<list>> & <I<list>> & <I<list>> & <chr> & <I<list>> & <I<list>>\\\\\n",
       "\\hline\n",
       "\t rs2411161        & NA & 3 & Illumina.... &  & 3 & HiSeqPE3.... & 10XChrom.... & 4 & HiSeqPE3.... & NA &              & CS\\_HiSeq.... &              & NA &  & \\\\\n",
       "\t rs8073074        & NA & 3 & Illumina.... &  & 4 & HiSeqPE3.... & 10XChrom.... & 5 & HiSeqPE3.... & NA & CS\\_Solid.... & CS\\_HiSeq.... &              & NA &  & \\\\\n",
       "\t rs4523972        & NA & 3 & Illumina.... &  & 3 & HiSeqPE3.... & 10XChrom.... & 4 & HiSeqPE3.... & NA & CS\\_Solid.... & CS\\_HiSeq.... &              & NA &  & \\\\\n",
       "\t rs111498996      & NA & 1 &     Illumina &  & 1 &  HiSeqPE300x & CGnormal.... & 2 & HiSeqPE3.... & NA & CS\\_CGnor.... & CS\\_HiSeq.... & AllRepea.... & NA &  & \\\\\n",
       "\t rs8077266        & NA & 3 & Illumina.... &  & 4 & HiSeqPE3.... & 10XChrom.... & 5 & HiSeqPE3.... & NA & CS\\_Solid.... & CS\\_HiSeq.... &              & NA &  & \\\\\n",
       "\t rs75773263       & NA & 2 & CG, Illumina &  & 2 & CGnormal.... & 10XChrom.... & 3 & CGnormal.... & NA &              & CS\\_CGnor.... &              & NA &  & \\\\\n",
       "\t rs725038         & NA & 3 & Illumina.... &  & 4 & HiSeqPE3.... & 10XChrom.... & 5 & HiSeqPE3.... & NA & CS\\_HiSeq.... & CS\\_HiSeq.... &              & NA &  & \\\\\n",
       "\t rs10664252       & NA & 3 & CG, Illu.... &  & 4 & CGnormal.... & 10XChrom.... & 5 & CGnormal.... & NA & CS\\_Solid.... & CS\\_CGnor.... &              & NA &  & \\\\\n",
       "\t rs11655013       & NA & 3 & Illumina.... &  & 3 & HiSeqPE3.... & 10XChrom.... & 4 & HiSeqPE3.... & NA &              & CS\\_HiSeq.... &              & NA &  & \\\\\n",
       "\t rs9906543        & NA & 3 & Illumina.... &  & 4 & HiSeqPE3.... & 10XChrom.... & 5 & HiSeqPE3.... & NA & CS\\_Solid.... & CS\\_HiSeq.... &              & NA &  & \\\\\n",
       "\t rs72826172       & NA & 3 & Illumina.... &  & 3 & HiSeqPE3.... & 10XChrom.... & 4 & HiSeqPE3.... & NA &              & CS\\_HiSeq.... &              & NA &  & \\\\\n",
       "\t rs4299194        & NA & 3 & Illumina.... &  & 4 & HiSeqPE3.... & 10XChrom.... & 5 & HiSeqPE3.... & NA & CS\\_Solid.... & CS\\_HiSeq.... &              & NA &  & \\\\\n",
       "\t rs7225778        & NA & 3 & Illumina.... &  & 3 & HiSeqPE3.... & IonExome.... & 4 & HiSeqPE3.... & NA &              & CS\\_HiSeq.... &              & NA &  & \\\\\n",
       "\t rs7215485        & NA & 4 & Illumina.... &  & 5 & HiSeqPE3.... &     IonExome & 6 & HiSeqPE3.... & NA & CS\\_10XGA.... & CS\\_HiSeq.... &              & NA &  & \\\\\n",
       "\t rs9652902        & NA & 4 & Illumina.... &  & 5 & HiSeqPE3.... &     IonExome & 6 & HiSeqPE3.... & NA & CS\\_Solid.... & CS\\_HiSeq.... &              & NA &  & \\\\\n",
       "\t rs8071315        & NA & 4 & Illumina.... &  & 5 & HiSeqPE3.... &     IonExome & 6 & HiSeqPE3.... & NA & CS\\_Solid.... & CS\\_HiSeq.... &              & NA &  & \\\\\n",
       "\t rs4794749        & NA & 4 & Illumina.... &  & 5 & HiSeqPE3.... &     IonExome & 6 & HiSeqPE3.... & NA &              & CS\\_HiSeq.... &              & NA &  & \\\\\n",
       "\t rs61266482       & NA & 3 & Illumina.... &  & 3 & HiSeqPE3.... & 10XChrom.... & 4 & HiSeqPE3.... & NA & CS\\_Solid.... & CS\\_HiSeq.... &              & NA &  & \\\\\n",
       "\t rs4795176        & NA & 2 & Illumina, CG &  & 2 & HiSeqPE3.... & 10XChrom.... & 3 & HiSeqPE3.... & NA & CS\\_Solid.... & CS\\_HiSeq.... &              & NA &  & \\\\\n",
       "\t rs4795177        & NA & 3 & Illumina.... &  & 3 & HiSeqPE3.... & 10XChrom.... & 4 & HiSeqPE3.... & NA & CS\\_Solid.... & CS\\_HiSeq.... &              & NA &  & \\\\\n",
       "\t rs2898659        & NA & 3 & Illumina.... &  & 4 & HiSeqPE3.... & 10XChrom.... & 5 & HiSeqPE3.... & NA & CS\\_Solid.... & CS\\_HiSeq.... &              & NA &  & \\\\\n",
       "\t rs17138934       & NA & 4 & Illumina.... &  & 5 & HiSeqPE3.... &     IonExome & 6 & HiSeqPE3.... & NA &              & CS\\_HiSeq.... &              & NA &  & \\\\\n",
       "\t rs112439511      & NA & 2 & Illumina.... &  & 2 & HiSeqPE3.... & CGnormal.... & 3 & HiSeqPE3.... & NA & CS\\_CGnor.... & CS\\_HiSeq.... & AllRepea.... & NA &  & \\\\\n",
       "\t rs8076694        & NA & 4 & Illumina.... &  & 5 & HiSeqPE3.... &     IonExome & 6 & HiSeqPE3.... & NA & CS\\_Solid.... & CS\\_HiSeq.... &              & NA &  & \\\\\n",
       "\t rs7221404        & NA & 4 & Illumina.... &  & 5 & HiSeqPE3.... &     IonExome & 6 & HiSeqPE3.... & NA & CS\\_Solid.... & CS\\_HiSeq.... &              & NA &  & \\\\\n",
       "\t rs2121017        & NA & 4 & Illumina.... &  & 5 & HiSeqPE3.... &     IonExome & 6 & HiSeqPE3.... & NA & CS\\_Solid.... & CS\\_HiSeq.... &              & NA &  & \\\\\n",
       "\t rs7207912        & NA & 3 & Illumina.... &  & 3 & HiSeqPE3.... & IonExome.... & 4 & HiSeqPE3.... & NA &              & CS\\_HiSeq.... & AllRepea.... & NA &  & \\\\\n",
       "\t rs9905678        & NA & 3 & Illumina.... &  & 3 & HiSeqPE3.... & IonExome.... & 4 & HiSeqPE3.... & NA & CS\\_CGnor.... & CS\\_HiSeq.... &              & NA &  & \\\\\n",
       "\t rs4795178        & NA & 4 & Illumina.... &  & 4 & HiSeqPE3.... & IonExome.... & 5 & HiSeqPE3.... & NA & CS\\_HiSeq.... & CS\\_HiSeq.... &              & NA &  & \\\\\n",
       "\t 17:35540739\\_GA/G & NA & 1 &     Illumina &  & 1 &  HiSeqPE300x & CGnormal.... & 2 & HiSeqPE3.... & NA & CS\\_HiSeq.... & CS\\_HiSeq.... & AllRepea.... & NA &  & \\\\\n",
       "\t ⋮ & ⋮ & ⋮ & ⋮ & ⋮ & ⋮ & ⋮ & ⋮ & ⋮ & ⋮ & ⋮ & ⋮ & ⋮ & ⋮ & ⋮ & ⋮ & ⋮\\\\\n",
       "\t rs17660636                & NA & 3 & Illumina.... &  & 4 & HiSeqPE3.... & 10XChrom.... & 5 & HiSeqPE3.... & NA &              & CS\\_HiSeq.... &              & NA &  & \\\\\n",
       "\t rs8079671                 & NA & 4 & Illumina.... &  & 5 & HiSeqPE3.... &     IonExome & 6 & HiSeqPE3.... & NA & CS\\_Solid.... & CS\\_HiSeq.... &              & NA &  & \\\\\n",
       "\t rs9900406                 & NA & 4 & Illumina.... &  & 5 & HiSeqPE3.... &     IonExome & 6 & HiSeqPE3.... & NA & CS\\_Solid.... & CS\\_HiSeq.... &              & NA &  & \\\\\n",
       "\t rs34469094                & NA & 1 &     Illumina &  & 1 &  HiSeqPE300x & CGnormal.... & 2 & HiSeqPE3.... & NA &              & CS\\_HiSeq.... & AllRepea.... & NA &  & \\\\\n",
       "\t rs4795208                 & NA & 4 & Illumina.... &  & 5 & HiSeqPE3.... &     IonExome & 6 & HiSeqPE3.... & NA & CS\\_Solid.... & CS\\_HiSeq.... &              & NA &  & \\\\\n",
       "\t rs12939622                & NA & 4 & Illumina.... &  & 4 & HiSeqPE3.... & IonExome.... & 5 & HiSeqPE3.... & NA &              & CS\\_HiSeq.... &              & NA &  & \\\\\n",
       "\t rs4573978                 & NA & 2 & Illumina, CG &  & 2 & HiSeqPE3.... & 10XChrom.... & 3 & HiSeqPE3.... & NA & CS\\_CGnor.... & CS\\_HiSeq.... & AllRepea.... & NA &  & \\\\\n",
       "\t rs9892460                 & NA & 4 & Illumina.... &  & 5 & HiSeqPE3.... &     IonExome & 6 & HiSeqPE3.... & NA &              & CS\\_HiSeq.... &              & NA &  & \\\\\n",
       "\t rs8075634                 & NA & 4 & Illumina.... &  & 5 & HiSeqPE3.... &     IonExome & 6 & HiSeqPE3.... & NA & CS\\_Solid.... & CS\\_HiSeq.... &              & NA &  & \\\\\n",
       "\t rs12453685                & NA & 4 & Illumina.... &  & 5 & HiSeqPE3.... &     IonExome & 6 & HiSeqPE3.... & NA & CS\\_HiSeq.... & CS\\_HiSeq.... &              & NA &  & \\\\\n",
       "\t rs8081104                 & NA & 4 & Illumina.... &  & 4 & HiSeqPE3.... & IonExome.... & 5 & HiSeqPE3.... & NA &              & CS\\_HiSeq.... &              & NA &  & \\\\\n",
       "\t rs4795210                 & NA & 4 & Illumina.... &  & 5 & HiSeqPE3.... &     IonExome & 6 & HiSeqPE3.... & NA & CS\\_Solid.... & CS\\_HiSeq.... &              & NA &  & \\\\\n",
       "\t rs11655384                & NA & 4 & Illumina.... &  & 5 & HiSeqPE3.... &     IonExome & 6 & HiSeqPE3.... & NA &              & CS\\_HiSeq.... &              & NA &  & \\\\\n",
       "\t rs7216445                 & NA & 5 & Illumina.... &  & 5 & HiSeqPE3.... & SolidPE5.... & 6 & HiSeqPE3.... & NA &              & CS\\_HiSeq.... &              & NA &  & \\\\\n",
       "\t rs111349348               & NA & 3 & Illumina.... &  & 3 & HiSeqPE3.... & IonExome.... & 4 & HiSeqPE3.... & NA &              & CS\\_HiSeq.... &              & NA &  & \\\\\n",
       "\t rs71135752                & NA & 2 & Illumina, CG &  & 2 & HiSeqPE3.... & 10XChrom.... & 3 & HiSeqPE3.... & NA &              & CS\\_HiSeq.... & AllRepea.... & NA &  & \\\\\n",
       "\t rs9903940                 & NA & 3 & Illumina.... &  & 3 & HiSeqPE3.... & IonExome.... & 4 & HiSeqPE3.... & NA & CS\\_10XGA.... & CS\\_HiSeq.... &              & NA &  & \\\\\n",
       "\t rs111686721               & NA & 2 & Illumina.... &  & 2 & HiSeqPE3.... & CGnormal.... & 3 & HiSeqPE3.... & NA &              & CS\\_HiSeq.... & AllRepea.... & NA &  & \\\\\n",
       "\t rs7224513                 & NA & 5 & Illumina.... &  & 6 & HiSeqPE3.... &              & 7 & HiSeqPE3.... & NA & CS\\_Solid.... & CS\\_HiSeq.... &              & NA &  & \\\\\n",
       "\t 17:35989272\\_T/TACACACACAC & NA & 1 &     Illumina &  & 1 &  HiSeqPE300x & CGnormal.... & 2 & HiSeqPE3.... & NA &              & CS\\_HiSeq.... & AllRepea.... & NA &  & \\\\\n",
       "\t rs11867675                & NA & 4 & Illumina.... &  & 4 & HiSeqPE3.... & IonExome.... & 5 & HiSeqPE3.... & NA &              & CS\\_HiSeq.... &              & NA &  & \\\\\n",
       "\t rs7220609                 & NA & 4 & Illumina.... &  & 5 & HiSeqPE3.... &     IonExome & 6 & HiSeqPE3.... & NA & CS\\_Solid.... & CS\\_HiSeq.... &              & NA &  & \\\\\n",
       "\t rs56085660                & NA & 3 & Illumina.... &  & 3 & HiSeqPE3.... & IonExome.... & 4 & HiSeqPE3.... & NA & CS\\_CGnor.... & CS\\_HiSeq.... &              & NA &  & \\\\\n",
       "\t rs9906814                 & NA & 4 & Illumina.... &  & 5 & HiSeqPE3.... &     IonExome & 6 & HiSeqPE3.... & NA & CS\\_CGnor.... & CS\\_HiSeq.... &              & NA &  & \\\\\n",
       "\t rs4622555                 & NA & 4 & Illumina.... &  & 4 & HiSeqPE3.... & IonExome.... & 5 & HiSeqPE3.... & NA & CS\\_Solid.... & CS\\_HiSeq.... &              & NA &  & \\\\\n",
       "\t rs8080225                 & NA & 4 & Illumina.... &  & 4 & HiSeqPE3.... & IonExome.... & 5 & HiSeqPE3.... & NA & CS\\_Solid.... & CS\\_HiSeq.... &              & NA &  & \\\\\n",
       "\t rs8075378                 & NA & 4 & Illumina.... &  & 5 & HiSeqPE3.... &     IonExome & 6 & HiSeqPE3.... & NA & CS\\_Solid.... & CS\\_HiSeq.... &              & NA &  & \\\\\n",
       "\t rs6607281                 & NA & 4 & Illumina.... &  & 4 & HiSeqPE3.... & IonExome.... & 5 & HiSeqPE3.... & NA & CS\\_Solid.... & CS\\_HiSeq.... &              & NA &  & \\\\\n",
       "\t rs4332783                 & NA & 3 & Illumina.... &  & 3 & HiSeqPE3.... & IonExome.... & 4 & HiSeqPE3.... & NA &              & CS\\_HiSeq.... &              & NA &  & \\\\\n",
       "\t rs71984199                & NA & 2 & Illumina, CG &  & 2 & HiSeqPE3.... & 10XChrom.... & 3 & HiSeqPE3.... & NA & CS\\_CGnor.... & CS\\_HiSeq.... & AllRepea.... & NA &  & \\\\\n",
       "\\end{tabular}\n"
      ],
      "text/markdown": [
       "\n",
       "A tibble: 332 × 17\n",
       "\n",
       "| ID &lt;chr&gt; | DPSum &lt;int&gt; | platforms &lt;int&gt; | platformnames &lt;I&lt;list&gt;&gt; | platformbias &lt;I&lt;list&gt;&gt; | datasets &lt;int&gt; | datasetnames &lt;I&lt;list&gt;&gt; | datasetsmissingcall &lt;I&lt;list&gt;&gt; | callsets &lt;int&gt; | callsetnames &lt;I&lt;list&gt;&gt; | varType &lt;chr&gt; | filt &lt;I&lt;list&gt;&gt; | callable &lt;I&lt;list&gt;&gt; | difficultregion &lt;I&lt;list&gt;&gt; | arbitrated &lt;chr&gt; | callsetwiththisuniqgenopassing &lt;I&lt;list&gt;&gt; | callsetwithotheruniqgenopassing &lt;I&lt;list&gt;&gt; |\n",
       "|---|---|---|---|---|---|---|---|---|---|---|---|---|---|---|---|---|\n",
       "| rs2411161        | NA | 3 | Illumina.... | <!----> | 3 | HiSeqPE3.... | 10XChrom.... | 4 | HiSeqPE3.... | NA | <!----> | CS_HiSeq.... | <!----> | NA | <!----> | <!----> |\n",
       "| rs8073074        | NA | 3 | Illumina.... | <!----> | 4 | HiSeqPE3.... | 10XChrom.... | 5 | HiSeqPE3.... | NA | CS_Solid.... | CS_HiSeq.... | <!----> | NA | <!----> | <!----> |\n",
       "| rs4523972        | NA | 3 | Illumina.... | <!----> | 3 | HiSeqPE3.... | 10XChrom.... | 4 | HiSeqPE3.... | NA | CS_Solid.... | CS_HiSeq.... | <!----> | NA | <!----> | <!----> |\n",
       "| rs111498996      | NA | 1 |     Illumina | <!----> | 1 |  HiSeqPE300x | CGnormal.... | 2 | HiSeqPE3.... | NA | CS_CGnor.... | CS_HiSeq.... | AllRepea.... | NA | <!----> | <!----> |\n",
       "| rs8077266        | NA | 3 | Illumina.... | <!----> | 4 | HiSeqPE3.... | 10XChrom.... | 5 | HiSeqPE3.... | NA | CS_Solid.... | CS_HiSeq.... | <!----> | NA | <!----> | <!----> |\n",
       "| rs75773263       | NA | 2 | CG, Illumina | <!----> | 2 | CGnormal.... | 10XChrom.... | 3 | CGnormal.... | NA | <!----> | CS_CGnor.... | <!----> | NA | <!----> | <!----> |\n",
       "| rs725038         | NA | 3 | Illumina.... | <!----> | 4 | HiSeqPE3.... | 10XChrom.... | 5 | HiSeqPE3.... | NA | CS_HiSeq.... | CS_HiSeq.... | <!----> | NA | <!----> | <!----> |\n",
       "| rs10664252       | NA | 3 | CG, Illu.... | <!----> | 4 | CGnormal.... | 10XChrom.... | 5 | CGnormal.... | NA | CS_Solid.... | CS_CGnor.... | <!----> | NA | <!----> | <!----> |\n",
       "| rs11655013       | NA | 3 | Illumina.... | <!----> | 3 | HiSeqPE3.... | 10XChrom.... | 4 | HiSeqPE3.... | NA | <!----> | CS_HiSeq.... | <!----> | NA | <!----> | <!----> |\n",
       "| rs9906543        | NA | 3 | Illumina.... | <!----> | 4 | HiSeqPE3.... | 10XChrom.... | 5 | HiSeqPE3.... | NA | CS_Solid.... | CS_HiSeq.... | <!----> | NA | <!----> | <!----> |\n",
       "| rs72826172       | NA | 3 | Illumina.... | <!----> | 3 | HiSeqPE3.... | 10XChrom.... | 4 | HiSeqPE3.... | NA | <!----> | CS_HiSeq.... | <!----> | NA | <!----> | <!----> |\n",
       "| rs4299194        | NA | 3 | Illumina.... | <!----> | 4 | HiSeqPE3.... | 10XChrom.... | 5 | HiSeqPE3.... | NA | CS_Solid.... | CS_HiSeq.... | <!----> | NA | <!----> | <!----> |\n",
       "| rs7225778        | NA | 3 | Illumina.... | <!----> | 3 | HiSeqPE3.... | IonExome.... | 4 | HiSeqPE3.... | NA | <!----> | CS_HiSeq.... | <!----> | NA | <!----> | <!----> |\n",
       "| rs7215485        | NA | 4 | Illumina.... | <!----> | 5 | HiSeqPE3.... |     IonExome | 6 | HiSeqPE3.... | NA | CS_10XGA.... | CS_HiSeq.... | <!----> | NA | <!----> | <!----> |\n",
       "| rs9652902        | NA | 4 | Illumina.... | <!----> | 5 | HiSeqPE3.... |     IonExome | 6 | HiSeqPE3.... | NA | CS_Solid.... | CS_HiSeq.... | <!----> | NA | <!----> | <!----> |\n",
       "| rs8071315        | NA | 4 | Illumina.... | <!----> | 5 | HiSeqPE3.... |     IonExome | 6 | HiSeqPE3.... | NA | CS_Solid.... | CS_HiSeq.... | <!----> | NA | <!----> | <!----> |\n",
       "| rs4794749        | NA | 4 | Illumina.... | <!----> | 5 | HiSeqPE3.... |     IonExome | 6 | HiSeqPE3.... | NA | <!----> | CS_HiSeq.... | <!----> | NA | <!----> | <!----> |\n",
       "| rs61266482       | NA | 3 | Illumina.... | <!----> | 3 | HiSeqPE3.... | 10XChrom.... | 4 | HiSeqPE3.... | NA | CS_Solid.... | CS_HiSeq.... | <!----> | NA | <!----> | <!----> |\n",
       "| rs4795176        | NA | 2 | Illumina, CG | <!----> | 2 | HiSeqPE3.... | 10XChrom.... | 3 | HiSeqPE3.... | NA | CS_Solid.... | CS_HiSeq.... | <!----> | NA | <!----> | <!----> |\n",
       "| rs4795177        | NA | 3 | Illumina.... | <!----> | 3 | HiSeqPE3.... | 10XChrom.... | 4 | HiSeqPE3.... | NA | CS_Solid.... | CS_HiSeq.... | <!----> | NA | <!----> | <!----> |\n",
       "| rs2898659        | NA | 3 | Illumina.... | <!----> | 4 | HiSeqPE3.... | 10XChrom.... | 5 | HiSeqPE3.... | NA | CS_Solid.... | CS_HiSeq.... | <!----> | NA | <!----> | <!----> |\n",
       "| rs17138934       | NA | 4 | Illumina.... | <!----> | 5 | HiSeqPE3.... |     IonExome | 6 | HiSeqPE3.... | NA | <!----> | CS_HiSeq.... | <!----> | NA | <!----> | <!----> |\n",
       "| rs112439511      | NA | 2 | Illumina.... | <!----> | 2 | HiSeqPE3.... | CGnormal.... | 3 | HiSeqPE3.... | NA | CS_CGnor.... | CS_HiSeq.... | AllRepea.... | NA | <!----> | <!----> |\n",
       "| rs8076694        | NA | 4 | Illumina.... | <!----> | 5 | HiSeqPE3.... |     IonExome | 6 | HiSeqPE3.... | NA | CS_Solid.... | CS_HiSeq.... | <!----> | NA | <!----> | <!----> |\n",
       "| rs7221404        | NA | 4 | Illumina.... | <!----> | 5 | HiSeqPE3.... |     IonExome | 6 | HiSeqPE3.... | NA | CS_Solid.... | CS_HiSeq.... | <!----> | NA | <!----> | <!----> |\n",
       "| rs2121017        | NA | 4 | Illumina.... | <!----> | 5 | HiSeqPE3.... |     IonExome | 6 | HiSeqPE3.... | NA | CS_Solid.... | CS_HiSeq.... | <!----> | NA | <!----> | <!----> |\n",
       "| rs7207912        | NA | 3 | Illumina.... | <!----> | 3 | HiSeqPE3.... | IonExome.... | 4 | HiSeqPE3.... | NA | <!----> | CS_HiSeq.... | AllRepea.... | NA | <!----> | <!----> |\n",
       "| rs9905678        | NA | 3 | Illumina.... | <!----> | 3 | HiSeqPE3.... | IonExome.... | 4 | HiSeqPE3.... | NA | CS_CGnor.... | CS_HiSeq.... | <!----> | NA | <!----> | <!----> |\n",
       "| rs4795178        | NA | 4 | Illumina.... | <!----> | 4 | HiSeqPE3.... | IonExome.... | 5 | HiSeqPE3.... | NA | CS_HiSeq.... | CS_HiSeq.... | <!----> | NA | <!----> | <!----> |\n",
       "| 17:35540739_GA/G | NA | 1 |     Illumina | <!----> | 1 |  HiSeqPE300x | CGnormal.... | 2 | HiSeqPE3.... | NA | CS_HiSeq.... | CS_HiSeq.... | AllRepea.... | NA | <!----> | <!----> |\n",
       "| ⋮ | ⋮ | ⋮ | ⋮ | ⋮ | ⋮ | ⋮ | ⋮ | ⋮ | ⋮ | ⋮ | ⋮ | ⋮ | ⋮ | ⋮ | ⋮ | ⋮ |\n",
       "| rs17660636                | NA | 3 | Illumina.... | <!----> | 4 | HiSeqPE3.... | 10XChrom.... | 5 | HiSeqPE3.... | NA | <!----> | CS_HiSeq.... | <!----> | NA | <!----> | <!----> |\n",
       "| rs8079671                 | NA | 4 | Illumina.... | <!----> | 5 | HiSeqPE3.... |     IonExome | 6 | HiSeqPE3.... | NA | CS_Solid.... | CS_HiSeq.... | <!----> | NA | <!----> | <!----> |\n",
       "| rs9900406                 | NA | 4 | Illumina.... | <!----> | 5 | HiSeqPE3.... |     IonExome | 6 | HiSeqPE3.... | NA | CS_Solid.... | CS_HiSeq.... | <!----> | NA | <!----> | <!----> |\n",
       "| rs34469094                | NA | 1 |     Illumina | <!----> | 1 |  HiSeqPE300x | CGnormal.... | 2 | HiSeqPE3.... | NA | <!----> | CS_HiSeq.... | AllRepea.... | NA | <!----> | <!----> |\n",
       "| rs4795208                 | NA | 4 | Illumina.... | <!----> | 5 | HiSeqPE3.... |     IonExome | 6 | HiSeqPE3.... | NA | CS_Solid.... | CS_HiSeq.... | <!----> | NA | <!----> | <!----> |\n",
       "| rs12939622                | NA | 4 | Illumina.... | <!----> | 4 | HiSeqPE3.... | IonExome.... | 5 | HiSeqPE3.... | NA | <!----> | CS_HiSeq.... | <!----> | NA | <!----> | <!----> |\n",
       "| rs4573978                 | NA | 2 | Illumina, CG | <!----> | 2 | HiSeqPE3.... | 10XChrom.... | 3 | HiSeqPE3.... | NA | CS_CGnor.... | CS_HiSeq.... | AllRepea.... | NA | <!----> | <!----> |\n",
       "| rs9892460                 | NA | 4 | Illumina.... | <!----> | 5 | HiSeqPE3.... |     IonExome | 6 | HiSeqPE3.... | NA | <!----> | CS_HiSeq.... | <!----> | NA | <!----> | <!----> |\n",
       "| rs8075634                 | NA | 4 | Illumina.... | <!----> | 5 | HiSeqPE3.... |     IonExome | 6 | HiSeqPE3.... | NA | CS_Solid.... | CS_HiSeq.... | <!----> | NA | <!----> | <!----> |\n",
       "| rs12453685                | NA | 4 | Illumina.... | <!----> | 5 | HiSeqPE3.... |     IonExome | 6 | HiSeqPE3.... | NA | CS_HiSeq.... | CS_HiSeq.... | <!----> | NA | <!----> | <!----> |\n",
       "| rs8081104                 | NA | 4 | Illumina.... | <!----> | 4 | HiSeqPE3.... | IonExome.... | 5 | HiSeqPE3.... | NA | <!----> | CS_HiSeq.... | <!----> | NA | <!----> | <!----> |\n",
       "| rs4795210                 | NA | 4 | Illumina.... | <!----> | 5 | HiSeqPE3.... |     IonExome | 6 | HiSeqPE3.... | NA | CS_Solid.... | CS_HiSeq.... | <!----> | NA | <!----> | <!----> |\n",
       "| rs11655384                | NA | 4 | Illumina.... | <!----> | 5 | HiSeqPE3.... |     IonExome | 6 | HiSeqPE3.... | NA | <!----> | CS_HiSeq.... | <!----> | NA | <!----> | <!----> |\n",
       "| rs7216445                 | NA | 5 | Illumina.... | <!----> | 5 | HiSeqPE3.... | SolidPE5.... | 6 | HiSeqPE3.... | NA | <!----> | CS_HiSeq.... | <!----> | NA | <!----> | <!----> |\n",
       "| rs111349348               | NA | 3 | Illumina.... | <!----> | 3 | HiSeqPE3.... | IonExome.... | 4 | HiSeqPE3.... | NA | <!----> | CS_HiSeq.... | <!----> | NA | <!----> | <!----> |\n",
       "| rs71135752                | NA | 2 | Illumina, CG | <!----> | 2 | HiSeqPE3.... | 10XChrom.... | 3 | HiSeqPE3.... | NA | <!----> | CS_HiSeq.... | AllRepea.... | NA | <!----> | <!----> |\n",
       "| rs9903940                 | NA | 3 | Illumina.... | <!----> | 3 | HiSeqPE3.... | IonExome.... | 4 | HiSeqPE3.... | NA | CS_10XGA.... | CS_HiSeq.... | <!----> | NA | <!----> | <!----> |\n",
       "| rs111686721               | NA | 2 | Illumina.... | <!----> | 2 | HiSeqPE3.... | CGnormal.... | 3 | HiSeqPE3.... | NA | <!----> | CS_HiSeq.... | AllRepea.... | NA | <!----> | <!----> |\n",
       "| rs7224513                 | NA | 5 | Illumina.... | <!----> | 6 | HiSeqPE3.... | <!----> | 7 | HiSeqPE3.... | NA | CS_Solid.... | CS_HiSeq.... | <!----> | NA | <!----> | <!----> |\n",
       "| 17:35989272_T/TACACACACAC | NA | 1 |     Illumina | <!----> | 1 |  HiSeqPE300x | CGnormal.... | 2 | HiSeqPE3.... | NA | <!----> | CS_HiSeq.... | AllRepea.... | NA | <!----> | <!----> |\n",
       "| rs11867675                | NA | 4 | Illumina.... | <!----> | 4 | HiSeqPE3.... | IonExome.... | 5 | HiSeqPE3.... | NA | <!----> | CS_HiSeq.... | <!----> | NA | <!----> | <!----> |\n",
       "| rs7220609                 | NA | 4 | Illumina.... | <!----> | 5 | HiSeqPE3.... |     IonExome | 6 | HiSeqPE3.... | NA | CS_Solid.... | CS_HiSeq.... | <!----> | NA | <!----> | <!----> |\n",
       "| rs56085660                | NA | 3 | Illumina.... | <!----> | 3 | HiSeqPE3.... | IonExome.... | 4 | HiSeqPE3.... | NA | CS_CGnor.... | CS_HiSeq.... | <!----> | NA | <!----> | <!----> |\n",
       "| rs9906814                 | NA | 4 | Illumina.... | <!----> | 5 | HiSeqPE3.... |     IonExome | 6 | HiSeqPE3.... | NA | CS_CGnor.... | CS_HiSeq.... | <!----> | NA | <!----> | <!----> |\n",
       "| rs4622555                 | NA | 4 | Illumina.... | <!----> | 4 | HiSeqPE3.... | IonExome.... | 5 | HiSeqPE3.... | NA | CS_Solid.... | CS_HiSeq.... | <!----> | NA | <!----> | <!----> |\n",
       "| rs8080225                 | NA | 4 | Illumina.... | <!----> | 4 | HiSeqPE3.... | IonExome.... | 5 | HiSeqPE3.... | NA | CS_Solid.... | CS_HiSeq.... | <!----> | NA | <!----> | <!----> |\n",
       "| rs8075378                 | NA | 4 | Illumina.... | <!----> | 5 | HiSeqPE3.... |     IonExome | 6 | HiSeqPE3.... | NA | CS_Solid.... | CS_HiSeq.... | <!----> | NA | <!----> | <!----> |\n",
       "| rs6607281                 | NA | 4 | Illumina.... | <!----> | 4 | HiSeqPE3.... | IonExome.... | 5 | HiSeqPE3.... | NA | CS_Solid.... | CS_HiSeq.... | <!----> | NA | <!----> | <!----> |\n",
       "| rs4332783                 | NA | 3 | Illumina.... | <!----> | 3 | HiSeqPE3.... | IonExome.... | 4 | HiSeqPE3.... | NA | <!----> | CS_HiSeq.... | <!----> | NA | <!----> | <!----> |\n",
       "| rs71984199                | NA | 2 | Illumina, CG | <!----> | 2 | HiSeqPE3.... | 10XChrom.... | 3 | HiSeqPE3.... | NA | CS_CGnor.... | CS_HiSeq.... | AllRepea.... | NA | <!----> | <!----> |\n",
       "\n"
      ],
      "text/plain": [
       "    ID                        DPSum platforms platformnames platformbias\n",
       "1   rs2411161                 NA    3         Illumina....              \n",
       "2   rs8073074                 NA    3         Illumina....              \n",
       "3   rs4523972                 NA    3         Illumina....              \n",
       "4   rs111498996               NA    1             Illumina              \n",
       "5   rs8077266                 NA    3         Illumina....              \n",
       "6   rs75773263                NA    2         CG, Illumina              \n",
       "7   rs725038                  NA    3         Illumina....              \n",
       "8   rs10664252                NA    3         CG, Illu....              \n",
       "9   rs11655013                NA    3         Illumina....              \n",
       "10  rs9906543                 NA    3         Illumina....              \n",
       "11  rs72826172                NA    3         Illumina....              \n",
       "12  rs4299194                 NA    3         Illumina....              \n",
       "13  rs7225778                 NA    3         Illumina....              \n",
       "14  rs7215485                 NA    4         Illumina....              \n",
       "15  rs9652902                 NA    4         Illumina....              \n",
       "16  rs8071315                 NA    4         Illumina....              \n",
       "17  rs4794749                 NA    4         Illumina....              \n",
       "18  rs61266482                NA    3         Illumina....              \n",
       "19  rs4795176                 NA    2         Illumina, CG              \n",
       "20  rs4795177                 NA    3         Illumina....              \n",
       "21  rs2898659                 NA    3         Illumina....              \n",
       "22  rs17138934                NA    4         Illumina....              \n",
       "23  rs112439511               NA    2         Illumina....              \n",
       "24  rs8076694                 NA    4         Illumina....              \n",
       "25  rs7221404                 NA    4         Illumina....              \n",
       "26  rs2121017                 NA    4         Illumina....              \n",
       "27  rs7207912                 NA    3         Illumina....              \n",
       "28  rs9905678                 NA    3         Illumina....              \n",
       "29  rs4795178                 NA    4         Illumina....              \n",
       "30  17:35540739_GA/G          NA    1             Illumina              \n",
       "⋮   ⋮                         ⋮     ⋮         ⋮             ⋮           \n",
       "303 rs17660636                NA    3         Illumina....              \n",
       "304 rs8079671                 NA    4         Illumina....              \n",
       "305 rs9900406                 NA    4         Illumina....              \n",
       "306 rs34469094                NA    1             Illumina              \n",
       "307 rs4795208                 NA    4         Illumina....              \n",
       "308 rs12939622                NA    4         Illumina....              \n",
       "309 rs4573978                 NA    2         Illumina, CG              \n",
       "310 rs9892460                 NA    4         Illumina....              \n",
       "311 rs8075634                 NA    4         Illumina....              \n",
       "312 rs12453685                NA    4         Illumina....              \n",
       "313 rs8081104                 NA    4         Illumina....              \n",
       "314 rs4795210                 NA    4         Illumina....              \n",
       "315 rs11655384                NA    4         Illumina....              \n",
       "316 rs7216445                 NA    5         Illumina....              \n",
       "317 rs111349348               NA    3         Illumina....              \n",
       "318 rs71135752                NA    2         Illumina, CG              \n",
       "319 rs9903940                 NA    3         Illumina....              \n",
       "320 rs111686721               NA    2         Illumina....              \n",
       "321 rs7224513                 NA    5         Illumina....              \n",
       "322 17:35989272_T/TACACACACAC NA    1             Illumina              \n",
       "323 rs11867675                NA    4         Illumina....              \n",
       "324 rs7220609                 NA    4         Illumina....              \n",
       "325 rs56085660                NA    3         Illumina....              \n",
       "326 rs9906814                 NA    4         Illumina....              \n",
       "327 rs4622555                 NA    4         Illumina....              \n",
       "328 rs8080225                 NA    4         Illumina....              \n",
       "329 rs8075378                 NA    4         Illumina....              \n",
       "330 rs6607281                 NA    4         Illumina....              \n",
       "331 rs4332783                 NA    3         Illumina....              \n",
       "332 rs71984199                NA    2         Illumina, CG              \n",
       "    datasets datasetnames datasetsmissingcall callsets callsetnames varType\n",
       "1   3        HiSeqPE3.... 10XChrom....        4        HiSeqPE3.... NA     \n",
       "2   4        HiSeqPE3.... 10XChrom....        5        HiSeqPE3.... NA     \n",
       "3   3        HiSeqPE3.... 10XChrom....        4        HiSeqPE3.... NA     \n",
       "4   1         HiSeqPE300x CGnormal....        2        HiSeqPE3.... NA     \n",
       "5   4        HiSeqPE3.... 10XChrom....        5        HiSeqPE3.... NA     \n",
       "6   2        CGnormal.... 10XChrom....        3        CGnormal.... NA     \n",
       "7   4        HiSeqPE3.... 10XChrom....        5        HiSeqPE3.... NA     \n",
       "8   4        CGnormal.... 10XChrom....        5        CGnormal.... NA     \n",
       "9   3        HiSeqPE3.... 10XChrom....        4        HiSeqPE3.... NA     \n",
       "10  4        HiSeqPE3.... 10XChrom....        5        HiSeqPE3.... NA     \n",
       "11  3        HiSeqPE3.... 10XChrom....        4        HiSeqPE3.... NA     \n",
       "12  4        HiSeqPE3.... 10XChrom....        5        HiSeqPE3.... NA     \n",
       "13  3        HiSeqPE3.... IonExome....        4        HiSeqPE3.... NA     \n",
       "14  5        HiSeqPE3....     IonExome        6        HiSeqPE3.... NA     \n",
       "15  5        HiSeqPE3....     IonExome        6        HiSeqPE3.... NA     \n",
       "16  5        HiSeqPE3....     IonExome        6        HiSeqPE3.... NA     \n",
       "17  5        HiSeqPE3....     IonExome        6        HiSeqPE3.... NA     \n",
       "18  3        HiSeqPE3.... 10XChrom....        4        HiSeqPE3.... NA     \n",
       "19  2        HiSeqPE3.... 10XChrom....        3        HiSeqPE3.... NA     \n",
       "20  3        HiSeqPE3.... 10XChrom....        4        HiSeqPE3.... NA     \n",
       "21  4        HiSeqPE3.... 10XChrom....        5        HiSeqPE3.... NA     \n",
       "22  5        HiSeqPE3....     IonExome        6        HiSeqPE3.... NA     \n",
       "23  2        HiSeqPE3.... CGnormal....        3        HiSeqPE3.... NA     \n",
       "24  5        HiSeqPE3....     IonExome        6        HiSeqPE3.... NA     \n",
       "25  5        HiSeqPE3....     IonExome        6        HiSeqPE3.... NA     \n",
       "26  5        HiSeqPE3....     IonExome        6        HiSeqPE3.... NA     \n",
       "27  3        HiSeqPE3.... IonExome....        4        HiSeqPE3.... NA     \n",
       "28  3        HiSeqPE3.... IonExome....        4        HiSeqPE3.... NA     \n",
       "29  4        HiSeqPE3.... IonExome....        5        HiSeqPE3.... NA     \n",
       "30  1         HiSeqPE300x CGnormal....        2        HiSeqPE3.... NA     \n",
       "⋮   ⋮        ⋮            ⋮                   ⋮        ⋮            ⋮      \n",
       "303 4        HiSeqPE3.... 10XChrom....        5        HiSeqPE3.... NA     \n",
       "304 5        HiSeqPE3....     IonExome        6        HiSeqPE3.... NA     \n",
       "305 5        HiSeqPE3....     IonExome        6        HiSeqPE3.... NA     \n",
       "306 1         HiSeqPE300x CGnormal....        2        HiSeqPE3.... NA     \n",
       "307 5        HiSeqPE3....     IonExome        6        HiSeqPE3.... NA     \n",
       "308 4        HiSeqPE3.... IonExome....        5        HiSeqPE3.... NA     \n",
       "309 2        HiSeqPE3.... 10XChrom....        3        HiSeqPE3.... NA     \n",
       "310 5        HiSeqPE3....     IonExome        6        HiSeqPE3.... NA     \n",
       "311 5        HiSeqPE3....     IonExome        6        HiSeqPE3.... NA     \n",
       "312 5        HiSeqPE3....     IonExome        6        HiSeqPE3.... NA     \n",
       "313 4        HiSeqPE3.... IonExome....        5        HiSeqPE3.... NA     \n",
       "314 5        HiSeqPE3....     IonExome        6        HiSeqPE3.... NA     \n",
       "315 5        HiSeqPE3....     IonExome        6        HiSeqPE3.... NA     \n",
       "316 5        HiSeqPE3.... SolidPE5....        6        HiSeqPE3.... NA     \n",
       "317 3        HiSeqPE3.... IonExome....        4        HiSeqPE3.... NA     \n",
       "318 2        HiSeqPE3.... 10XChrom....        3        HiSeqPE3.... NA     \n",
       "319 3        HiSeqPE3.... IonExome....        4        HiSeqPE3.... NA     \n",
       "320 2        HiSeqPE3.... CGnormal....        3        HiSeqPE3.... NA     \n",
       "321 6        HiSeqPE3....                     7        HiSeqPE3.... NA     \n",
       "322 1         HiSeqPE300x CGnormal....        2        HiSeqPE3.... NA     \n",
       "323 4        HiSeqPE3.... IonExome....        5        HiSeqPE3.... NA     \n",
       "324 5        HiSeqPE3....     IonExome        6        HiSeqPE3.... NA     \n",
       "325 3        HiSeqPE3.... IonExome....        4        HiSeqPE3.... NA     \n",
       "326 5        HiSeqPE3....     IonExome        6        HiSeqPE3.... NA     \n",
       "327 4        HiSeqPE3.... IonExome....        5        HiSeqPE3.... NA     \n",
       "328 4        HiSeqPE3.... IonExome....        5        HiSeqPE3.... NA     \n",
       "329 5        HiSeqPE3....     IonExome        6        HiSeqPE3.... NA     \n",
       "330 4        HiSeqPE3.... IonExome....        5        HiSeqPE3.... NA     \n",
       "331 3        HiSeqPE3.... IonExome....        4        HiSeqPE3.... NA     \n",
       "332 2        HiSeqPE3.... 10XChrom....        3        HiSeqPE3.... NA     \n",
       "    filt         callable     difficultregion arbitrated\n",
       "1                CS_HiSeq....                 NA        \n",
       "2   CS_Solid.... CS_HiSeq....                 NA        \n",
       "3   CS_Solid.... CS_HiSeq....                 NA        \n",
       "4   CS_CGnor.... CS_HiSeq.... AllRepea....    NA        \n",
       "5   CS_Solid.... CS_HiSeq....                 NA        \n",
       "6                CS_CGnor....                 NA        \n",
       "7   CS_HiSeq.... CS_HiSeq....                 NA        \n",
       "8   CS_Solid.... CS_CGnor....                 NA        \n",
       "9                CS_HiSeq....                 NA        \n",
       "10  CS_Solid.... CS_HiSeq....                 NA        \n",
       "11               CS_HiSeq....                 NA        \n",
       "12  CS_Solid.... CS_HiSeq....                 NA        \n",
       "13               CS_HiSeq....                 NA        \n",
       "14  CS_10XGA.... CS_HiSeq....                 NA        \n",
       "15  CS_Solid.... CS_HiSeq....                 NA        \n",
       "16  CS_Solid.... CS_HiSeq....                 NA        \n",
       "17               CS_HiSeq....                 NA        \n",
       "18  CS_Solid.... CS_HiSeq....                 NA        \n",
       "19  CS_Solid.... CS_HiSeq....                 NA        \n",
       "20  CS_Solid.... CS_HiSeq....                 NA        \n",
       "21  CS_Solid.... CS_HiSeq....                 NA        \n",
       "22               CS_HiSeq....                 NA        \n",
       "23  CS_CGnor.... CS_HiSeq.... AllRepea....    NA        \n",
       "24  CS_Solid.... CS_HiSeq....                 NA        \n",
       "25  CS_Solid.... CS_HiSeq....                 NA        \n",
       "26  CS_Solid.... CS_HiSeq....                 NA        \n",
       "27               CS_HiSeq.... AllRepea....    NA        \n",
       "28  CS_CGnor.... CS_HiSeq....                 NA        \n",
       "29  CS_HiSeq.... CS_HiSeq....                 NA        \n",
       "30  CS_HiSeq.... CS_HiSeq.... AllRepea....    NA        \n",
       "⋮   ⋮            ⋮            ⋮               ⋮         \n",
       "303              CS_HiSeq....                 NA        \n",
       "304 CS_Solid.... CS_HiSeq....                 NA        \n",
       "305 CS_Solid.... CS_HiSeq....                 NA        \n",
       "306              CS_HiSeq.... AllRepea....    NA        \n",
       "307 CS_Solid.... CS_HiSeq....                 NA        \n",
       "308              CS_HiSeq....                 NA        \n",
       "309 CS_CGnor.... CS_HiSeq.... AllRepea....    NA        \n",
       "310              CS_HiSeq....                 NA        \n",
       "311 CS_Solid.... CS_HiSeq....                 NA        \n",
       "312 CS_HiSeq.... CS_HiSeq....                 NA        \n",
       "313              CS_HiSeq....                 NA        \n",
       "314 CS_Solid.... CS_HiSeq....                 NA        \n",
       "315              CS_HiSeq....                 NA        \n",
       "316              CS_HiSeq....                 NA        \n",
       "317              CS_HiSeq....                 NA        \n",
       "318              CS_HiSeq.... AllRepea....    NA        \n",
       "319 CS_10XGA.... CS_HiSeq....                 NA        \n",
       "320              CS_HiSeq.... AllRepea....    NA        \n",
       "321 CS_Solid.... CS_HiSeq....                 NA        \n",
       "322              CS_HiSeq.... AllRepea....    NA        \n",
       "323              CS_HiSeq....                 NA        \n",
       "324 CS_Solid.... CS_HiSeq....                 NA        \n",
       "325 CS_CGnor.... CS_HiSeq....                 NA        \n",
       "326 CS_CGnor.... CS_HiSeq....                 NA        \n",
       "327 CS_Solid.... CS_HiSeq....                 NA        \n",
       "328 CS_Solid.... CS_HiSeq....                 NA        \n",
       "329 CS_Solid.... CS_HiSeq....                 NA        \n",
       "330 CS_Solid.... CS_HiSeq....                 NA        \n",
       "331              CS_HiSeq....                 NA        \n",
       "332 CS_CGnor.... CS_HiSeq.... AllRepea....    NA        \n",
       "    callsetwiththisuniqgenopassing callsetwithotheruniqgenopassing\n",
       "1                                                                 \n",
       "2                                                                 \n",
       "3                                                                 \n",
       "4                                                                 \n",
       "5                                                                 \n",
       "6                                                                 \n",
       "7                                                                 \n",
       "8                                                                 \n",
       "9                                                                 \n",
       "10                                                                \n",
       "11                                                                \n",
       "12                                                                \n",
       "13                                                                \n",
       "14                                                                \n",
       "15                                                                \n",
       "16                                                                \n",
       "17                                                                \n",
       "18                                                                \n",
       "19                                                                \n",
       "20                                                                \n",
       "21                                                                \n",
       "22                                                                \n",
       "23                                                                \n",
       "24                                                                \n",
       "25                                                                \n",
       "26                                                                \n",
       "27                                                                \n",
       "28                                                                \n",
       "29                                                                \n",
       "30                                                                \n",
       "⋮   ⋮                              ⋮                              \n",
       "303                                                               \n",
       "304                                                               \n",
       "305                                                               \n",
       "306                                                               \n",
       "307                                                               \n",
       "308                                                               \n",
       "309                                                               \n",
       "310                                                               \n",
       "311                                                               \n",
       "312                                                               \n",
       "313                                                               \n",
       "314                                                               \n",
       "315                                                               \n",
       "316                                                               \n",
       "317                                                               \n",
       "318                                                               \n",
       "319                                                               \n",
       "320                                                               \n",
       "321                                                               \n",
       "322                                                               \n",
       "323                                                               \n",
       "324                                                               \n",
       "325                                                               \n",
       "326                                                               \n",
       "327                                                               \n",
       "328                                                               \n",
       "329                                                               \n",
       "330                                                               \n",
       "331                                                               \n",
       "332                                                               "
      ]
     },
     "metadata": {},
     "output_type": "display_data"
    }
   ],
   "source": [
    "info(vcf) %>% # returns a DataFrame object\n",
    "  as.data.frame() %>%\n",
    "  rownames_to_column(\"ID\") %>%\n",
    "  as_tibble()"
   ]
  },
  {
   "cell_type": "markdown",
   "id": "d39551be-8294-46b6-baef-35e8ed53d353",
   "metadata": {},
   "source": [
    "The `FORMAT` column in the original VCF text file contains the format and description of the genotype fields. Let's see what these are."
   ]
  },
  {
   "cell_type": "code",
   "execution_count": 6,
   "id": "172db037-29a4-4fa8-b08e-18a208b617ee",
   "metadata": {
    "vscode": {
     "languageId": "r"
    }
   },
   "outputs": [
    {
     "data": {
      "text/html": [
       "<table class=\"dataframe\">\n",
       "<caption>A data.frame: 8 × 4</caption>\n",
       "<thead>\n",
       "\t<tr><th scope=col>colname</th><th scope=col>Number</th><th scope=col>Type</th><th scope=col>Description</th></tr>\n",
       "\t<tr><th scope=col>&lt;chr&gt;</th><th scope=col>&lt;chr&gt;</th><th scope=col>&lt;chr&gt;</th><th scope=col>&lt;chr&gt;</th></tr>\n",
       "</thead>\n",
       "<tbody>\n",
       "\t<tr><td>GT   </td><td>1</td><td>String </td><td>Consensus Genotype across all datasets with called genotype                                                                                          </td></tr>\n",
       "\t<tr><td>DP   </td><td>1</td><td>Integer</td><td>Total read depth summed across all datasets, excluding MQ0 reads                                                                                     </td></tr>\n",
       "\t<tr><td>GQ   </td><td>1</td><td>Integer</td><td>Net Genotype quality across all datasets, calculated from GQ scores of callsets supporting the consensus GT, using only one callset from each dataset</td></tr>\n",
       "\t<tr><td>ADALL</td><td>R</td><td>Integer</td><td>Net allele depths across all datasets                                                                                                                </td></tr>\n",
       "\t<tr><td>AD   </td><td>R</td><td>Integer</td><td>Net allele depths across all unfiltered datasets with called genotype                                                                                </td></tr>\n",
       "\t<tr><td>IGT  </td><td>1</td><td>String </td><td>Original input genotype                                                                                                                              </td></tr>\n",
       "\t<tr><td>IPS  </td><td>1</td><td>String </td><td>Phase set for IGT                                                                                                                                    </td></tr>\n",
       "\t<tr><td>PS   </td><td>1</td><td>String </td><td>Phase set for GT                                                                                                                                     </td></tr>\n",
       "</tbody>\n",
       "</table>\n"
      ],
      "text/latex": [
       "A data.frame: 8 × 4\n",
       "\\begin{tabular}{llll}\n",
       " colname & Number & Type & Description\\\\\n",
       " <chr> & <chr> & <chr> & <chr>\\\\\n",
       "\\hline\n",
       "\t GT    & 1 & String  & Consensus Genotype across all datasets with called genotype                                                                                          \\\\\n",
       "\t DP    & 1 & Integer & Total read depth summed across all datasets, excluding MQ0 reads                                                                                     \\\\\n",
       "\t GQ    & 1 & Integer & Net Genotype quality across all datasets, calculated from GQ scores of callsets supporting the consensus GT, using only one callset from each dataset\\\\\n",
       "\t ADALL & R & Integer & Net allele depths across all datasets                                                                                                                \\\\\n",
       "\t AD    & R & Integer & Net allele depths across all unfiltered datasets with called genotype                                                                                \\\\\n",
       "\t IGT   & 1 & String  & Original input genotype                                                                                                                              \\\\\n",
       "\t IPS   & 1 & String  & Phase set for IGT                                                                                                                                    \\\\\n",
       "\t PS    & 1 & String  & Phase set for GT                                                                                                                                     \\\\\n",
       "\\end{tabular}\n"
      ],
      "text/markdown": [
       "\n",
       "A data.frame: 8 × 4\n",
       "\n",
       "| colname &lt;chr&gt; | Number &lt;chr&gt; | Type &lt;chr&gt; | Description &lt;chr&gt; |\n",
       "|---|---|---|---|\n",
       "| GT    | 1 | String  | Consensus Genotype across all datasets with called genotype                                                                                           |\n",
       "| DP    | 1 | Integer | Total read depth summed across all datasets, excluding MQ0 reads                                                                                      |\n",
       "| GQ    | 1 | Integer | Net Genotype quality across all datasets, calculated from GQ scores of callsets supporting the consensus GT, using only one callset from each dataset |\n",
       "| ADALL | R | Integer | Net allele depths across all datasets                                                                                                                 |\n",
       "| AD    | R | Integer | Net allele depths across all unfiltered datasets with called genotype                                                                                 |\n",
       "| IGT   | 1 | String  | Original input genotype                                                                                                                               |\n",
       "| IPS   | 1 | String  | Phase set for IGT                                                                                                                                     |\n",
       "| PS    | 1 | String  | Phase set for GT                                                                                                                                      |\n",
       "\n"
      ],
      "text/plain": [
       "  colname Number Type   \n",
       "1 GT      1      String \n",
       "2 DP      1      Integer\n",
       "3 GQ      1      Integer\n",
       "4 ADALL   R      Integer\n",
       "5 AD      R      Integer\n",
       "6 IGT     1      String \n",
       "7 IPS     1      String \n",
       "8 PS      1      String \n",
       "  Description                                                                                                                                          \n",
       "1 Consensus Genotype across all datasets with called genotype                                                                                          \n",
       "2 Total read depth summed across all datasets, excluding MQ0 reads                                                                                     \n",
       "3 Net Genotype quality across all datasets, calculated from GQ scores of callsets supporting the consensus GT, using only one callset from each dataset\n",
       "4 Net allele depths across all datasets                                                                                                                \n",
       "5 Net allele depths across all unfiltered datasets with called genotype                                                                                \n",
       "6 Original input genotype                                                                                                                              \n",
       "7 Phase set for IGT                                                                                                                                    \n",
       "8 Phase set for GT                                                                                                                                     "
      ]
     },
     "metadata": {},
     "output_type": "display_data"
    }
   ],
   "source": [
    "geno(header(vcf)) %>%\n",
    "  as.data.frame() %>%\n",
    "  rownames_to_column(\"colname\")"
   ]
  },
  {
   "cell_type": "markdown",
   "id": "91403d0d-03b0-4576-9bc2-4eb5e57e6e3d",
   "metadata": {},
   "source": [
    "### c. Inspect the genotype, read depth, and allele depth inforation.\n",
    "To see the genotype `GT`, read depth `DP`, and allele depth `AD`, we access the the list."
   ]
  },
  {
   "cell_type": "code",
   "execution_count": 7,
   "id": "53379e79-f1cc-48a1-9215-3c42844c6627",
   "metadata": {
    "vscode": {
     "languageId": "r"
    }
   },
   "outputs": [
    {
     "data": {
      "text/html": [
       "<style>\n",
       ".list-inline {list-style: none; margin:0; padding: 0}\n",
       ".list-inline>li {display: inline-block}\n",
       ".list-inline>li:not(:last-child)::after {content: \"\\00b7\"; padding: 0 .5ex}\n",
       "</style>\n",
       "<ol class=list-inline><li>'1|1'</li><li>'1|1'</li><li>'1|1'</li><li>'1|1'</li><li>'1|1'</li></ol>\n"
      ],
      "text/latex": [
       "\\begin{enumerate*}\n",
       "\\item '1\\textbar{}1'\n",
       "\\item '1\\textbar{}1'\n",
       "\\item '1\\textbar{}1'\n",
       "\\item '1\\textbar{}1'\n",
       "\\item '1\\textbar{}1'\n",
       "\\end{enumerate*}\n"
      ],
      "text/markdown": [
       "1. '1|1'\n",
       "2. '1|1'\n",
       "3. '1|1'\n",
       "4. '1|1'\n",
       "5. '1|1'\n",
       "\n",
       "\n"
      ],
      "text/plain": [
       "[1] \"1|1\" \"1|1\" \"1|1\" \"1|1\" \"1|1\""
      ]
     },
     "metadata": {},
     "output_type": "display_data"
    },
    {
     "data": {
      "text/html": [
       "<style>\n",
       ".list-inline {list-style: none; margin:0; padding: 0}\n",
       ".list-inline>li {display: inline-block}\n",
       ".list-inline>li:not(:last-child)::after {content: \"\\00b7\"; padding: 0 .5ex}\n",
       "</style>\n",
       "<ol class=list-inline><li>675</li><li>607</li><li>528</li><li>470</li><li>718</li></ol>\n"
      ],
      "text/latex": [
       "\\begin{enumerate*}\n",
       "\\item 675\n",
       "\\item 607\n",
       "\\item 528\n",
       "\\item 470\n",
       "\\item 718\n",
       "\\end{enumerate*}\n"
      ],
      "text/markdown": [
       "1. 675\n",
       "2. 607\n",
       "3. 528\n",
       "4. 470\n",
       "5. 718\n",
       "\n",
       "\n"
      ],
      "text/plain": [
       "[1] 675 607 528 470 718"
      ]
     },
     "metadata": {},
     "output_type": "display_data"
    },
    {
     "data": {
      "text/html": [
       "<ol>\n",
       "\t<li><style>\n",
       ".list-inline {list-style: none; margin:0; padding: 0}\n",
       ".list-inline>li {display: inline-block}\n",
       ".list-inline>li:not(:last-child)::after {content: \"\\00b7\"; padding: 0 .5ex}\n",
       "</style>\n",
       "<ol class=list-inline><li>95</li><li>372</li></ol>\n",
       "</li>\n",
       "\t<li><style>\n",
       ".list-inline {list-style: none; margin:0; padding: 0}\n",
       ".list-inline>li {display: inline-block}\n",
       ".list-inline>li:not(:last-child)::after {content: \"\\00b7\"; padding: 0 .5ex}\n",
       "</style>\n",
       "<ol class=list-inline><li>77</li><li>334</li></ol>\n",
       "</li>\n",
       "\t<li><style>\n",
       ".list-inline {list-style: none; margin:0; padding: 0}\n",
       ".list-inline>li {display: inline-block}\n",
       ".list-inline>li:not(:last-child)::after {content: \"\\00b7\"; padding: 0 .5ex}\n",
       "</style>\n",
       "<ol class=list-inline><li>66</li><li>292</li></ol>\n",
       "</li>\n",
       "\t<li><style>\n",
       ".list-inline {list-style: none; margin:0; padding: 0}\n",
       ".list-inline>li {display: inline-block}\n",
       ".list-inline>li:not(:last-child)::after {content: \"\\00b7\"; padding: 0 .5ex}\n",
       "</style>\n",
       "<ol class=list-inline><li>0</li><li>223</li></ol>\n",
       "</li>\n",
       "\t<li><style>\n",
       ".list-inline {list-style: none; margin:0; padding: 0}\n",
       ".list-inline>li {display: inline-block}\n",
       ".list-inline>li:not(:last-child)::after {content: \"\\00b7\"; padding: 0 .5ex}\n",
       "</style>\n",
       "<ol class=list-inline><li>97</li><li>393</li></ol>\n",
       "</li>\n",
       "</ol>\n"
      ],
      "text/latex": [
       "\\begin{enumerate}\n",
       "\\item \\begin{enumerate*}\n",
       "\\item 95\n",
       "\\item 372\n",
       "\\end{enumerate*}\n",
       "\n",
       "\\item \\begin{enumerate*}\n",
       "\\item 77\n",
       "\\item 334\n",
       "\\end{enumerate*}\n",
       "\n",
       "\\item \\begin{enumerate*}\n",
       "\\item 66\n",
       "\\item 292\n",
       "\\end{enumerate*}\n",
       "\n",
       "\\item \\begin{enumerate*}\n",
       "\\item 0\n",
       "\\item 223\n",
       "\\end{enumerate*}\n",
       "\n",
       "\\item \\begin{enumerate*}\n",
       "\\item 97\n",
       "\\item 393\n",
       "\\end{enumerate*}\n",
       "\n",
       "\\end{enumerate}\n"
      ],
      "text/markdown": [
       "1. 1. 95\n",
       "2. 372\n",
       "\n",
       "\n",
       "\n",
       "2. 1. 77\n",
       "2. 334\n",
       "\n",
       "\n",
       "\n",
       "3. 1. 66\n",
       "2. 292\n",
       "\n",
       "\n",
       "\n",
       "4. 1. 0\n",
       "2. 223\n",
       "\n",
       "\n",
       "\n",
       "5. 1. 97\n",
       "2. 393\n",
       "\n",
       "\n",
       "\n",
       "\n",
       "\n"
      ],
      "text/plain": [
       "[[1]]\n",
       "[1]  95 372\n",
       "\n",
       "[[2]]\n",
       "[1]  77 334\n",
       "\n",
       "[[3]]\n",
       "[1]  66 292\n",
       "\n",
       "[[4]]\n",
       "[1]   0 223\n",
       "\n",
       "[[5]]\n",
       "[1]  97 393\n"
      ]
     },
     "metadata": {},
     "output_type": "display_data"
    }
   ],
   "source": [
    "geno(vcf)$GT[1:5]\n",
    "geno(vcf)$DP[1:5]\n",
    "geno(vcf)$AD[1:5]"
   ]
  },
  {
   "cell_type": "markdown",
   "id": "1442b631-3f63-41eb-b655-123225ec8c4b",
   "metadata": {},
   "source": [
    "### d. Combine all `geno` fields into a single table.\n",
    "You can also combine all fields into a `data.frame` object. But this code only works if the VCF contains a single sample."
   ]
  },
  {
   "cell_type": "code",
   "execution_count": 8,
   "id": "172cd4c5-92aa-4f1b-aaa4-8d209bc60e7c",
   "metadata": {
    "vscode": {
     "languageId": "r"
    }
   },
   "outputs": [
    {
     "name": "stderr",
     "output_type": "stream",
     "text": [
      "\u001b[1m\u001b[22mNew names:\n",
      "\u001b[36m•\u001b[39m `HG001` -> `HG001...1`\n",
      "\u001b[36m•\u001b[39m `HG001` -> `HG001...2`\n",
      "\u001b[36m•\u001b[39m `HG001` -> `HG001...3`\n",
      "\u001b[36m•\u001b[39m `HG001` -> `HG001...4`\n",
      "\u001b[36m•\u001b[39m `HG001` -> `HG001...5`\n",
      "\u001b[36m•\u001b[39m `HG001` -> `HG001...6`\n",
      "\u001b[36m•\u001b[39m `HG001` -> `HG001...7`\n",
      "\u001b[36m•\u001b[39m `HG001` -> `HG001...8`\n"
     ]
    },
    {
     "data": {
      "text/html": [
       "<table class=\"dataframe\">\n",
       "<caption>A data.frame: 10 × 8</caption>\n",
       "<thead>\n",
       "\t<tr><th></th><th scope=col>GT</th><th scope=col>DP</th><th scope=col>GQ</th><th scope=col>ADALL</th><th scope=col>AD</th><th scope=col>IGT</th><th scope=col>IPS</th><th scope=col>PS</th></tr>\n",
       "\t<tr><th></th><th scope=col>&lt;chr&gt;</th><th scope=col>&lt;int&gt;</th><th scope=col>&lt;int&gt;</th><th scope=col>&lt;named list&gt;</th><th scope=col>&lt;named list&gt;</th><th scope=col>&lt;chr&gt;</th><th scope=col>&lt;chr&gt;</th><th scope=col>&lt;chr&gt;</th></tr>\n",
       "</thead>\n",
       "<tbody>\n",
       "\t<tr><th scope=row>rs2411161</th><td>1|1</td><td>675</td><td> 405</td><td>1, 301</td><td>95, 372</td><td>1/1</td><td>.</td><td>PATMAT</td></tr>\n",
       "\t<tr><th scope=row>rs8073074</th><td>1|1</td><td>607</td><td> 387</td><td>0, 278</td><td>77, 334</td><td>1/1</td><td>.</td><td>PATMAT</td></tr>\n",
       "\t<tr><th scope=row>rs4523972</th><td>1|1</td><td>528</td><td> 290</td><td>1, 230</td><td>66, 292</td><td>1/1</td><td>.</td><td>PATMAT</td></tr>\n",
       "\t<tr><th scope=row>rs111498996</th><td>1|1</td><td>470</td><td>  99</td><td>0, 223</td><td>0, 223</td><td>1/1</td><td>.</td><td>PATMAT</td></tr>\n",
       "\t<tr><th scope=row>rs8077266</th><td>1|1</td><td>718</td><td> 452</td><td>0, 328</td><td>97, 393</td><td>1/1</td><td>.</td><td>PATMAT</td></tr>\n",
       "\t<tr><th scope=row>rs75773263</th><td>1|1</td><td>773</td><td> 233</td><td>0, 378</td><td>31, 31</td><td>1/1</td><td>.</td><td>PATMAT</td></tr>\n",
       "\t<tr><th scope=row>rs725038</th><td>1|1</td><td>896</td><td> 287</td><td>0, 442</td><td>51, 51</td><td>1/1</td><td>.</td><td>PATMAT</td></tr>\n",
       "\t<tr><th scope=row>rs10664252</th><td>1|1</td><td>577</td><td> 366</td><td>0, 265</td><td>68, 68</td><td>1/1</td><td>.</td><td>PATMAT</td></tr>\n",
       "\t<tr><th scope=row>rs11655013</th><td>0|1</td><td>720</td><td>1197</td><td>159, 155</td><td>206, 193</td><td>0/1</td><td>.</td><td>PATMAT</td></tr>\n",
       "\t<tr><th scope=row>rs9906543</th><td>1|1</td><td>730</td><td> 458</td><td>0, 315</td><td>119, 420</td><td>1/1</td><td>.</td><td>PATMAT</td></tr>\n",
       "</tbody>\n",
       "</table>\n"
      ],
      "text/latex": [
       "A data.frame: 10 × 8\n",
       "\\begin{tabular}{r|llllllll}\n",
       "  & GT & DP & GQ & ADALL & AD & IGT & IPS & PS\\\\\n",
       "  & <chr> & <int> & <int> & <named list> & <named list> & <chr> & <chr> & <chr>\\\\\n",
       "\\hline\n",
       "\trs2411161 & 1\\textbar{}1 & 675 &  405 & 1, 301 & 95, 372 & 1/1 & . & PATMAT\\\\\n",
       "\trs8073074 & 1\\textbar{}1 & 607 &  387 & 0, 278 & 77, 334 & 1/1 & . & PATMAT\\\\\n",
       "\trs4523972 & 1\\textbar{}1 & 528 &  290 & 1, 230 & 66, 292 & 1/1 & . & PATMAT\\\\\n",
       "\trs111498996 & 1\\textbar{}1 & 470 &   99 & 0, 223 & 0, 223 & 1/1 & . & PATMAT\\\\\n",
       "\trs8077266 & 1\\textbar{}1 & 718 &  452 & 0, 328 & 97, 393 & 1/1 & . & PATMAT\\\\\n",
       "\trs75773263 & 1\\textbar{}1 & 773 &  233 & 0, 378 & 31, 31 & 1/1 & . & PATMAT\\\\\n",
       "\trs725038 & 1\\textbar{}1 & 896 &  287 & 0, 442 & 51, 51 & 1/1 & . & PATMAT\\\\\n",
       "\trs10664252 & 1\\textbar{}1 & 577 &  366 & 0, 265 & 68, 68 & 1/1 & . & PATMAT\\\\\n",
       "\trs11655013 & 0\\textbar{}1 & 720 & 1197 & 159, 155 & 206, 193 & 0/1 & . & PATMAT\\\\\n",
       "\trs9906543 & 1\\textbar{}1 & 730 &  458 & 0, 315 & 119, 420 & 1/1 & . & PATMAT\\\\\n",
       "\\end{tabular}\n"
      ],
      "text/markdown": [
       "\n",
       "A data.frame: 10 × 8\n",
       "\n",
       "| <!--/--> | GT &lt;chr&gt; | DP &lt;int&gt; | GQ &lt;int&gt; | ADALL &lt;named list&gt; | AD &lt;named list&gt; | IGT &lt;chr&gt; | IPS &lt;chr&gt; | PS &lt;chr&gt; |\n",
       "|---|---|---|---|---|---|---|---|---|\n",
       "| rs2411161 | 1|1 | 675 |  405 | 1, 301 | 95, 372 | 1/1 | . | PATMAT |\n",
       "| rs8073074 | 1|1 | 607 |  387 | 0, 278 | 77, 334 | 1/1 | . | PATMAT |\n",
       "| rs4523972 | 1|1 | 528 |  290 | 1, 230 | 66, 292 | 1/1 | . | PATMAT |\n",
       "| rs111498996 | 1|1 | 470 |   99 | 0, 223 | 0, 223 | 1/1 | . | PATMAT |\n",
       "| rs8077266 | 1|1 | 718 |  452 | 0, 328 | 97, 393 | 1/1 | . | PATMAT |\n",
       "| rs75773263 | 1|1 | 773 |  233 | 0, 378 | 31, 31 | 1/1 | . | PATMAT |\n",
       "| rs725038 | 1|1 | 896 |  287 | 0, 442 | 51, 51 | 1/1 | . | PATMAT |\n",
       "| rs10664252 | 1|1 | 577 |  366 | 0, 265 | 68, 68 | 1/1 | . | PATMAT |\n",
       "| rs11655013 | 0|1 | 720 | 1197 | 159, 155 | 206, 193 | 0/1 | . | PATMAT |\n",
       "| rs9906543 | 1|1 | 730 |  458 | 0, 315 | 119, 420 | 1/1 | . | PATMAT |\n",
       "\n"
      ],
      "text/plain": [
       "            GT  DP  GQ   ADALL    AD       IGT IPS PS    \n",
       "rs2411161   1|1 675  405 1, 301   95, 372  1/1 .   PATMAT\n",
       "rs8073074   1|1 607  387 0, 278   77, 334  1/1 .   PATMAT\n",
       "rs4523972   1|1 528  290 1, 230   66, 292  1/1 .   PATMAT\n",
       "rs111498996 1|1 470   99 0, 223   0, 223   1/1 .   PATMAT\n",
       "rs8077266   1|1 718  452 0, 328   97, 393  1/1 .   PATMAT\n",
       "rs75773263  1|1 773  233 0, 378   31, 31   1/1 .   PATMAT\n",
       "rs725038    1|1 896  287 0, 442   51, 51   1/1 .   PATMAT\n",
       "rs10664252  1|1 577  366 0, 265   68, 68   1/1 .   PATMAT\n",
       "rs11655013  0|1 720 1197 159, 155 206, 193 0/1 .   PATMAT\n",
       "rs9906543   1|1 730  458 0, 315   119, 420 1/1 .   PATMAT"
      ]
     },
     "metadata": {},
     "output_type": "display_data"
    }
   ],
   "source": [
    "genoData <- bind_cols(lapply(geno(vcf), as.data.frame))\n",
    "colnames(genoData) <- rownames(geno(header(vcf)))\n",
    "genoData[1:10,]"
   ]
  },
  {
   "cell_type": "markdown",
   "id": "1317e668-a50b-47f8-8021-078aa4603c01",
   "metadata": {},
   "source": [
    "## Exercise 3: Reading variants from a VCF file.\n",
    "\n",
    "### a. Create a range for `8:128747680-128753680`."
   ]
  },
  {
   "cell_type": "code",
   "execution_count": 9,
   "id": "f620a33a-abfd-465c-a639-dc2c421589bd",
   "metadata": {
    "vscode": {
     "languageId": "r"
    }
   },
   "outputs": [],
   "source": [
    "# GRanges()"
   ]
  },
  {
   "cell_type": "markdown",
   "id": "0aa9a069-0f28-4168-8800-57e31c4982a5",
   "metadata": {},
   "source": [
    "### b. Setup parameters to read VCF."
   ]
  },
  {
   "cell_type": "code",
   "execution_count": 10,
   "id": "c819d38b-3191-48f6-b055-25df5f9bd0f5",
   "metadata": {
    "vscode": {
     "languageId": "r"
    }
   },
   "outputs": [],
   "source": [
    "# ScanVcfParam"
   ]
  },
  {
   "cell_type": "markdown",
   "id": "c75ec437-1245-45a5-b57a-3a88716ac732",
   "metadata": {},
   "source": [
    "### c. Read the VCF file at `8:128747680-128753680`"
   ]
  },
  {
   "cell_type": "code",
   "execution_count": 11,
   "id": "7edcbf3b-637f-48cc-bbb0-0245d949ec20",
   "metadata": {
    "vscode": {
     "languageId": "r"
    }
   },
   "outputs": [],
   "source": [
    "# readVcf"
   ]
  },
  {
   "cell_type": "markdown",
   "id": "a5070f0b-cef1-43b3-ba80-fc2e8489bcff",
   "metadata": {},
   "source": [
    "### d. What is the RS id, genotype (`GT`) and depth (`DP`) at the SNP in this locus?"
   ]
  },
  {
   "cell_type": "code",
   "execution_count": 12,
   "id": "d3b6c84b-0f65-43e2-8f97-eb6dd69d040c",
   "metadata": {
    "vscode": {
     "languageId": "r"
    }
   },
   "outputs": [],
   "source": [
    "# geno()"
   ]
  }
 ],
 "metadata": {
  "kernelspec": {
   "display_name": "R",
   "language": "R",
   "name": "ir"
  },
  "language_info": {
   "codemirror_mode": "r",
   "file_extension": ".r",
   "mimetype": "text/x-r-source",
   "name": "R",
   "pygments_lexer": "r",
   "version": "4.1.3"
  }
 },
 "nbformat": 4,
 "nbformat_minor": 5
}
